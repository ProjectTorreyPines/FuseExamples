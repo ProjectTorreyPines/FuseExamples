{
 "cells": [
  {
   "cell_type": "code",
   "execution_count": null,
   "metadata": {},
   "outputs": [],
   "source": [
    "# For developers:\n",
    "#using Pkg\n",
    "#Pkg.activate(\"../FUSE/\")\n",
    "using Plots # for plotting\n",
    "using FUSE # this will also import IMAS in the current namespace\n",
    "using TGLFNN"
   ]
  },
  {
   "cell_type": "markdown",
   "metadata": {},
   "source": [
    "The FUSE flux-matcher has been developed at General Atomics with algorithms based on the TGYRO flux-matcher and an optimizer that is more advanced."
   ]
  },
  {
   "cell_type": "code",
   "execution_count": null,
   "metadata": {},
   "outputs": [],
   "source": [
    "# Flux-match the DIII-D standard FUSE L-mode case\n",
    "ini, act = FUSE.case_parameters(:D3D, :L_mode);      # This line can take 15 minutes to run when run for the first time in your project (compilation time)\n",
    "dd = IMAS.dd()\n",
    "FUSE.init(dd, ini, act);                         \n",
    "act.ActorCoreTransport.model = :FluxMatcher;\n",
    "act.ActorTGLF.warn_nn_train_bounds = false           # print warnings about leaving NN training bounds\n",
    "act.ActorTGLF.model = :TGLFNN                        # can be :TGLFNN, :TJLF (Julia version of Fortran TGLF), :TGLF (needs GACODE insalled), :QLGYRO (needs GACODE installed)\n",
    "act.ActorTGLF.onnx_model = false                     # you can run your own PyTorch-trained model saved in ONNX format and placed in TGLFNN repo here: /home/<user>/.julia/dev/TGLFNN/models/\n",
    "act.ActorTGLF.tglfnn_model = \"sat1_em_d3d_azf-1\"     # NN model can be symbol (e.g. :sat1), or string of model name (e.g. \"sat2_em_d3d_azf-1\")\n",
    "act.ActorTGLF.electromagnetic = true                 # this setting is not relevant for NNs, which have fixed settings from training database\n",
    "\n",
    "act.ActorFluxMatcher.rho_transport = 0.1:0.05:0.85\n",
    "act.ActorFluxMatcher.max_iterations = 500\n",
    "act.ActorFluxMatcher.optimizer_algorithm = :anderson #:simple (best only if monotonically increasing profiles), :anderson, or :jacobian_based\n",
    "act.ActorFluxMatcher.step_size = 0.5\n",
    "act.ActorFluxMatcher.verbose = true\n",
    "act.ActorFluxMatcher.evolve_rotation = :flux_match   # :flux_match or :fixed\n",
    "act.ActorFluxMatcher.evolve_pedestal = false         # take experimental pedestal\n",
    "act.ActorFluxMatcher.evolve_densities = :flux_match  # :flux_match or :fixed\n",
    "\n",
    "# Show profiles before flux-matcher run\n",
    "display(act.ActorFluxMatcher)\n",
    "dd_old = deepcopy(dd)\n",
    "\n",
    "#FUSE.ActorPedestal(dd,act)\n",
    "actor_transport = FUSE.ActorFluxMatcher(dd, act)\n",
    "\n",
    "# show after\n",
    "display(plot(dd_old.core_profiles, label=\" Experiment\"))\n",
    "display(plot!(dd.core_profiles, label=\" TGLF-NN\"))\n",
    "\n",
    "# plot the flux_matching\n",
    "display(plot(dd.core_transport))"
   ]
  },
  {
   "cell_type": "code",
   "execution_count": null,
   "metadata": {},
   "outputs": [],
   "source": [
    "# Flux-match the DIII-D standard FUSE H-mode case\n",
    "ini, act = FUSE.case_parameters(:D3D, :H_mode);        # This line can take 15 minutes to run when run for the first time in your project (compilation time)\n",
    "dd = IMAS.dd()\n",
    "FUSE.init(dd, ini, act);                         \n",
    "act.ActorCoreTransport.model = :FluxMatcher;\n",
    "act.ActorTGLF.warn_nn_train_bounds = false             # print warnings about leaving NN training bounds\n",
    "act.ActorTGLF.model = :TGLFNN                          # can be :TGLFNN, :TJLF (Julia version of Fortran TGLF), :TGLF (needs GACODE insalled), :QLGYRO (needs GACODE installed)\n",
    "act.ActorTGLF.onnx_model = false                       # you can run your own PyTorch-trained model saved in ONNX format and placed in TGLFNN repo here: /home/<user>/.julia/dev/TGLFNN/models/\n",
    "act.ActorTGLF.tglfnn_model = \"sat3_em_d3d_azf-1\"       # NN model can be symbol (e.g. :sat1), or string of model name (e.g. \"sat2_em_d3d_azf-1\")\n",
    "act.ActorTGLF.electromagnetic = true                   # this setting is not relevant for NNs, which have fixed settings from training database\n",
    "\n",
    "act.ActorFluxMatcher.rho_transport = 0.1:0.05:0.85\n",
    "act.ActorFluxMatcher.max_iterations = 1000\n",
    "act.ActorFluxMatcher.optimizer_algorithm = :anderson   #:simple (best only if monotonically increasing profiles), :anderson, or :jacobian_based\n",
    "act.ActorFluxMatcher.step_size = 1.0\n",
    "act.ActorFluxMatcher.verbose = true\n",
    "act.ActorFluxMatcher.evolve_rotation = :flux_match     # :flux_match or :fixed\n",
    "act.ActorFluxMatcher.evolve_pedestal = false           # take experimental pedestal\n",
    "act.ActorFluxMatcher.evolve_densities = :flux_match    # :flux_match or :fixed\n",
    "\n",
    "# Show profiles before flux-matcher run\n",
    "display(act.ActorFluxMatcher)\n",
    "dd_old = deepcopy(dd)\n",
    "\n",
    "#FUSE.ActorPedestal(dd,act)\n",
    "actor_transport = FUSE.ActorFluxMatcher(dd, act)\n",
    "\n",
    "# show after\n",
    "display(plot(dd_old.core_profiles, label=\" Experiment\"))\n",
    "display(plot!(dd.core_profiles, label=\" TGLF-NN\"))\n",
    "\n",
    "# plot the flux_matching\n",
    "display(plot(dd.core_transport))"
   ]
  }
 ],
 "metadata": {
  "kernelspec": {
   "display_name": "Julia 1.11.4",
   "language": "julia",
   "name": "julia-1.11"
  },
  "language_info": {
   "file_extension": ".jl",
   "mimetype": "application/julia",
   "name": "julia",
   "version": "1.11.4"
  }
 },
 "nbformat": 4,
 "nbformat_minor": 2
}
