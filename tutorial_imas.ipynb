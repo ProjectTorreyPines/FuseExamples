{
 "cells": [
  {
   "cell_type": "markdown",
   "id": "e5c32bf2",
   "metadata": {},
   "source": [
    "# IMAS Introductory Tutorial"
   ]
  },
  {
   "cell_type": "markdown",
   "id": "4e184f82-3278-4ed2-8a32-2dc8d972926b",
   "metadata": {},
   "source": [
    "Download this tutorial from the [FuseExamples repository](https://github.com/ProjectTorreyPines/FuseExamples/blob/master/tutorial.ipynb)\n",
    "\n",
    "## Two packages: IMASdd.jl and IMAS.jl\n",
    "\n",
    "**IMASdd.jl** is a Julia package that allows manipulating data according to the ITER Modeling and Analysis Suite (IMAS) data schema, also known as the ITER Physics Data Model (PDM) [Imbeaux NF 2015].\n",
    "Importantly, IMASdd.jl does not use the native IMAS API, but instead implements everything natively in Julia.\n",
    "https://projecttorreypines.github.io/IMAS.jl/stable/\n",
    "\n",
    "**IMAS.jl** provides a comprehensive set of mathematical, physics, engineering, and plotting routines. This eliminates the need for individual packages to re-implement these functionalities.\n",
    "https://projecttorreypines.github.io/IMASdd.jl/stable/\n",
    "\n",
    "## Basic concepts\n",
    "IMAS is a standardized data structures for storing experimental and simulation tokamak data\n",
    "* The interface data structures (IDS) are defined here: https://imas-data-dictionary.readthedocs.io/en/latest/reference_ids.html\n",
    "* The root of the data structure is `dd`, which stands for \"Data Dictionary\"  \n",
    "* IDSs in IMASdd.jl are defined as [nested julia structures](https://raw.githubusercontent.com/ProjectTorreyPines/IMASdd.jl/refs/heads/master/src/dd.jl)"
   ]
  },
  {
   "cell_type": "code",
   "execution_count": null,
   "id": "2a5a7f02-d237-4f5a-83a2-4403a2ba98d8",
   "metadata": {
    "tags": []
   },
   "outputs": [],
   "source": [
    "using Plots\n",
    "using IMAS # all the functionalities of IMASdd are exposed by the IMAS package"
   ]
  },
  {
   "cell_type": "markdown",
   "id": "8ffe29d0-0427-49d2-9960-f510c1eb10db",
   "metadata": {
    "execution": {
     "iopub.execute_input": "2025-07-28T11:49:52.448000Z",
     "iopub.status.busy": "2025-07-28T11:49:52.447000Z",
     "iopub.status.idle": "2025-07-28T11:49:52.466000Z",
     "shell.execute_reply": "2025-07-28T11:49:52.465000Z"
    },
    "tags": []
   },
   "source": [
    "## Basic IMAS usage"
   ]
  },
  {
   "cell_type": "code",
   "execution_count": null,
   "id": "439dc4ca-2706-4a3d-b306-48a486c473f2",
   "metadata": {
    "tags": []
   },
   "outputs": [],
   "source": [
    "# an empty dd\n",
    "dd = IMAS.dd();"
   ]
  },
  {
   "cell_type": "code",
   "execution_count": null,
   "id": "74a61a99-0e14-4d45-8eac-3c5287e72f2f",
   "metadata": {
    "tags": []
   },
   "outputs": [],
   "source": [
    "# with the following IDSs\n",
    "keys(dd)"
   ]
  },
  {
   "cell_type": "code",
   "execution_count": null,
   "id": "64e93a95-476d-4217-90fe-0116d92b5eab",
   "metadata": {
    "tags": []
   },
   "outputs": [],
   "source": [
    "# view the help for one of the IDSs\n",
    "help(dd.equilibrium; maxdepth=2)"
   ]
  },
  {
   "cell_type": "code",
   "execution_count": null,
   "id": "bec1318e-b586-4ecd-9d40-d2c9e02c4d7d",
   "metadata": {
    "tags": []
   },
   "outputs": [],
   "source": [
    "# add some data\n",
    "dd.equilibrium.vacuum_toroidal_field.r0 = 1.7 # a Float64"
   ]
  },
  {
   "cell_type": "code",
   "execution_count": null,
   "id": "f920c38f-0887-416f-be93-315f9bd58781",
   "metadata": {
    "tags": []
   },
   "outputs": [],
   "source": [
    "# must assign coordinates before data\n",
    "dd.equilibrium.vacuum_toroidal_field.b0 = [2.0]"
   ]
  },
  {
   "cell_type": "code",
   "execution_count": null,
   "id": "a86549eb-5820-485d-8671-02fdd95f1028",
   "metadata": {
    "tags": []
   },
   "outputs": [],
   "source": [
    "dd.equilibrium.time = [1.0]\n",
    "dd.equilibrium.vacuum_toroidal_field.b0 = [2.0]"
   ]
  },
  {
   "cell_type": "code",
   "execution_count": null,
   "id": "2b0bd81c-c7aa-4ec5-8af7-1d6fed0a46bb",
   "metadata": {
    "tags": []
   },
   "outputs": [],
   "source": [
    "# IMAS.coordinates() returns what are the coordinates\n",
    "IMAS.coordinates(dd.equilibrium.vacuum_toroidal_field, :b0)"
   ]
  },
  {
   "cell_type": "code",
   "execution_count": null,
   "id": "c60d9995-a355-49ee-a21c-cee98caa11ce",
   "metadata": {
    "tags": []
   },
   "outputs": [],
   "source": [
    "# IMAS.units() returns what are the units\n",
    "IMAS.units(dd.equilibrium.vacuum_toroidal_field, :b0)"
   ]
  },
  {
   "cell_type": "markdown",
   "id": "a245a7fb-77a4-4c35-a026-19b2c99085e0",
   "metadata": {
    "execution": {
     "iopub.execute_input": "2025-07-28T12:16:54.784000Z",
     "iopub.status.busy": "2025-07-28T12:16:54.784000Z",
     "iopub.status.idle": "2025-07-28T12:16:54.849000Z",
     "shell.execute_reply": "2025-07-28T12:16:54.849000Z"
    },
    "tags": []
   },
   "source": [
    "## Working with arrays of structures"
   ]
  },
  {
   "cell_type": "code",
   "execution_count": null,
   "id": "1f3c8891-ae4c-4525-8363-b5cff0b39446",
   "metadata": {
    "tags": []
   },
   "outputs": [],
   "source": [
    "# must `resize!()` arrays of structures before using them\n",
    "resize!(dd.equilibrium.time_slice, 1)"
   ]
  },
  {
   "cell_type": "code",
   "execution_count": null,
   "id": "a0261c9e-77e3-4166-a936-91a4c97d942d",
   "metadata": {
    "tags": []
   },
   "outputs": [],
   "source": [
    "# Resize with conditions - useful for sources, coils, etc.\n",
    "source1 = resize!(dd.core_sources.source, \"identifier.index\" => 1)\n",
    "source1.identifier.name = \"hello\"\n",
    "source2 = resize!(dd.core_sources.source, \"identifier.index\" => 2)\n",
    "source1 = resize!(dd.core_sources.source, \"identifier.index\" => 1)  # Won't add duplicate, but will wipe\n",
    "dd.core_sources.source"
   ]
  },
  {
   "cell_type": "code",
   "execution_count": null,
   "id": "bed4eca1-b79d-4c73-81e7-ba957a8a76c2",
   "metadata": {
    "tags": []
   },
   "outputs": [],
   "source": [
    "# by default resize!() operations will wipe the content of IDSs\n",
    "# however this may not be always desirable. In this case one can use the `wipe=false` keyword argument.\n",
    "source1 = resize!(dd.core_sources.source, \"identifier.index\" => 1)\n",
    "source1.identifier.name = \"hello\"\n",
    "source2 = resize!(dd.core_sources.source, \"identifier.index\" => 2)\n",
    "source1 = resize!(dd.core_sources.source, \"identifier.index\" => 1; wipe=false)  # Won't add duplicate, and will not wipte\n",
    "dd.core_sources.source"
   ]
  },
  {
   "cell_type": "code",
   "execution_count": null,
   "id": "9a6161c1-cf04-490d-aa2a-218b5497f081",
   "metadata": {
    "tags": []
   },
   "outputs": [],
   "source": [
    "# use classic Julia array functions to manage arrays of structures (empty!, pop!, popat!, deleteat!, push!, pushfirst!, ...)\n",
    "empty!(dd.core_sources.source)"
   ]
  },
  {
   "cell_type": "markdown",
   "id": "274eda41",
   "metadata": {},
   "source": [
    "## Working with time series"
   ]
  },
  {
   "cell_type": "markdown",
   "id": "2ef5eb81",
   "metadata": {},
   "source": [
    "The IMAS data structure supports time-dependent data, and IMAS.jl provides ways to handle time data efficiently."
   ]
  },
  {
   "cell_type": "markdown",
   "id": "d7e507fe",
   "metadata": {},
   "source": [
    "Each `dd` has a `global_time` attribute, which is used throughout FUSE and IMAS to indicate the time at which things should be operate."
   ]
  },
  {
   "cell_type": "code",
   "execution_count": null,
   "id": "03b2d890-231b-44de-85d6-8f2eb304e94e",
   "metadata": {
    "tags": []
   },
   "outputs": [],
   "source": [
    "dd.global_time = 1.0"
   ]
  },
  {
   "cell_type": "markdown",
   "id": "260f740f-554c-4d23-8f3f-a4033a12d893",
   "metadata": {
    "execution": {
     "iopub.execute_input": "2025-07-28T13:15:58.331000Z",
     "iopub.status.busy": "2025-07-28T13:15:58.331000Z",
     "iopub.status.idle": "2025-07-28T13:15:58.346000Z",
     "shell.execute_reply": "2025-07-28T13:15:58.346000Z"
    },
    "tags": []
   },
   "source": [
    "#### Time depedent arrays of structures"
   ]
  },
  {
   "cell_type": "code",
   "execution_count": null,
   "id": "c7f8ab57-eb67-4101-86ef-feccaef48087",
   "metadata": {
    "tags": []
   },
   "outputs": [],
   "source": [
    "# In addition to the usual `resize!(ids, n::Int)`, time dependent arrays of structures can be resized with:\n",
    "#   * `resize!(ids, time0)` which will add a time-slice at `time0` seconds\n",
    "#   * `resize!(ids)` which will add a time-slice at the current global time (this is what you want to use in most cases)\n",
    "\n",
    "# NOTE: One cannot add new timeslices \"in the past\". But timeslices can always be added.\n",
    "\n",
    "resize!(dd.equilibrium.time_slice, 1.0)"
   ]
  },
  {
   "cell_type": "code",
   "execution_count": null,
   "id": "a7b09749-321a-444c-b9f8-de1778e818a6",
   "metadata": {
    "tags": []
   },
   "outputs": [],
   "source": [
    "# resize at the dd.global_time\n",
    "dd.global_time = 2.0\n",
    "resize!(dd.equilibrium.time_slice)"
   ]
  },
  {
   "cell_type": "markdown",
   "id": "6955c08e-5f7c-4f2d-a51a-5218627fc355",
   "metadata": {},
   "source": [
    "Here we see that equilibrium has mulitiple time_slices"
   ]
  },
  {
   "cell_type": "code",
   "execution_count": null,
   "id": "b7a462d5-801e-43c9-973c-370a46d89966",
   "metadata": {
    "tags": []
   },
   "outputs": [],
   "source": [
    "dd.equilibrium.time"
   ]
  },
  {
   "cell_type": "markdown",
   "id": "177586fc",
   "metadata": {},
   "source": [
    "We can access time-dependent arrays of structures via integer index..."
   ]
  },
  {
   "cell_type": "code",
   "execution_count": null,
   "id": "57c18ccd",
   "metadata": {
    "tags": []
   },
   "outputs": [],
   "source": [
    "eqt = dd.equilibrium.time_slice[2]\n",
    "eqt.time"
   ]
  },
  {
   "cell_type": "markdown",
   "id": "97706563",
   "metadata": {},
   "source": [
    "...or at a given time, by passing the time as a floating point number (in seconds).\n",
    "\n",
    "NOTE: If we ask a time that is not exactly in the arrays of structures, we'll get the closest (causal!) time-slice"
   ]
  },
  {
   "cell_type": "code",
   "execution_count": null,
   "id": "dda7afb8",
   "metadata": {
    "tags": []
   },
   "outputs": [],
   "source": [
    "eqt = dd.equilibrium.time_slice[1.0]\n",
    "eqt.time"
   ]
  },
  {
   "cell_type": "markdown",
   "id": "b7877d43",
   "metadata": {},
   "source": [
    "... or at the current `dd.global_time` by leaving the square brackets empty []\n",
    "\n",
    "**NOTE:** `[]` is what you want to use in most situations that involve time-dependent arrays of structures!"
   ]
  },
  {
   "cell_type": "code",
   "execution_count": null,
   "id": "1ed200cc",
   "metadata": {
    "tags": []
   },
   "outputs": [],
   "source": [
    "dd.global_time = 1.0\n",
    "eqt = dd.equilibrium.time_slice[]\n",
    "eqt.time"
   ]
  },
  {
   "cell_type": "markdown",
   "id": "cec43f37-91b2-4597-a80c-8cc49a2fef56",
   "metadata": {},
   "source": [
    "#### Time depedent arrays of data"
   ]
  },
  {
   "cell_type": "markdown",
   "id": "ddfb0f50-9e12-4661-8c73-0240c0d974c4",
   "metadata": {},
   "source": [
    "We can use the `@ddtime()` macro to manipulate these time-dependent arrays at `dd.global_time`.\n",
    "\n",
    "NOTE: Also in this case, `@ddtime()` will operate on the closest (causal!) time point\n",
    "\n",
    "NOTE: Use `@ddtime(location_in_dd=value)` to conveniently set the value of a time-dependent vector."
   ]
  },
  {
   "cell_type": "code",
   "execution_count": null,
   "id": "2ba8fe37-83d9-4a6d-a615-24e8ada690e8",
   "metadata": {
    "tags": []
   },
   "outputs": [],
   "source": [
    "\n",
    "# this is our current situation\n",
    "@show dd.equilibrium.time\n",
    "@show dd.equilibrium.vacuum_toroidal_field.b0;"
   ]
  },
  {
   "cell_type": "code",
   "execution_count": null,
   "id": "ead88610-fbd1-4a2a-9121-2ec935248cbf",
   "metadata": {
    "tags": []
   },
   "outputs": [],
   "source": [
    "dd.global_time = 1.0\n",
    "@ddtime(dd.equilibrium.vacuum_toroidal_field.b0)"
   ]
  },
  {
   "cell_type": "code",
   "execution_count": null,
   "id": "ccf5d546-2d7c-4338-ae14-ef0299a6f65e",
   "metadata": {
    "tags": []
   },
   "outputs": [],
   "source": [
    "# if there are more times than data, then the data is assumed to be constant throughout extra times\n",
    "dd.global_time = 2.0\n",
    "@ddtime(dd.equilibrium.vacuum_toroidal_field.b0)"
   ]
  },
  {
   "cell_type": "code",
   "execution_count": null,
   "id": "8c51fcb0-ce35-4a33-9319-d70b5b837e32",
   "metadata": {
    "tags": []
   },
   "outputs": [],
   "source": [
    "# Add data to an existing time\n",
    "dd.global_time = 2.0\n",
    "@ddtime(dd.equilibrium.vacuum_toroidal_field.b0=4.0)"
   ]
  },
  {
   "cell_type": "code",
   "execution_count": null,
   "id": "0689e8cc-f6f9-4735-8c03-6eab48009548",
   "metadata": {
    "tags": []
   },
   "outputs": [],
   "source": [
    "\n",
    "# this is our current situation\n",
    "@show dd.equilibrium.time\n",
    "@show dd.equilibrium.vacuum_toroidal_field.b0;"
   ]
  },
  {
   "cell_type": "code",
   "execution_count": null,
   "id": "8d284725-e484-4f45-baee-bb199f089a0a",
   "metadata": {
    "tags": []
   },
   "outputs": [],
   "source": [
    "# @ddtime uses a causal nearest neighbor interpolation\n",
    "dd.global_time = 1.7\n",
    "@ddtime(dd.equilibrium.vacuum_toroidal_field.b0)"
   ]
  },
  {
   "cell_type": "code",
   "execution_count": null,
   "id": "203e9907-dd96-4a36-860c-623112b57a1e",
   "metadata": {
    "tags": []
   },
   "outputs": [],
   "source": [
    "# Add one more time slice, now at a new time\n",
    "dd.global_time = 3.0\n",
    "@ddtime(dd.equilibrium.vacuum_toroidal_field.b0=6.0)"
   ]
  },
  {
   "cell_type": "code",
   "execution_count": null,
   "id": "3d3e71fd-c0ac-43f2-9ee3-69d53733d4c9",
   "metadata": {
    "tags": []
   },
   "outputs": [],
   "source": [
    "\n",
    "# this is our current situation\n",
    "@show dd.equilibrium.time\n",
    "@show dd.equilibrium.vacuum_toroidal_field.b0;"
   ]
  },
  {
   "cell_type": "code",
   "execution_count": null,
   "id": "8824c301-98d1-4a02-b500-36270699ef5e",
   "metadata": {
    "tags": []
   },
   "outputs": [],
   "source": [
    "# @ddtime uses a causal nearest neighbor interpolation also for forward extrapolation\n",
    "dd.global_time = 100.0\n",
    "@ddtime(dd.equilibrium.vacuum_toroidal_field.b0)"
   ]
  },
  {
   "cell_type": "code",
   "execution_count": null,
   "id": "b56e40a6-4bac-45ec-8b91-01ef630b30f0",
   "metadata": {
    "tags": []
   },
   "outputs": [],
   "source": [
    "# @ddtime does not interpolate back in time\n",
    "dd.global_time = 0.0\n",
    "@ddtime(dd.equilibrium.vacuum_toroidal_field.b0)"
   ]
  },
  {
   "cell_type": "markdown",
   "id": "73e68e2e-a6b6-4183-8047-458eb9f809a0",
   "metadata": {},
   "source": [
    "## Loading IMAS data"
   ]
  },
  {
   "cell_type": "markdown",
   "id": "25979af8",
   "metadata": {},
   "source": [
    "Load IMAS data from JSON. Other formats are available: https://projecttorreypines.github.io/IMASdd.jl/stable/api/#IO"
   ]
  },
  {
   "cell_type": "code",
   "execution_count": null,
   "id": "efe51cba",
   "metadata": {
    "tags": []
   },
   "outputs": [],
   "source": [
    "dd = IMAS.json2imas(\"D3D_147131.json\");"
   ]
  },
  {
   "cell_type": "markdown",
   "id": "7efd020f",
   "metadata": {},
   "source": [
    "## Exploring the data dictionary"
   ]
  },
  {
   "cell_type": "markdown",
   "id": "b04000bb",
   "metadata": {},
   "source": [
    "Display part of the equilibrium data in `dd`"
   ]
  },
  {
   "cell_type": "code",
   "execution_count": null,
   "id": "3cfb9458",
   "metadata": {
    "tags": []
   },
   "outputs": [],
   "source": [
    "dd.equilibrium.time_slice[1].boundary"
   ]
  },
  {
   "cell_type": "markdown",
   "id": "8a472582",
   "metadata": {},
   "source": [
    "this can be done up to a certain depth with `print_tree`"
   ]
  },
  {
   "cell_type": "code",
   "execution_count": null,
   "id": "21efefcd",
   "metadata": {
    "tags": []
   },
   "outputs": [],
   "source": [
    "print_tree(dd.equilibrium.time_slice[1].boundary; maxdepth=1)"
   ]
  },
  {
   "cell_type": "markdown",
   "id": "650098eb",
   "metadata": {},
   "source": [
    "## Plotting data from `dd`\n",
    "FUSE uses `Plots.jl` recipes for visualizing data from `dd`.\n",
    "\n",
    "This allows different plots to be shown when calling `plot()` on different items in the data structure.\n",
    "\n",
    "Learn more about Plots.jl [here](https://docs.juliaplots.org)"
   ]
  },
  {
   "cell_type": "markdown",
   "id": "9a0811d8",
   "metadata": {},
   "source": [
    "For example plotting the equilibrium..."
   ]
  },
  {
   "cell_type": "code",
   "execution_count": null,
   "id": "c6c8a5f4",
   "metadata": {
    "tags": []
   },
   "outputs": [],
   "source": [
    "plot(dd.equilibrium)"
   ]
  },
  {
   "cell_type": "markdown",
   "id": "fa192aba-0ecb-438b-a235-31b2996d5178",
   "metadata": {},
   "source": [
    "Whant to know what arguments can be passed? use `help_plot()` function"
   ]
  },
  {
   "cell_type": "code",
   "execution_count": null,
   "id": "76e2983b-cb96-4f13-9a33-6c452b3a9767",
   "metadata": {
    "tags": []
   },
   "outputs": [],
   "source": [
    "help_plot(dd.equilibrium; core_profiles_overlay=true, levels_in=21, levels_out=5, show_secondary_separatrix=true, coordinate=:rho_tor_norm)"
   ]
  },
  {
   "cell_type": "markdown",
   "id": "c69ee40f",
   "metadata": {},
   "source": [
    "These plots can be composed by calling `plot!()` instead of `plot()`"
   ]
  },
  {
   "cell_type": "code",
   "execution_count": null,
   "id": "b6e349e4-a41c-4381-ab86-079d895006f7",
   "metadata": {
    "tags": []
   },
   "outputs": [],
   "source": [
    "plot(dd.equilibrium; color=:gray, cx=true)\n",
    "plot!(dd.build.layer)\n",
    "plot!(dd.pf_active)\n",
    "plot!(dd.pf_passive)"
   ]
  },
  {
   "cell_type": "markdown",
   "id": "bf57b390",
   "metadata": {},
   "source": [
    "Try plotting the other IDSs, like `core_profiles`"
   ]
  },
  {
   "cell_type": "code",
   "execution_count": null,
   "id": "766b0a4c",
   "metadata": {
    "tags": []
   },
   "outputs": [],
   "source": [
    "plot(dd.core_profiles)"
   ]
  },
  {
   "cell_type": "markdown",
   "id": "0a278e8f-8eec-4e20-a879-ed466a0e390d",
   "metadata": {
    "execution": {
     "iopub.execute_input": "2025-07-28T13:28:09.210000Z",
     "iopub.status.busy": "2025-07-28T13:28:09.210000Z",
     "iopub.status.idle": "2025-07-28T13:28:09.227000Z",
     "shell.execute_reply": "2025-07-28T13:28:09.227000Z"
    },
    "tags": []
   },
   "source": [
    "plot time dependent data using the [Interact.jl](https://github.com/JuliaGizmos/Interact.jl) package"
   ]
  },
  {
   "cell_type": "code",
   "execution_count": null,
   "id": "c764b382-b320-468e-b7a7-aad2672e6106",
   "metadata": {
    "tags": []
   },
   "outputs": [],
   "source": [
    "using Interact\n",
    "@manipulate for time0 in dd.equilibrium.time\n",
    "    plot(dd.equilibrium; cx=true, time0)\n",
    "    plot!(dd.wall)\n",
    "    plot!(dd.pf_active; time0)\n",
    "    plot!(dd.pf_passive; time0)\n",
    "    plot!(size=(600,600))\n",
    "end"
   ]
  },
  {
   "cell_type": "markdown",
   "id": "317f0a61-888e-4b3a-bbe6-5e87149421f8",
   "metadata": {},
   "source": [
    "Plotting an array..."
   ]
  },
  {
   "cell_type": "code",
   "execution_count": null,
   "id": "7b3bbe7d",
   "metadata": {
    "tags": []
   },
   "outputs": [],
   "source": [
    "plot(dd.core_profiles.profiles_1d[].pressure_thermal)"
   ]
  },
  {
   "cell_type": "markdown",
   "id": "0bafd019",
   "metadata": {},
   "source": [
    "...is different from plotting a field from the IDS (which plots the quantity against its coordinate and with units)"
   ]
  },
  {
   "cell_type": "code",
   "execution_count": null,
   "id": "45061042",
   "metadata": {
    "tags": []
   },
   "outputs": [],
   "source": [
    "plot(dd.core_profiles.profiles_1d[], :pressure_thermal)"
   ]
  },
  {
   "cell_type": "markdown",
   "id": "7d8004d0",
   "metadata": {},
   "source": [
    "Customizing plot attributes:"
   ]
  },
  {
   "cell_type": "code",
   "execution_count": null,
   "id": "0b64fa40",
   "metadata": {
    "tags": []
   },
   "outputs": [],
   "source": [
    "plot(dd.core_profiles.profiles_1d[], :pressure_thermal; label=\"\", linewidth=2, color=:red, labelfontsize=25)"
   ]
  },
  {
   "cell_type": "markdown",
   "id": "c932daec-bb09-452e-9280-c6a49ff35743",
   "metadata": {},
   "source": [
    "Use `findall(ids, r\"...\")` to search for certain fields. In Julia, string starting with `r` are regular expressions."
   ]
  },
  {
   "cell_type": "code",
   "execution_count": null,
   "id": "546b7870-a3aa-4b69-ac50-d3ae5fdc56c5",
   "metadata": {
    "tags": []
   },
   "outputs": [],
   "source": [
    "findall(dd.equilibrium.time_slice[], r\"\\.psi\")"
   ]
  },
  {
   "cell_type": "markdown",
   "id": "6b612b60-a8a1-4ab9-8206-638525387df1",
   "metadata": {},
   "source": [
    "`findall(ids, r\"...\")` can be combined with `plot()` to plot multiple fields"
   ]
  },
  {
   "cell_type": "code",
   "execution_count": null,
   "id": "06b3417e-57e8-4c2c-9c27-6dabafa6ce82",
   "metadata": {
    "tags": []
   },
   "outputs": [],
   "source": [
    "plot(findall(dd.equilibrium.time_slice[], r\"\\.psi\"))"
   ]
  },
  {
   "cell_type": "markdown",
   "id": "89db4eca",
   "metadata": {},
   "source": [
    "## Expressions in `dd`"
   ]
  },
  {
   "cell_type": "markdown",
   "id": "17e903e1",
   "metadata": {},
   "source": [
    "Some fields in the data dictionary are expressions (ie. Functions).\n",
    "For example `dd.core_profiles.profiles_1d[].pressure` is dynamically calculated as the product of thermal densities and temperature with addition of fast ions contributions"
   ]
  },
  {
   "cell_type": "code",
   "execution_count": null,
   "id": "2ac653fd",
   "metadata": {
    "tags": []
   },
   "outputs": [],
   "source": [
    "dd.global_time = 1.0\n",
    "print_tree(dd.core_profiles.profiles_1d[]; maxdepth=1)"
   ]
  },
  {
   "cell_type": "markdown",
   "id": "f3fc0883",
   "metadata": {},
   "source": [
    "accessing a dynamic expression, automatically evaluates it"
   ]
  },
  {
   "cell_type": "code",
   "execution_count": null,
   "id": "3f2ffff2-9ecf-45ea-b2eb-d71bfb6411a4",
   "metadata": {
    "tags": []
   },
   "outputs": [],
   "source": [
    "dd.core_profiles.profiles_1d[].conductivity_parallel"
   ]
  },
  {
   "cell_type": "markdown",
   "id": "4b14e20d",
   "metadata": {},
   "source": [
    "In addition to evaluating expressions by accessing them, expressions in the tree can be evaluated using `IMAS.freeze(ids)`\n",
    "\n",
    "NOTE: `IMAS.freeze(ids, field::Symbol)` works on a single field and `IMAS.refreeze!(ids, field)` forces re-evaluation of an expression. Also, `IMAS.empty!(ids, field::Symbol)` can be used to revert a frozen field back into an expression."
   ]
  },
  {
   "cell_type": "code",
   "execution_count": null,
   "id": "5d279add",
   "metadata": {
    "tags": []
   },
   "outputs": [],
   "source": [
    "print_tree(IMAS.freeze(dd.core_profiles.profiles_1d[]); maxdepth=1)"
   ]
  },
  {
   "cell_type": "markdown",
   "id": "7aa9e672",
   "metadata": {},
   "source": [
    "## Comparing two IDSs\n",
    "We can introduce a change in the `dd1` and spot it with the `diff` function"
   ]
  },
  {
   "cell_type": "code",
   "execution_count": null,
   "id": "dbb3fb67",
   "metadata": {
    "tags": []
   },
   "outputs": [],
   "source": [
    "dd1 = deepcopy(dd)\n",
    "dd1.equilibrium.time_slice[].global_quantities.ip = -100.0\n",
    "IMAS.diff(dd.equilibrium, dd1.equilibrium; verbose=true);"
   ]
  },
  {
   "cell_type": "markdown",
   "id": "2ca829bc",
   "metadata": {},
   "source": [
    "## Summary\n",
    "Snapshot of `dd` in 0D quantities (evaluated at `dd.global_time`)."
   ]
  },
  {
   "cell_type": "code",
   "execution_count": null,
   "id": "cc34ae4a",
   "metadata": {
    "tags": []
   },
   "outputs": [],
   "source": [
    "IMAS.extract(dd)"
   ]
  },
  {
   "cell_type": "markdown",
   "id": "2913e7a6-fe84-4307-ae2f-0addfd10ec0d",
   "metadata": {},
   "source": [
    "## Physics functions"
   ]
  },
  {
   "cell_type": "markdown",
   "id": "61346ebb-747e-46a3-b5ed-9130d7dd34ae",
   "metadata": {},
   "source": [
    "IMAS.jl provides [an extensive collection of physics functions](https://projecttorreypines.github.io/IMAS.jl/dev/api/) that work directly on the `dd`. These functions span the breadth and depth of tokamak plasma modeling, covering everything from basic geometry calculations and flux surface tracing to advanced multi-physics simulations including flux surface and field lines tracing, transport analysis, heating and current drive modeling, nuclear fusion reactions, radiation physics, and comprehensive plasma-material interaction studies.\n",
    "\n",
    "By offering validated, high-performance implementations of these core plasma physics routines, IMAS.jl enables the fusion research community to build upon a common foundation rather than reinventing fundamental algorithms, thereby accelerating research progress and ensuring consistency across diverse simulation workflows."
   ]
  },
  {
   "cell_type": "code",
   "execution_count": null,
   "id": "59e600fa-f31e-410a-af50-3c46ebbaee94",
   "metadata": {
    "tags": []
   },
   "outputs": [],
   "source": [
    "# example: Field line tracing"
   ]
  },
  {
   "cell_type": "code",
   "execution_count": null,
   "id": "0f36e0c6-4d39-4b48-94b7-7beb43131f37",
   "metadata": {
    "tags": []
   },
   "outputs": [],
   "source": [
    "eqt = dd.equilibrium.time_slice[]\n",
    "\n",
    "r = 2.3457\n",
    "z = 0.1\n",
    "@time t1 = IMAS.trace_field_line(eqt,r,z; max_turns=100,step_size=0.1);\n",
    "@time t2 = IMAS.trace_field_line(eqt,r,z; max_turns=100,step_size=-0.1);\n",
    "\n",
    "plot(eqt; cx=true, primary=false)\n",
    "plot!(t1.r,t1.z; label=\"Upwind\")\n",
    "plot!(t2.r,t2.z; label=\"Downwind\")\n",
    "display(scatter!([r],[z]; label=\"Starting point\", color=:black))\n",
    "\n",
    "plot3d(t1.x,t1.y,t1.z;label=\"Upwind\")\n",
    "plot3d!(t2.x,t2.y,t2.z; label=\"Downwind\")\n",
    "plot3d!(; xlabel=:x, ylabel=:y, zlabel=:z, aspect_ratio=:equal, size=(600,600),camera=(45, 60),)"
   ]
  }
 ],
 "metadata": {
  "@webio": {
   "lastCommId": "bfc6ccbf-385a-4d83-8ef0-f2ae4b35407b",
   "lastKernelId": "b72bed3c-00f3-487c-b4f0-674be9010ea2"
  },
  "kernelspec": {
   "display_name": "Julia (12 threads) 1.11.6",
   "language": "julia",
   "name": "julia-_12-threads_-1.11"
  },
  "language_info": {
   "file_extension": ".jl",
   "mimetype": "application/julia",
   "name": "julia",
   "version": "1.11.6"
  }
 },
 "nbformat": 4,
 "nbformat_minor": 5
}
