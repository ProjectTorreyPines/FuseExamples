{
 "cells": [
  {
   "cell_type": "markdown",
   "id": "0faddccf",
   "metadata": {},
   "source": [
    "# Time dependent D3D simulation"
   ]
  },
  {
   "cell_type": "code",
   "execution_count": null,
   "id": "f41e11a4-5bfe-4886-ab64-5e9d90adc47f",
   "metadata": {
    "tags": []
   },
   "outputs": [],
   "source": [
    "using Plots;\n",
    "using FUSE\n",
    "FUSE.ProgressMeter.ijulia_behavior(:clear);"
   ]
  },
  {
   "cell_type": "code",
   "execution_count": null,
   "id": "c7d49a2b-4979-4b08-b2f1-ed7666ace89e",
   "metadata": {
    "tags": []
   },
   "outputs": [],
   "source": [
    "ini, act = FUSE.case_parameters(:D3D, :default)\n",
    "FUSE.init(ini, act);"
   ]
  },
  {
   "cell_type": "code",
   "execution_count": null,
   "id": "57d67429-2e00-4a0e-9639-dec52cb6cfd5",
   "metadata": {
    "tags": []
   },
   "outputs": [],
   "source": [
    "#ini, act = FUSE.case_parameters(:D3D, 180893); #NBI with balanced torque\n",
    "#ini, act = FUSE.case_parameters(:D3D, 133221); # ECH\n",
    "#ini, act = FUSE.case_parameters(:D3D, 200000); # ECH\n",
    "#ini, act = FUSE.case_parameters(:D3D, 170325); # ECH 1.67924\n",
    "ini, act = FUSE.case_parameters(:D3D, 168830);\n",
    "#ini, act = FUSE.case_parameters(:D3D, 200204); # beam power scan, rotation, lower_to_upper null\n",
    "#ini, act = FUSE.case_parameters(:D3D, 200021; EFIT_tree=\"EFIT01\"); # negative B\n",
    "@checkin :fetch ini act"
   ]
  },
  {
   "cell_type": "code",
   "execution_count": null,
   "id": "3f7b5f35-2b4d-4dd1-baf9-d1e28acafb86",
   "metadata": {
    "tags": []
   },
   "outputs": [],
   "source": [
    "@checkout :fetch ini act\n",
    "using Interact\n",
    "@manipulate for time0 in slider(ini.general.dd.equilibrium.time, value=ini.general.dd.global_time, label=\"time\")\n",
    "    # p=plot(ini.general.dd.equilibrium; time0)\n",
    "    # plot!(p[1], ini.general.dd.wall)\n",
    "\n",
    "    plot(ini.general.dd.core_profiles; time0)\n",
    "end"
   ]
  },
  {
   "cell_type": "code",
   "execution_count": null,
   "id": "f8726faa-7f5a-44b1-b4cb-49474cf6b253",
   "metadata": {
    "tags": []
   },
   "outputs": [],
   "source": [
    "#plot(ini.general.dd.nbi; smooth_tau=0.1)\n",
    "#plot(ini.general.dd.ec_launchers; smooth_tau=0.1)"
   ]
  },
  {
   "cell_type": "code",
   "execution_count": null,
   "id": "06439c41-cd00-4b39-bcd7-8d87439982a5",
   "metadata": {
    "tags": []
   },
   "outputs": [],
   "source": [
    "@checkout :fetch ini act\n",
    "ini.time.simulation_start = ini.time.pulse_shedule_time_basis[2]\n",
    "@show ini.time.simulation_start\n",
    "dd = IMAS.dd()\n",
    "FUSE.init(dd, ini, act); # populates dd.pulse_schedule based on ini.general.dd\n",
    "act.ActorReplay.replay_dd = deepcopy(dd)\n",
    "@checkin :init dd ini act;"
   ]
  },
  {
   "cell_type": "code",
   "execution_count": null,
   "id": "f10eb1a1-cfde-43ee-aeb8-197de5360fe9",
   "metadata": {
    "tags": []
   },
   "outputs": [],
   "source": [
    "@checkout :init dd ini act;\n",
    "using Interact\n",
    "@manipulate for time0 in slider(dd.equilibrium.time, value=dd.global_time, label=\"time\")\n",
    "    p = plot(dd.equilibrium; time0)\n",
    "    plot!(p[1], dd.wall)\n",
    "\n",
    "    plot(dd.core_profiles; time0)\n",
    "end"
   ]
  },
  {
   "cell_type": "code",
   "execution_count": null,
   "id": "b7d1f9ca-fe00-46e6-b6ad-bfcfb25f53be",
   "metadata": {
    "tags": []
   },
   "outputs": [],
   "source": [
    "@checkout :init dd ini act;\n",
    "LH_dyanamics = FUSE.ne_line_without_LH_transition(dd, 1.8, 2.2, 2.2; do_plot=true);\n",
    "#LH_dyanamics = FUSE.ne_line_without_LH_transition(dd, 1.175, 1.5, 1.4; do_plot=true);"
   ]
  },
  {
   "cell_type": "markdown",
   "id": "0d4bf9e8-b24e-4dbc-b98c-54061b2bb356",
   "metadata": {
    "tags": []
   },
   "source": [
    "If the simulation is starting from experimental conditions (ie. we have not changed the equilibrium, profiles, sources when the time dependent simulation starts), our plasma should already be in a self-consistent state and we are ready to start our time dependent simulation. If the simulation does not start from know experimental conditions, we would need to call the `ActorStationaryPlasma` to start from a know consistent state."
   ]
  },
  {
   "cell_type": "code",
   "execution_count": null,
   "id": "b0ff3f91-1c65-4108-847f-c6cb8acd7377",
   "metadata": {
    "tags": []
   },
   "outputs": [],
   "source": [
    "plot(ini.general.dd.core_profiles.time, [cp1d.zeff[1] for cp1d in ini.general.dd.core_profiles.profiles_1d])"
   ]
  },
  {
   "cell_type": "code",
   "execution_count": null,
   "id": "dd9799e2-f4ee-4934-8fd8-d087a5fd030f",
   "metadata": {
    "tags": []
   },
   "outputs": [],
   "source": [
    "LH_dyanamics.mode_transitions"
   ]
  },
  {
   "cell_type": "code",
   "execution_count": null,
   "id": "5ecbcc48-60ca-420a-bc6c-4d08deb951a7",
   "metadata": {
    "tags": []
   },
   "outputs": [],
   "source": [
    "@checkout :init dd act;\n",
    "act.ActorPedestal.model = :dynamic\n",
    "act.ActorPedestal.tau_n = LH_dyanamics.tau_n\n",
    "act.ActorPedestal.tau_t = LH_dyanamics.tau_t\n",
    "act.ActorWPED.ped_to_core_fraction = LH_dyanamics.W_ped_to_core_fraction\n",
    "act.ActorPedestal.mode_transitions = LH_dyanamics.mode_transitions\n",
    "if false\n",
    "    # density from experiment\n",
    "    act.ActorPedestal.density_ratio_L_over_H = 1.0\n",
    "else\n",
    "    # density can go from L to H mode at a different time\n",
    "    act.ActorPedestal.density_ratio_L_over_H = LH_dyanamics.ne_L_over_H\n",
    "    dd.pulse_schedule.density_control.n_e_line.reference = LH_dyanamics.ne_H\n",
    "end\n",
    "\n",
    "act.ActorEPED.ped_factor = 0.8\n",
    "act.ActorPedestal.T_ratio_pedestal = 1.0 # Ti/Te in the pedestal\n",
    "\n",
    "δt = 0.025\n",
    "final_time = 2.0\n",
    "act.ActorDynamicPlasma.Nt = Int(ceil((final_time - dd.global_time) / δt))# * 0\n",
    "act.ActorDynamicPlasma.Δt = final_time - dd.global_time\n",
    "\n",
    "act.ActorDynamicPlasma.evolve_current = true\n",
    "act.ActorDynamicPlasma.evolve_equilibrium = true\n",
    "act.ActorDynamicPlasma.evolve_transport = true\n",
    "act.ActorDynamicPlasma.evolve_hcd = true\n",
    "act.ActorDynamicPlasma.evolve_pf_active = false\n",
    "act.ActorDynamicPlasma.evolve_pedestal = true\n",
    "\n",
    "# act.ActorDynamicPlasma.ip_controller = false\n",
    "act.ActorDynamicPlasma.time_derivatives_sources = true\n",
    "\n",
    "act.ActorTGLF.tglfnn_model = \"sat2_em_d3d\"\n",
    "act.ActorFluxMatcher.verbose = true\n",
    "\n",
    "act.ActorCurrent.model = :replay\n",
    "act.ActorEquilibrium.model = :replay\n",
    "act.ActorCoreTransport.model = :replay\n",
    "act.ActorPedestal.model = :replay\n",
    "# act.ActorHCD.ec_model = :replay\n",
    "# act.ActorHCD.ic_model = :replay\n",
    "# act.ActorHCD.lh_model = :replay\n",
    "# act.ActorHCD.nb_model = :replay\n",
    "# act.ActorHCD.pellet_model = :replay\n",
    "\n",
    "actor = FUSE.ActorDynamicPlasma(dd, act; verbose=true);\n",
    "\n",
    "@checkin :time_dep_dt1 dd ini act actor;"
   ]
  },
  {
   "cell_type": "code",
   "execution_count": null,
   "id": "77f372a7-8dbe-4ac1-9905-30e4c2e14887",
   "metadata": {
    "tags": []
   },
   "outputs": [],
   "source": [
    "@checkout :time_dep_dt1 dd act\n",
    "using Interact\n",
    "@manipulate for time0 in slider(dd.equilibrium.time, value=dd.global_time, label=\"time\")\n",
    "    # #FUSE.plot_plasma_overview(dd, time0; dd1=FUSE.checkpoint[:init].dd, size=(1400,1000))\n",
    "\n",
    "    plot(dd.core_sources; time0)\n",
    "\n",
    "    # p=plot(FUSE.checkpoint[:init].dd.core_profiles; time0, color=:black)\n",
    "    # plot!(dd.core_profiles; time0)\n",
    "\n",
    "    # plot(FUSE.checkpoint[:init].dd.core_profiles.profiles_1d[time0], :zeff; time0, color=:black)\n",
    "    # plot!(dd.core_profiles.profiles_1d[time0], :zeff)\n",
    "    # vline!(p[2], [0.9])\n",
    "    # #plot!(p[2], ylim=(0, 8E19))\n",
    "\n",
    "    # p=plot(FUSE.checkpoint[:init].dd.equilibrium; time0, color=:black)\n",
    "    # plot!(dd.equilibrium; time0)\n",
    "end"
   ]
  },
  {
   "cell_type": "markdown",
   "id": "319dbd88-cc55-4823-9a95-48794e1d5256",
   "metadata": {
    "tags": []
   },
   "source": [
    "Now we can plot the results, either as a animated gif"
   ]
  },
  {
   "cell_type": "code",
   "execution_count": null,
   "id": "ba12db81-4a28-4863-a561-822d6a8c00de",
   "metadata": {
    "tags": []
   },
   "outputs": [],
   "source": [
    "@checkout :time_dep_dt1 dd ini act actor;\n",
    "\n",
    "times = dd.core_profiles.time[2:end]\n",
    "prog = FUSE.ProgressMeter.Progress(length(times))\n",
    "for (k, time0) in enumerate(times)\n",
    "    FUSE.ProgressMeter.next!(prog; showvalues=((\"k\", k), (\"time\", time0)))\n",
    "    if k < 134\n",
    "        continue\n",
    "    end\n",
    "    FUSE.plot_plasma_overview(FUSE.checkpoint[:time_dep_dt1].dd, time0; dd1=FUSE.checkpoint[:init].dd)\n",
    "    IMAS.ylim(Dict{Int,Float64}(\n",
    "        3 => 3.0, 4 => 1E20,\n",
    "        -6 => -0.5, 6 => 1.5, -7 => -0.5, 7 => 1.5, -8 => -2E20, 8 => 2.5E20,\n",
    "        -10 => 0.0, 10 => 0.101, -11 => 0.0, 11 => 0.101, -12 => -1.2E19, 12 => 1.2E19))\n",
    "    savefig(\"D3D_168830_rampdown/D3D_time_dep__$k.png\")\n",
    "end"
   ]
  },
  {
   "cell_type": "code",
   "execution_count": null,
   "id": "41983cfb-068a-4efd-a6fc-ff9fadf1dc77",
   "metadata": {
    "tags": []
   },
   "outputs": [],
   "source": [
    "time0 = 1.0\n",
    "FUSE.plot_plasma_overview(FUSE.checkpoint[:time_dep_dt1].dd, time0; dd1=FUSE.checkpoint[:init].dd)"
   ]
  }
 ],
 "metadata": {
  "@webio": {
   "lastCommId": "a0cb2929-dcff-42b8-9f5b-4fa0c5d4b14a",
   "lastKernelId": "032cde84-928b-4899-8090-62454ba13416"
  },
  "kernelspec": {
   "display_name": "Julia (8 threads) 1.11.3",
   "language": "julia",
   "name": "julia-_8-threads_-1.11"
  },
  "language_info": {
   "file_extension": ".jl",
   "mimetype": "application/julia",
   "name": "julia",
   "version": "1.11.3"
  }
 },
 "nbformat": 4,
 "nbformat_minor": 5
}
