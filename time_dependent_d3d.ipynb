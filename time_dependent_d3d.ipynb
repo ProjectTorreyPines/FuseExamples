{
 "cells": [
  {
   "cell_type": "markdown",
   "id": "0faddccf",
   "metadata": {},
   "source": [
    "# Time dependent D3D simulation"
   ]
  },
  {
   "cell_type": "code",
   "execution_count": null,
   "id": "7a9b8d48-d826-4c8d-920f-92239306ce51",
   "metadata": {
    "tags": []
   },
   "outputs": [],
   "source": [
    "using Plots;\n",
    "using FUSE\n",
    "FUSE.ProgressMeter.ijulia_behavior(:clear);"
   ]
  },
  {
   "cell_type": "code",
   "execution_count": null,
   "id": "20ae7ead-d216-48a1-9598-1cec84b825a6",
   "metadata": {
    "tags": []
   },
   "outputs": [],
   "source": [
    "@time begin\n",
    "#shot = 133221; ini, act = FUSE.case_parameters(:D3D, shot; use_local_cache=true); # ECH /// measured 6*C is higher than ne\n",
    "#shot = 200000; ini, act = FUSE.case_parameters(:D3D, shot; use_local_cache=true); # ECH\n",
    "#ini, act = FUSE.case_parameters(:D3D, 170325); # ECH 1.67924\n",
    "shot = 168830; ini, act = FUSE.case_parameters(:D3D, shot; use_local_cache=true); #NBI with balanced torque\n",
    "#shot = 156905; ini, act = FUSE.case_parameters(:D3D, shot; use_local_cache=true); # Weird ZIPFIT holds <--fast_particles_profiles!\n",
    "#shot = 194306; ini, act = FUSE.case_parameters(:D3D, shot; use_local_cache=true, new_impurity_match_power_rad=:Kr); # negT\n",
    "#ini, act = FUSE.case_parameters(:D3D, 177476; use_local_cache=true, PROFILES_tree=\"ZIPFIT02\"); # Cihan's\n",
    "#@time ini, act = FUSE.case_parameters(:D3D, 168830);\n",
    "#ini, act = FUSE.case_parameters(:D3D, 200204); # beam power scan, rotation, lower_to_upper null\n",
    "#ini, act = FUSE.case_parameters(:D3D, 200021; EFIT_tree=\"EFIT01\"); # negative B\n",
    "#ini, act = FUSE.case_parameters(:D3D, 173389);\n",
    "end\n",
    "@checkin :fetch ini act"
   ]
  },
  {
   "cell_type": "code",
   "execution_count": null,
   "id": "175aae0f-790f-49f3-8cf7-4e04b83cc9f8",
   "metadata": {
    "tags": []
   },
   "outputs": [],
   "source": [
    "@checkout :fetch ini act;\n",
    "ini.time.simulation_start = ini.general.dd.equilibrium.time_slice[2].time\n",
    "dd = IMAS.dd()\n",
    "@time FUSE.init!(dd, ini, act);\n",
    "@checkin :init dd act;"
   ]
  },
  {
   "cell_type": "code",
   "execution_count": null,
   "id": "ab8f6eba-205f-4236-9b14-b90ab59424fd",
   "metadata": {
    "tags": []
   },
   "outputs": [],
   "source": [
    "@checkout :init dd act;\n",
    "experiment_LH = FUSE.LH_analysis(dd)#; scale_LH=2.5);\n",
    ";"
   ]
  },
  {
   "cell_type": "code",
   "execution_count": null,
   "id": "3d1dfd7e-09bb-4974-add7-f6a16c081436",
   "metadata": {
    "tags": []
   },
   "outputs": [],
   "source": [
    "@checkout :init dd act;\n",
    "act.ActorPedestal.model = :dynamic\n",
    "act.ActorPedestal.tau_n = experiment_LH.tau_n\n",
    "act.ActorPedestal.tau_t = experiment_LH.tau_t\n",
    "act.ActorWPED.ped_to_core_fraction = experiment_LH.W_ped_to_core_fraction\n",
    "act.ActorEPED.ped_factor = 0.8\n",
    "act.ActorPedestal.T_ratio_pedestal = 1.0 # Ti/Te in the pedestal\n",
    "if true\n",
    "    # density and Zeff from experiment\n",
    "    act.ActorPedestal.density_ratio_L_over_H = 1.0\n",
    "    act.ActorPedestal.zeff_ratio_L_over_H = 1.0\n",
    "else\n",
    "    # density can go from L to H mode at a different time\n",
    "    act.ActorPedestal.density_ratio_L_over_H = experiment_LH.ne_L_over_H\n",
    "    act.ActorPedestal.zeff_ratio_L_over_H = experiment_LH.zeff_L_over_H\n",
    "    dd.pulse_schedule.density_control.n_e_line.reference = experiment_LH.ne_H\n",
    "    dd.pulse_schedule.density_control.zeff_pedestal.reference = experiment_LH.zeff_H\n",
    "end\n",
    "\n",
    "if false\n",
    "    # LH-transition from LH scaling law\n",
    "    act.ActorPedestal.mode_transitions = missing\n",
    "else\n",
    "    # LH-transition at user-defined times\n",
    "    act.ActorPedestal.mode_transitions = experiment_LH.mode_transitions\n",
    "    act.ActorPedestal.mode_transitions[5.2] = :L_mode\n",
    "    @show act.ActorPedestal.mode_transitions\n",
    "end\n",
    "\n",
    "act.ActorEquilibrium.model = :FRESCO # EGGO\n",
    "\n",
    "act.ActorFRESCO.nR = 65\n",
    "act.ActorFRESCO.nZ = 65\n",
    "\n",
    "act.ActorNeutralFueling.τp_over_τe = 0.5\n",
    "\n",
    "act.ActorFluxMatcher.evolve_plasma_sources = false\n",
    "act.ActorFluxMatcher.algorithm = :simple\n",
    "act.ActorFluxMatcher.max_iterations = -10\n",
    "act.ActorFluxMatcher.verbose = false\n",
    "act.ActorFluxMatcher.evolve_pedestal = false\n",
    "\n",
    "act.ActorTGLF.tglfnn_model = \"sat1_em_d3d\"\n",
    "# act.ActorTGLF.model = :GKNN\n",
    "# act.ActorTGLF.tglfnn_model = \"sat3_em_d3d_azf-1\"\n",
    "\n",
    "dd.global_time = ini.general.dd.equilibrium.time_slice[2].time # start_time\n",
    "δt = 0.025\n",
    "final_time = ini.general.dd.equilibrium.time[end]\n",
    "act.ActorDynamicPlasma.Nt = Int(ceil((final_time - dd.global_time) / δt))\n",
    "act.ActorDynamicPlasma.Δt = final_time - dd.global_time\n",
    "\n",
    "act.ActorDynamicPlasma.evolve_current = true\n",
    "act.ActorDynamicPlasma.evolve_equilibrium = true\n",
    "act.ActorDynamicPlasma.evolve_transport = true\n",
    "act.ActorDynamicPlasma.evolve_hcd = true\n",
    "act.ActorDynamicPlasma.evolve_pf_active = false\n",
    "act.ActorDynamicPlasma.evolve_pedestal = true\n",
    "\n",
    "act.ActorDynamicPlasma.ip_controller = false\n",
    "act.ActorDynamicPlasma.time_derivatives_sources = true\n",
    "\n",
    "# act.ActorCurrent.model = :replay\n",
    "# act.ActorEquilibrium.model = :replay\n",
    "# act.ActorCoreTransport.model = :replay\n",
    "# act.ActorPedestal.model = :replay\n",
    "# act.ActorHCD.ec_model = :replay\n",
    "# act.ActorHCD.ic_model = :replay\n",
    "# act.ActorHCD.lh_model = :replay\n",
    "# act.ActorHCD.nb_model = :replay\n",
    "# act.ActorHCD.pellet_model = :replay\n",
    "# act.ActorHCD.neutral_model = :none\n",
    "\n",
    "@time actor = FUSE.ActorDynamicPlasma(dd, act; verbose=true);\n",
    "@checkin :time_dep dd ini act actor;"
   ]
  },
  {
   "cell_type": "code",
   "execution_count": null,
   "id": "2a4229fd-6912-43ad-aafb-c1c8b4fdc41b",
   "metadata": {
    "tags": []
   },
   "outputs": [],
   "source": [
    "using Interact\n",
    "dd1 = FUSE.checkpoint[:init].dd\n",
    "IMAS.trim_time!(dd, (-Inf, dd.global_time-1E-6)); # shaves off the last time slice, useful when simulation crashes and leaves last time-slice in a bad state"
   ]
  },
  {
   "cell_type": "code",
   "execution_count": null,
   "id": "417767e4-b811-40ec-a838-fad7e9982525",
   "metadata": {
    "tags": []
   },
   "outputs": [],
   "source": [
    "#@checkout :time_dep dd;\n",
    "@manipulate for time0 in slider(dd.equilibrium.time, value=dd.global_time/2.0, label=\"time\")\n",
    "    try\n",
    "        FUSE.plot_plasma_overview(dd, Float64(time0); dd1, aggregate_hcd=true, size=(1300,1000))#, min_power=1E4)\n",
    "\n",
    "#     IMAS.ylim(Dict{Int,Float64}(\n",
    "#         -2 => 0.0, \n",
    "#         -3 => 0.0, 3 => 1000.0,\n",
    "#         4 => 4.0,\n",
    "#         5 => 4.0,\n",
    "#         6 => 1E20,\n",
    "\n",
    "#         -8 => -0.2, 8 => 2.0,\n",
    "#         -9 => -0.25, 9 => .5,\n",
    "#         -10 => -0.25, 10 => .5,\n",
    "#         -11 => -1E20, 11 => 1.E20,\n",
    "        \n",
    "#         -14 => 0.0, 14 => 0.101,\n",
    "#         -15 => 0.0, 15 => 0.101,\n",
    "#         -16 => -2.0E19, 16 => 2.0E19))\n",
    "\n",
    "#         p=plot(dd1.equilibrium; time0, color=:black)\n",
    "#         plot!(dd.equilibrium; time0)\n",
    "#         plot!(p[1], dd.wall)\n",
    "\n",
    "\n",
    "#         plot(dd.core_transport; time0)\n",
    "\n",
    "#         plot(dd.core_sources; time0, aggregate_radiation=true, aggregate_hcd=true)\n",
    "\n",
    "    catch\n",
    "        plot()\n",
    "    end\n",
    "    \n",
    "end"
   ]
  },
  {
   "cell_type": "code",
   "execution_count": null,
   "id": "269cfaa3-ddae-4963-a5ae-b469138992ba",
   "metadata": {
    "tags": []
   },
   "outputs": [],
   "source": [
    "using Interact\n",
    "using Printf\n",
    "\n",
    "a = @animate for (k, time0) in enumerate(dd.equilibrium.time[2:end])\n",
    "    println(k)\n",
    "    try\n",
    "        FUSE.plot_plasma_overview(dd, time0; dd1=dd1, aggregate_hcd=true)\n",
    "    catch\n",
    "        continue\n",
    "    end\n",
    "    \n",
    "    IMAS.ylim(Dict{Int,Float64}(\n",
    "        -2 => 0.0, \n",
    "        -3 => 0.0, 3 => 1000.0,\n",
    "        4 => 4.0,\n",
    "        5 => 4.0,\n",
    "        6 => 1E20,\n",
    "\n",
    "        -8 => -0.2, 8 => 2.0,\n",
    "        -9 => -0.25, 9 => .5,\n",
    "        -10 => -0.25, 10 => .5,\n",
    "        -11 => -1E20, 11 => 1.E20,\n",
    "        \n",
    "        -14 => 0.0, 14 => 0.101,\n",
    "        -15 => 0.0, 15 => 0.101,\n",
    "        -16 => -2.0E19, 16 => 2.0E19))\n",
    "\n",
    "    savefig(\"D3D_$(shot)/D3D_$(shot)___$(@sprintf(\"%04d\", k)).png\") # magick -delay 2 -loop 0 D3D_168830___*.png -layers Optimize D3D_194306.gif\n",
    "end\n",
    "gif(a, \"D3D_$(shot)/D3D_$(shot).gif\", fps=12)"
   ]
  }
 ],
 "metadata": {
  "@webio": {
   "lastCommId": "2495e006-a80c-4dd2-b192-afc0cadec4a3",
   "lastKernelId": "66f28ccd-1ee8-4951-bb31-ecb905f92053"
  },
  "kernelspec": {
   "display_name": "Julia (12 threads) 1.11.5",
   "language": "julia",
   "name": "julia-_12-threads_-1.11"
  },
  "language_info": {
   "file_extension": ".jl",
   "mimetype": "application/julia",
   "name": "julia",
   "version": "1.11.5"
  }
 },
 "nbformat": 4,
 "nbformat_minor": 5
}
