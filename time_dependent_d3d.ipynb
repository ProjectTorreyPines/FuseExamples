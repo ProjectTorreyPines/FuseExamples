{
 "cells": [
  {
   "cell_type": "markdown",
   "id": "0faddccf",
   "metadata": {},
   "source": [
    "# Time dependent D3D simulation"
   ]
  },
  {
   "cell_type": "code",
   "execution_count": null,
   "id": "7a9b8d48-d826-4c8d-920f-92239306ce51",
   "metadata": {
    "tags": []
   },
   "outputs": [],
   "source": [
    "using Plots;\n",
    "using FUSE\n",
    "FUSE.ProgressMeter.ijulia_behavior(:clear);"
   ]
  },
  {
   "cell_type": "code",
   "execution_count": null,
   "id": "20ae7ead-d216-48a1-9598-1cec84b825a6",
   "metadata": {
    "tags": []
   },
   "outputs": [],
   "source": [
    "@time begin\n",
    "#ini, act = FUSE.case_parameters(:D3D, 180893); #NBI with balanced torque\n",
    "#ini, act = FUSE.case_parameters(:D3D, 133221); # ECH\n",
    "#ini, act = FUSE.case_parameters(:D3D, 200000); # ECH\n",
    "#ini, act = FUSE.case_parameters(:D3D, 170325); # ECH 1.67924\n",
    "ini, act = FUSE.case_parameters(:D3D, 168830);\n",
    "#@time ini, act = FUSE.case_parameters(:D3D, 168830);\n",
    "#ini, act = FUSE.case_parameters(:D3D, 200204); # beam power scan, rotation, lower_to_upper null\n",
    "#ini, act = FUSE.case_parameters(:D3D, 200021; EFIT_tree=\"EFIT01\"); # negative B\n",
    "#ini, act = FUSE.case_parameters(:D3D, 173389);\n",
    "end\n",
    "@checkin :fetch ini act"
   ]
  },
  {
   "cell_type": "code",
   "execution_count": null,
   "id": "443b1a06-8f27-4f74-addb-158a70bc91fd",
   "metadata": {
    "tags": []
   },
   "outputs": [],
   "source": [
    "@checkout :fetch ini act;\n",
    "ini.time.simulation_start = ini.general.dd.equilibrium.time_slice[2].time\n",
    "act.ActorReplay.replay_dd = ini.general.dd\n",
    "dd =IMAS.dd()\n",
    "@time FUSE.init!(dd,ini,act);\n",
    "@checkin :init dd ini act;"
   ]
  },
  {
   "cell_type": "code",
   "execution_count": null,
   "id": "29a4050e-d11e-4b2a-9677-e3e47eeab6bf",
   "metadata": {
    "tags": []
   },
   "outputs": [],
   "source": [
    "@checkout :init dd ini act;\n",
    "experiment_LH = FUSE.LH_analysis(dd, 1.8, 2.2, 2.1; do_plot=true);\n",
    "#experiment_LH = FUSE.LH_analysis(dd, 1.2, 1.5; do_plot=true);"
   ]
  },
  {
   "cell_type": "markdown",
   "id": "0d4bf9e8-b24e-4dbc-b98c-54061b2bb356",
   "metadata": {
    "tags": []
   },
   "source": [
    "If the simulation is starting from experimental conditions (ie. we have not changed the equilibrium, profiles, sources when the time dependent simulation starts), our plasma should already be in a self-consistent state and we are ready to start our time dependent simulation. If the simulation does not start from know experimental conditions, we would need to call the `ActorStationaryPlasma` to start from a know consistent state."
   ]
  },
  {
   "cell_type": "code",
   "execution_count": null,
   "id": "b34e6b5f-896c-432d-b3dc-9c206e2422f4",
   "metadata": {
    "tags": []
   },
   "outputs": [],
   "source": [
    "@checkout :init dd act;\n",
    "act.ActorPedestal.model = :dynamic\n",
    "act.ActorPedestal.tau_n = experiment_LH.tau_n\n",
    "act.ActorPedestal.tau_t = experiment_LH.tau_t\n",
    "act.ActorWPED.ped_to_core_fraction = experiment_LH.W_ped_to_core_fraction\n",
    "act.ActorEPED.ped_factor = 0.7\n",
    "act.ActorPedestal.T_ratio_pedestal = 1.0 # Ti/Te in the pedestal\n",
    "if true\n",
    "    # density and Zeff from experiment\n",
    "    act.ActorPedestal.density_ratio_L_over_H = 1.0\n",
    "    act.ActorPedestal.zeff_ratio_L_over_H = 1.0\n",
    "else\n",
    "    # density can go from L to H mode at a different time\n",
    "    act.ActorPedestal.density_ratio_L_over_H = experiment_LH.ne_L_over_H\n",
    "    act.ActorPedestal.zeff_ratio_L_over_H = experiment_LH.zeff_L_over_H\n",
    "    dd.pulse_schedule.density_control.n_e_line.reference = experiment_LH.ne_H\n",
    "    dd.pulse_schedule.density_control.zeff_pedestal.reference = experiment_LH.zeff_H\n",
    "end\n",
    "\n",
    "if false\n",
    "    # LH-transition from LH scaling law\n",
    "    act.ActorPedestal.mode_transitions = missing\n",
    "else\n",
    "    # LH-transition at user-defined times\n",
    "    act.ActorPedestal.mode_transitions = experiment_LH.mode_transitions\n",
    "    act.ActorPedestal.mode_transitions[5.2] = :L_mode\n",
    "    @show act.ActorPedestal.mode_transitions\n",
    "end\n",
    "\n",
    "act.ActorEquilibrium.model = :FRESCO # EGGO\n",
    "\n",
    "act.ActorFRESCO.nR = 65\n",
    "act.ActorFRESCO.nZ = 65\n",
    "\n",
    "act.ActorNeutralFueling.τp_over_τe = 0.5\n",
    "\n",
    "act.ActorFluxMatcher.evolve_plasma_sources = false\n",
    "act.ActorFluxMatcher.max_iterations = 10\n",
    "act.ActorFluxMatcher.verbose = false\n",
    "act.ActorFluxMatcher.evolve_pedestal = false\n",
    "\n",
    "act.ActorTGLF.tglfnn_model = \"sat1_em_d3d\"\n",
    "#act.ActorTGLF.model = :GKNN\n",
    "#act.ActorTGLF.tglfnn_model = \"sat3_em_d3d_azf-1\"\n",
    "\n",
    "dd.global_time = ini.general.dd.equilibrium.time_slice[2].time # start_time\n",
    "δt = 0.025\n",
    "final_time = 5.7\n",
    "act.ActorDynamicPlasma.Nt = Int(ceil((final_time - dd.global_time) / δt))\n",
    "act.ActorDynamicPlasma.Δt = final_time - dd.global_time\n",
    "\n",
    "act.ActorDynamicPlasma.evolve_current = true\n",
    "act.ActorDynamicPlasma.evolve_equilibrium = true\n",
    "act.ActorDynamicPlasma.evolve_transport = true\n",
    "act.ActorDynamicPlasma.evolve_hcd = true\n",
    "act.ActorDynamicPlasma.evolve_pf_active = false\n",
    "act.ActorDynamicPlasma.evolve_pedestal = true\n",
    "\n",
    "act.ActorDynamicPlasma.ip_controller = false\n",
    "act.ActorDynamicPlasma.time_derivatives_sources = true\n",
    "\n",
    "# act.ActorCurrent.model = :replay\n",
    "# act.ActorEquilibrium.model = :replay\n",
    "# act.ActorCoreTransport.model = :replay\n",
    "# act.ActorPedestal.model = :replay\n",
    "# act.ActorHCD.ec_model = :replay\n",
    "# act.ActorHCD.ic_model = :replay\n",
    "# act.ActorHCD.lh_model = :replay\n",
    "# act.ActorHCD.nb_model = :replay\n",
    "# act.ActorHCD.pellet_model = :replay\n",
    "# act.ActorHCD.neutral_model = :none\n",
    "\n",
    "@time actor = FUSE.ActorDynamicPlasma(dd, act; verbose=true);\n",
    "@checkin :analysis dd ini act actor;"
   ]
  },
  {
   "cell_type": "code",
   "execution_count": null,
   "id": "99d0a272-b5a5-4f82-b6bf-b2b9dd42cc65",
   "metadata": {
    "tags": []
   },
   "outputs": [],
   "source": [
    "@checkin :time_dep dd ini act actor;"
   ]
  },
  {
   "cell_type": "code",
   "execution_count": null,
   "id": "d93f1c03-916c-47a9-8b8d-3dc8a53a4839",
   "metadata": {
    "tags": []
   },
   "outputs": [],
   "source": [
    "@checkout :time_dep dd act\n",
    "using Interact\n",
    "dd1 = FUSE.checkpoint[:init].dd\n",
    "IMAS.trim_time!(dd, (-Inf, dd.global_time-1E-6))\n",
    "@manipulate for time0 in slider(dd.equilibrium.time, value=dd.global_time, label=\"time\")\n",
    "    # p=plot(dd1.equilibrium; time0, color=:black)\n",
    "    # plot!(dd.equilibrium; time0)\n",
    "    # plot!(p[1], dd.wall)\n",
    "    \n",
    "    FUSE.plot_plasma_overview(dd, time0; dd1=dd1, size=(1400,1000), aggregate_hcd=true)#, min_power=1E4)\n",
    "\n",
    "#     # plot(dd.core_transport; time0)\n",
    "\n",
    "#     # plot(dd.core_sources; time0, aggregate_radiation=true, aggregate_hcd=true)\n",
    "    \n",
    "#     IMAS.ylim(Dict{Int,Float64}(\n",
    "#         3 => 3.5, 4 => 1E20,\n",
    "#         #-5 => -0.25, 5 => 1.5,\n",
    "#         -6 => -0.15, 6 => 0.5, -7 => -0.15, 7 => 0.5, -8 => -1E20, 8 => 1.E20,\n",
    "#         -10 => 0.0, 10 => 0.101, -11 => 0.0, 11 => 0.101, -12 => -2.0E19, 12 => 2.0E19))\n",
    "end"
   ]
  },
  {
   "cell_type": "markdown",
   "id": "319dbd88-cc55-4823-9a95-48794e1d5256",
   "metadata": {
    "tags": []
   },
   "source": [
    "Now we can plot the results, either as a animated gif"
   ]
  },
  {
   "cell_type": "code",
   "execution_count": null,
   "id": "c3a338dc-c5f1-45bc-979c-5567cb81ce6a",
   "metadata": {
    "tags": []
   },
   "outputs": [],
   "source": [
    "@checkout :time_dep dd;\n",
    "\n",
    "dd1 = FUSE.checkpoint[:init].dd\n",
    "times = dd.core_profiles.time[1:end]\n",
    "prog = FUSE.ProgressMeter.Progress(length(times))\n",
    "a = @animate for (k, time0) in enumerate(times)\n",
    "    FUSE.ProgressMeter.next!(prog; showvalues=((\"k\", k), (\"time\", time0)))\n",
    "    # if k < 114\n",
    "    #     continue\n",
    "    # end\n",
    "\n",
    "    p=plot(dd1.equilibrium; time0, color=:black)\n",
    "    plot!(dd.equilibrium; time0)\n",
    "    plot!(p[1],dd.wall)\n",
    "    \n",
    "#     FUSE.plot_plasma_overview(dd, time0; dd1, aggregate_hcd=true)\n",
    "\n",
    "#     IMAS.ylim(Dict{Int,Float64}(\n",
    "#         3 => 3.5, 4 => 1E20,\n",
    "#         #-5 => -0.25, 5 => 1.5,\n",
    "#         -6 => -0.15, 6 => 0.5, -7 => -0.15, 7 => 0.5, -8 => -1E20, 8 => 1.E20,\n",
    "#         -10 => 0.0, 10 => 0.101, -11 => 0.0, 11 => 0.101, -12 => -2.0E19, 12 => 2.0E19))\n",
    "\n",
    "    #savefig(\"D3D_168830_sawteeth_control/D3D_time_dep__$k.png\")\n",
    "end"
   ]
  }
 ],
 "metadata": {
  "@webio": {
   "lastCommId": "76565b87-6416-4fb7-b9f3-59eda00f67d1",
   "lastKernelId": "61eebabb-b89c-42e3-9f38-8bb3d2dc8c75"
  },
  "kernelspec": {
   "display_name": "Julia (12 threads) 1.11.5",
   "language": "julia",
   "name": "julia-_12-threads_-1.11"
  },
  "language_info": {
   "file_extension": ".jl",
   "mimetype": "application/julia",
   "name": "julia",
   "version": "1.11.5"
  }
 },
 "nbformat": 4,
 "nbformat_minor": 5
}
