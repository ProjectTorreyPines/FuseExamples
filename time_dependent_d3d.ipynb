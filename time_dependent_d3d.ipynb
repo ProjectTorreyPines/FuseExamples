{
 "cells": [
  {
   "cell_type": "markdown",
   "id": "0faddccf",
   "metadata": {},
   "source": [
    "# Time dependent D3D simulation"
   ]
  },
  {
   "cell_type": "code",
   "execution_count": null,
   "id": "7a9b8d48-d826-4c8d-920f-92239306ce51",
   "metadata": {
    "tags": []
   },
   "outputs": [],
   "source": [
    "using Plots;\n",
    "using FUSE\n",
    "using Interact\n",
    "FUSE.ProgressMeter.ijulia_behavior(:clear);"
   ]
  },
  {
   "cell_type": "code",
   "execution_count": null,
   "id": "b5d546d6-c7a4-4622-b87f-5dd9fbb5df8e",
   "metadata": {
    "tags": []
   },
   "outputs": [],
   "source": [
    "use_local_cache = false\n",
    "shot = 168830; @time ini, act = FUSE.case_parameters(:D3D, shot; fit_profiles=true, use_local_cache)\n",
    "@checkin :fetch ini act"
   ]
  },
  {
   "cell_type": "code",
   "execution_count": null,
   "id": "67196a59-24ce-4351-854e-06ecec319a69",
   "metadata": {
    "tags": []
   },
   "outputs": [],
   "source": [
    "# initialization takes experimental data and populates dd.pulse_schedule in a way that allows us to postdict the experiments\n",
    "# If we ever wanted to play \"what if\" simulations in FUSE, we would change the dd.pulse_schedule\n",
    "\n",
    "ini.time.simulation_start = ini.general.dd.equilibrium.time_slice[2].time\n",
    "dd = IMAS.dd()\n",
    "@time FUSE.init!(dd, ini, act);\n",
    "@checkin :init dd act;\n",
    "dd1 = FUSE.checkpoint[:init].dd;"
   ]
  },
  {
   "cell_type": "code",
   "execution_count": null,
   "id": "19765c71-fb8d-4e0a-afe6-7d698dd165a3",
   "metadata": {
    "tags": []
   },
   "outputs": [],
   "source": [
    "@manipulate for time0 in dd.equilibrium.time\n",
    "    plot(dd.core_profiles.profiles_1d[time0]; thomson_scattering=true, charge_exchange=true)\n",
    "end"
   ]
  },
  {
   "cell_type": "code",
   "execution_count": null,
   "id": "0830b64a-c58c-47f2-9d44-3fbfc4ca0f7a",
   "metadata": {
    "tags": []
   },
   "outputs": [],
   "source": [
    "@checkout :init dd act;\n",
    "experiment_LH = FUSE.LH_analysis(dd; do_plot=true);"
   ]
  },
  {
   "cell_type": "code",
   "execution_count": null,
   "id": "5f737f0b-bffa-4a91-b64b-dd9131566a6f",
   "metadata": {
    "tags": []
   },
   "outputs": [],
   "source": [
    "@checkout :init dd act;\n",
    "\n",
    "act.ActorPedestal.model = :dynamic\n",
    "act.ActorPedestal.tau_n = experiment_LH.tau_n\n",
    "act.ActorPedestal.tau_t = experiment_LH.tau_t\n",
    "act.ActorWPED.ped_to_core_fraction = experiment_LH.W_ped_to_core_fraction\n",
    "act.ActorEPED.ped_factor = 1.0\n",
    "act.ActorPedestal.T_ratio_pedestal = 1.0 # Ti/Te in the pedestal\n",
    "\n",
    "if true\n",
    "    # density and Zeff from experiment\n",
    "    act.ActorPedestal.density_ratio_L_over_H = 1.0\n",
    "    act.ActorPedestal.zeff_ratio_L_over_H = 1.0\n",
    "else\n",
    "    # density can go from L to H mode at a different time\n",
    "    act.ActorPedestal.density_ratio_L_over_H = experiment_LH.ne_L_over_H\n",
    "    act.ActorPedestal.zeff_ratio_L_over_H = experiment_LH.zeff_L_over_H\n",
    "    dd.pulse_schedule.density_control.n_e_line.reference = experiment_LH.ne_H\n",
    "    dd.pulse_schedule.density_control.zeff_pedestal.reference = experiment_LH.zeff_H\n",
    "end\n",
    "\n",
    "if false\n",
    "    # LH-transition from LH scaling law\n",
    "    act.ActorPedestal.mode_transitions = missing\n",
    "else\n",
    "    # LH-transition at user-defined times\n",
    "    act.ActorPedestal.mode_transitions = experiment_LH.mode_transitions\n",
    "    act.ActorPedestal.mode_transitions[5.2] = :L_mode\n",
    "end\n",
    "\n",
    "act.ActorEquilibrium.model = :FRESCO #:EGGO or FRESCO\n",
    "act.ActorFRESCO.nR = 65\n",
    "act.ActorFRESCO.nZ = 65\n",
    "\n",
    "act.ActorNeutralFueling.τp_over_τe = 0.25\n",
    "\n",
    "act.ActorFluxMatcher.evolve_plasma_sources = false\n",
    "act.ActorFluxMatcher.algorithm = :simple\n",
    "act.ActorFluxMatcher.max_iterations = -10 # negative to avoid print of warnings\n",
    "act.ActorFluxMatcher.evolve_pedestal = false\n",
    "act.ActorFluxMatcher.relax=0.5\n",
    "\n",
    "act.ActorTGLF.tglfnn_model = \"sat1_em_d3d\"\n",
    "\n",
    "# time\n",
    "δt = 0.05 # 0.025\n",
    "dd.global_time = ini.general.dd.equilibrium.time_slice[2].time # start_time should be early in the shot, when otherwise ohmic current will be wrong\n",
    "final_time = ini.general.dd.equilibrium.time[end]\n",
    "act.ActorDynamicPlasma.Nt = Int(ceil((final_time - dd.global_time) / δt))\n",
    "act.ActorDynamicPlasma.Δt = final_time - dd.global_time\n",
    "\n",
    "act.ActorDynamicPlasma.evolve_current = true\n",
    "act.ActorDynamicPlasma.evolve_equilibrium = true\n",
    "act.ActorDynamicPlasma.evolve_transport = true\n",
    "act.ActorDynamicPlasma.evolve_hcd = true\n",
    "act.ActorDynamicPlasma.evolve_pf_active = false\n",
    "act.ActorDynamicPlasma.evolve_pedestal = true\n",
    "\n",
    "# act.ActorCurrent.model = :replay\n",
    "# act.ActorEquilibrium.model = :replay\n",
    "# act.ActorCoreTransport.model = :replay\n",
    "# act.ActorPedestal.model = :replay\n",
    "# act.ActorHCD.ec_model = :replay\n",
    "# act.ActorHCD.ic_model = :replay\n",
    "# act.ActorHCD.lh_model = :replay\n",
    "# act.ActorHCD.nb_model = :replay\n",
    "# act.ActorHCD.pellet_model = :replay\n",
    "# act.ActorHCD.neutral_model = :none\n",
    "\n",
    "# for unit in dd.pulse_schedule.nbi.unit\n",
    "#     unit.power.reference .*= .5\n",
    "# end\n",
    "\n",
    "# GC.gc()\n",
    "\n",
    "@time actor = FUSE.ActorDynamicPlasma(dd, act; verbose=true);"
   ]
  },
  {
   "cell_type": "code",
   "execution_count": null,
   "id": "7839b65f-a4a0-4778-8c15-d54e80906c0b",
   "metadata": {
    "tags": []
   },
   "outputs": [],
   "source": [
    "@manipulate for time0 in slider(dd.equilibrium.time, value=dd.global_time/2.0, label=\"time\")\n",
    "    try\n",
    "        FUSE.plot_plasma_overview(dd, Float64(time0); dd1, aggregate_hcd=true)#, min_power=1E4)\n",
    "        \n",
    "#         IMAS.ylim(Dict{Int,Float64}(\n",
    "#             -2 => 0.0,\n",
    "#             -3 => 0.0, 3 => 2.0,\n",
    "#             -4 => 0.0, 4 => 4.0,\n",
    "#             -5 => 0.0, 5 => 4.0,\n",
    "#             6 => 1.1E20,\n",
    "\n",
    "#             -8 => -0.2, 8 => 2.0,\n",
    "#             -9 => -0.25, 9 => .5,\n",
    "#             -10 => -0.25, 10 => .5,\n",
    "#             -11 => -1E20, 11 => 1.0E20,\n",
    "\n",
    "#             -14 => 0.0, 14 => 0.101,\n",
    "#             -15 => 0.0, 15 => 0.101,\n",
    "#             -16 => -2.0E19, 16 => 2.0E19))\n",
    "        \n",
    "    catch e\n",
    "        #rethrow(e)\n",
    "        plot()\n",
    "    end\n",
    "end"
   ]
  },
  {
   "cell_type": "code",
   "execution_count": null,
   "id": "7e1d46ed-34de-42b4-bed8-4192eb8bca10",
   "metadata": {
    "tags": []
   },
   "outputs": [],
   "source": [
    "using Printf\n",
    "a = @animate for (k,time0) in enumerate(dd.equilibrium.time[2:2:end])\n",
    "    try\n",
    "        FUSE.plot_plasma_overview(dd, Float64(time0); dd1, aggregate_hcd=true)#, min_power=1E4)\n",
    "\n",
    "        IMAS.ylim(Dict{Int,Float64}(\n",
    "            -2 => 0.0,\n",
    "            -3 => 0.0, 3 => 2.0,\n",
    "            -4 => 0.0, 4 => 4.0,\n",
    "            -5 => 0.0, 5 => 4.0,\n",
    "            6 => 1.1E20,\n",
    "\n",
    "            -8 => -0.2, 8 => 2.0,\n",
    "            -9 => -0.25, 9 => .5,\n",
    "            -10 => -0.25, 10 => .5,\n",
    "            -11 => -1E20, 11 => 1.0E20,\n",
    "\n",
    "            -14 => 0.0, 14 => 0.101,\n",
    "            -15 => 0.0, 15 => 0.101,\n",
    "            -16 => -2.0E19, 16 => 2.0E19))\n",
    "\n",
    "        # p=plot(dd1.equilibrium; time0, color=:black, label=\" CAKE \")\n",
    "        # plot!(ddF.equilibrium; time0, label=\" FUSE - FRESCO\",lw=2)\n",
    "        # #plot!(ddE.equilibrium; time0, label=\" FUSE - EGGO (ML) \", lw=2)\n",
    "        # plot!(p[1], dd.wall, color=:black, legend_position = :outertop, legendfontsize=11)\n",
    "        # #plot!(p[1], dd.pulse_schedule.position_control, nothing; time0)\n",
    "        # plot!(p[1], ylim=(-1.5,1.5))\n",
    "        # plot!(p[2], ylim=(0.0,0.1))\n",
    "        # #annotate!(p[2], 0.5, 0.1, text(\"Pressure [MPa]\", 14), title=\"\")\n",
    "        # #annotate!(p[3], 0.5, 2.2, text(\"Current [MA/m²]\", 14), title=\"\")\n",
    "        # plot!(p[3], ylim=(0.0,2.3))\n",
    "\n",
    "        # plot(dd.core_profiles; time0)\n",
    "\n",
    "#         plot(dd.core_transport; time0)\n",
    "\n",
    "        # plot(dd.core_sources; time0, aggregate_radiation=true, aggregate_hcd=true, only=5)\n",
    "\n",
    "        savefig(\"D3D_$(shot)/D3D_$(shot)___$(@sprintf(\"%04d\", k)).png\") # magick -delay 2 -loop 0 D3D_168830___*.png -layers Optimize D3D_168830.gif\n",
    "    catch e\n",
    "        #rethrow(e)\n",
    "        plot()\n",
    "    end\n",
    "end"
   ]
  },
  {
   "cell_type": "code",
   "execution_count": null,
   "id": "8bad67a0-da09-4858-8445-77cb4ae2c166",
   "metadata": {
    "tags": []
   },
   "outputs": [],
   "source": [
    "gif(a, \"D3D_$(shot)/D3D_$(shot).gif\", fps=12)"
   ]
  }
 ],
 "metadata": {
  "@webio": {
   "lastCommId": "578406d2-d27c-43b0-bb9e-9b415ffeb218",
   "lastKernelId": "194282f1-4d8a-4f6a-ae7b-085a4eab417f"
  },
  "kernelspec": {
   "display_name": "Julia (12 threads) 1.11.6",
   "language": "julia",
   "name": "julia-_12-threads_-1.11"
  },
  "language_info": {
   "file_extension": ".jl",
   "mimetype": "application/julia",
   "name": "julia",
   "version": "1.11.6"
  }
 },
 "nbformat": 4,
 "nbformat_minor": 5
}
