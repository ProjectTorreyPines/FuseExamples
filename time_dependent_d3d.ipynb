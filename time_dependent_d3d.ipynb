{
 "cells": [
  {
   "cell_type": "markdown",
   "id": "0faddccf",
   "metadata": {},
   "source": [
    "# Time dependent D3D simulation"
   ]
  },
  {
   "cell_type": "code",
   "execution_count": null,
   "id": "7a9b8d48-d826-4c8d-920f-92239306ce51",
   "metadata": {
    "tags": []
   },
   "outputs": [],
   "source": [
    "using Plots;\n",
    "using FUSE\n",
    "using Interact\n",
    "FUSE.ProgressMeter.ijulia_behavior(:clear);"
   ]
  },
  {
   "cell_type": "code",
   "execution_count": null,
   "id": "71e3962e-f641-4f8e-95a3-50f819c9229a",
   "metadata": {
    "tags": []
   },
   "outputs": [],
   "source": [
    "use_local_cache = true\n",
    "@time begin\n",
    "#shot = 133221; ini, act = FUSE.case_parameters(:D3D, shot; fit_profiles=true, use_local_cache); # ECH /// measured 6*C is higher than ne\n",
    "#shot = 200000; ini, act = FUSE.case_parameters(:D3D, shot; fit_profiles=true, use_local_cache); # ECH\n",
    "#ini, act = FUSE.case_parameters(:D3D, 170325); # ECH 1.67924\n",
    "shot = 168830; ini, act = FUSE.case_parameters(:D3D, shot; fit_profiles=true, use_local_cache); #NBI with balanced torque\n",
    "\n",
    "#shot = 156905; ini, act = FUSE.case_parameters(:D3D, shot; use_local_cache); # Weird ZIPFIT holds <--fast_particles_profiles!\n",
    "#shot = 194306; ini, act = FUSE.case_parameters(:D3D, shot; use_local_cache, new_impurity_match_power_rad=:Kr); # negT\n",
    "#ini, act = FUSE.case_parameters(:D3D, 177476; use_local_cache, PROFILES_tree=\"ZIPFIT02\"); # Cihan's\n",
    "#@time ini, act = FUSE.case_parameters(:D3D, 168830);\n",
    "#ini, act = FUSE.case_parameters(:D3D, 200204); # beam power scan, rotation, lower_to_upper null\n",
    "#ini, act = FUSE.case_parameters(:D3D, 200021; EFIT_tree=\"EFIT01\"); # negative B\n",
    "#ini, act = FUSE.case_parameters(:D3D, 173389);\n",
    "end\n",
    "@checkin :fetch ini act"
   ]
  },
  {
   "cell_type": "code",
   "execution_count": null,
   "id": "d62c3c07-1048-4572-a11b-174858e4ed6d",
   "metadata": {
    "tags": []
   },
   "outputs": [],
   "source": [
    "@checkout :fetch ini act;\n",
    "ini.time.simulation_start = ini.general.dd.equilibrium.time_slice[2].time\n",
    "dd = IMAS.dd()\n",
    "@time FUSE.init!(dd, ini, act);\n",
    "@checkin :init dd act;"
   ]
  },
  {
   "cell_type": "code",
   "execution_count": null,
   "id": "972d150a-9c1a-44ae-b13f-2d5bf40f6c96",
   "metadata": {
    "tags": []
   },
   "outputs": [],
   "source": [
    "@checkout :init dd act;\n",
    "@manipulate for time0 in slider(ini.general.dd.equilibrium.time, label=\"time\")\n",
    "    dd.global_time = time0\n",
    "\n",
    "    # plot(dd.thomson_scattering, :n_e, label=\"\")\n",
    "    # plot!(dd.charge_exchange, :n_imp, normalization=6.0, label=\"\")\n",
    "    # plot!(dd.core_profiles.profiles_1d[].electrons, :density_thermal, lw=2, label=\"ne\")\n",
    "    # plot!(dd.core_profiles.profiles_1d[].ion[1], :density_thermal, normalization=1, lw=2, label=\"nD\")\n",
    "    # plot!(dd.core_profiles.profiles_1d[].ion[2], :density_thermal, normalization=6, lw=2, label=\"nC\")\n",
    "    # plot!(xlim=(0,1.2), ylim=(0,1.1E20))\n",
    "    \n",
    "    # plot(dd.charge_exchange, :t_i, label=\"\")\n",
    "    # plot!(dd.core_profiles.profiles_1d[], :t_i_average, lw=2, label=\"Ti\")\n",
    "    # plot!(xlim=(0,1.2), ylim=(0,5000))\n",
    "    \n",
    "    # plot(dd.charge_exchange, :zeff, label=\"\")\n",
    "    # plot!(dd.core_profiles.profiles_1d[], :zeff, lw=2, label=\"Zeff\")\n",
    "    # plot!(xlim=(0,1.2), ylim=(0.0,6))\n",
    "        \n",
    "    plot(dd.thomson_scattering, :t_e, label=\"\")\n",
    "    plot!(dd.core_profiles.profiles_1d[].electrons, :temperature, lw=2, label=\"Te\")\n",
    "    plot!(xlim=(0,1.2), ylim=(0,5000))\n",
    "    \n",
    "end"
   ]
  },
  {
   "cell_type": "code",
   "execution_count": null,
   "id": "6d57648d-f43e-4b15-b054-f37d05fc439f",
   "metadata": {
    "tags": []
   },
   "outputs": [],
   "source": [
    "@checkout :init dd act;\n",
    "experiment_LH = FUSE.LH_analysis(dd)#; scale_LH=2.5);\n",
    ";"
   ]
  },
  {
   "cell_type": "code",
   "execution_count": null,
   "id": "7914d050-da55-4b76-86da-8ab9ffe96bd3",
   "metadata": {
    "tags": []
   },
   "outputs": [],
   "source": [
    "@checkout :init dd act;\n",
    "act.ActorPedestal.model = :dynamic\n",
    "act.ActorPedestal.tau_n = experiment_LH.tau_n\n",
    "act.ActorPedestal.tau_t = experiment_LH.tau_t\n",
    "act.ActorWPED.ped_to_core_fraction = experiment_LH.W_ped_to_core_fraction\n",
    "act.ActorEPED.ped_factor = 1.0\n",
    "act.ActorPedestal.T_ratio_pedestal = 1.0 # Ti/Te in the pedestal\n",
    "if true\n",
    "    # density and Zeff from experiment\n",
    "    act.ActorPedestal.density_ratio_L_over_H = 1.0\n",
    "    act.ActorPedestal.zeff_ratio_L_over_H = 1.0\n",
    "else\n",
    "    # density can go from L to H mode at a different time\n",
    "    act.ActorPedestal.density_ratio_L_over_H = experiment_LH.ne_L_over_H\n",
    "    act.ActorPedestal.zeff_ratio_L_over_H = experiment_LH.zeff_L_over_H\n",
    "    dd.pulse_schedule.density_control.n_e_line.reference = experiment_LH.ne_H\n",
    "    dd.pulse_schedule.density_control.zeff_pedestal.reference = experiment_LH.zeff_H\n",
    "end\n",
    "\n",
    "if false\n",
    "    # LH-transition from LH scaling law\n",
    "    act.ActorPedestal.mode_transitions = missing\n",
    "else\n",
    "    # LH-transition at user-defined times\n",
    "    act.ActorPedestal.mode_transitions = experiment_LH.mode_transitions\n",
    "    act.ActorPedestal.mode_transitions[5.2] = :L_mode\n",
    "    @show act.ActorPedestal.mode_transitions\n",
    "end\n",
    "\n",
    "act.ActorEquilibrium.model = :EGGO # EGGO\n",
    "\n",
    "act.ActorFRESCO.nR = 65\n",
    "act.ActorFRESCO.nZ = 65\n",
    "\n",
    "act.ActorNeutralFueling.τp_over_τe = 0.5\n",
    "\n",
    "act.ActorFluxMatcher.evolve_plasma_sources = false\n",
    "act.ActorFluxMatcher.algorithm = :simple\n",
    "act.ActorFluxMatcher.max_iterations = -10\n",
    "act.ActorFluxMatcher.verbose = false\n",
    "act.ActorFluxMatcher.evolve_pedestal = false\n",
    "#act.ActorFluxMatcher.evolve_densities = :zeff\n",
    "\n",
    "act.ActorTGLF.tglfnn_model = \"sat1_em_d3d\"\n",
    "#act.ActorTGLF.model = :TJLF\n",
    "# act.ActorTGLF.tglfnn_model = \"sat3_em_d3d_azf-1\"\n",
    "\n",
    "dd.global_time = ini.general.dd.equilibrium.time_slice[2].time # start_time\n",
    "δt = 0.025\n",
    "final_time = ini.general.dd.equilibrium.time[end]\n",
    "act.ActorDynamicPlasma.Nt = Int(ceil((final_time - dd.global_time) / δt))\n",
    "act.ActorDynamicPlasma.Δt = final_time - dd.global_time\n",
    "\n",
    "act.ActorDynamicPlasma.evolve_current = true\n",
    "act.ActorDynamicPlasma.evolve_equilibrium = true\n",
    "act.ActorDynamicPlasma.evolve_transport = true\n",
    "act.ActorDynamicPlasma.evolve_hcd = true\n",
    "act.ActorDynamicPlasma.evolve_pf_active = false\n",
    "act.ActorDynamicPlasma.evolve_pedestal = true\n",
    "\n",
    "act.ActorDynamicPlasma.ip_controller = false\n",
    "act.ActorDynamicPlasma.time_derivatives_sources = true\n",
    "\n",
    "# act.ActorCurrent.model = :replay\n",
    "# act.ActorEquilibrium.model = :replay\n",
    "# act.ActorCoreTransport.model = :replay\n",
    "# act.ActorPedestal.model = :replay\n",
    "# act.ActorHCD.ec_model = :replay\n",
    "# act.ActorHCD.ic_model = :replay\n",
    "# act.ActorHCD.lh_model = :replay\n",
    "# act.ActorHCD.nb_model = :replay\n",
    "# act.ActorHCD.pellet_model = :replay\n",
    "# act.ActorHCD.neutral_model = :none\n",
    "GC.gc()\n",
    "@time actor = FUSE.ActorDynamicPlasma(dd, act; verbose=true);\n",
    "@checkin :time_dep_allst dd ini act actor;"
   ]
  },
  {
   "cell_type": "code",
   "execution_count": null,
   "id": "e5662637-6dff-41db-9ae7-84797b2e194e",
   "metadata": {
    "tags": []
   },
   "outputs": [],
   "source": [
    "# IMAS.imas2hdf(dd, \"fuse_$(shot).h5\");"
   ]
  },
  {
   "cell_type": "code",
   "execution_count": null,
   "id": "2bbd1df5-f7f8-408d-83e9-23b85ad403e9",
   "metadata": {
    "tags": []
   },
   "outputs": [],
   "source": [
    "#@checkout :time_dep dd;\n",
    "\n",
    "dd1 = FUSE.checkpoint[:init].dd\n",
    "IMAS.trim_time!(dd, (-Inf, dd.global_time-1E-6)); # shaves off the last time slice, useful when simulation crashes and leaves last time-slice in a bad state\n",
    "\n",
    "@manipulate for time0 in slider(dd.equilibrium.time, value=dd.global_time/2.0, label=\"time\")\n",
    "    try\n",
    "        FUSE.plot_plasma_overview(dd, Float64(time0); dd1, aggregate_hcd=true)#, min_power=1E4)\n",
    "        # plot(dd.core_profiles.profiles_1d[time0], :zeff; ylim=(0,6))\n",
    "\n",
    "    IMAS.ylim(Dict{Int,Float64}(\n",
    "        -2 => 0.0, \n",
    "        -3 => 0.0, 3 => 1500.0,\n",
    "        4 => 4.0,\n",
    "        5 => 4.0,\n",
    "        6 => 1.1E20,\n",
    "\n",
    "        -8 => -0.2, 8 => 2.0,\n",
    "        -9 => -0.25, 9 => .5,\n",
    "        -10 => -0.25, 10 => .5,\n",
    "        -11 => -1E20, 11 => 1.0E20,\n",
    "        \n",
    "        -14 => 0.0, 14 => 0.101,\n",
    "        -15 => 0.0, 15 => 0.101,\n",
    "        -16 => -2.0E19, 16 => 2.0E19))\n",
    "\n",
    "#         p=plot(dd1.equilibrium; time0, color=:black)\n",
    "#         plot!(dd.equilibrium; time0)\n",
    "#         plot!(p[1], dd.wall)\n",
    "\n",
    "\n",
    "#         plot(dd.core_transport; time0)\n",
    "\n",
    "#         plot(dd.core_sources; time0, aggregate_radiation=true, aggregate_hcd=true)\n",
    "\n",
    "    catch\n",
    "        plot()\n",
    "    end\n",
    "    \n",
    "end"
   ]
  },
  {
   "cell_type": "code",
   "execution_count": null,
   "id": "7c4aa1eb-18c7-4ef0-84cc-e2d579d8fb1f",
   "metadata": {
    "tags": []
   },
   "outputs": [],
   "source": [
    "using Interact\n",
    "using Printf\n",
    "\n",
    "a = @animate for (k, time0) in enumerate(dd.equilibrium.time)\n",
    "    println(k)\n",
    "    try\n",
    "        FUSE.plot_plasma_overview(dd, time0; dd1=dd1, aggregate_hcd=true)\n",
    "    catch\n",
    "        continue\n",
    "    end\n",
    "    \n",
    "    IMAS.ylim(Dict{Int,Float64}(\n",
    "        -2 => 0.0, \n",
    "        -3 => 0.0, 3 => 1500.0,\n",
    "        4 => 4.0,\n",
    "        5 => 4.0,\n",
    "        6 => 1.1E20,\n",
    "\n",
    "        -8 => -0.2, 8 => 2.0,\n",
    "        -9 => -0.25, 9 => .5,\n",
    "        -10 => -0.25, 10 => .5,\n",
    "        -11 => -1E20, 11 => 1.0E20,\n",
    "        \n",
    "        -14 => 0.0, 14 => 0.101,\n",
    "        -15 => 0.0, 15 => 0.101,\n",
    "        -16 => -2.0E19, 16 => 2.0E19))\n",
    "\n",
    "    savefig(\"D3D_$(shot)/D3D_$(shot)___$(@sprintf(\"%04d\", k)).png\") # magick -delay 2 -loop 0 D3D_168830___*.png -layers Optimize D3D_194306.gif\n",
    "end\n",
    "gif(a, \"D3D_$(shot)/D3D_$(shot).gif\", fps=12)"
   ]
  },
  {
   "cell_type": "code",
   "execution_count": null,
   "id": "ea80abf4-cd5e-43b1-864c-797cf8053522",
   "metadata": {
    "tags": []
   },
   "outputs": [],
   "source": [
    "FUSE.group_similar_actuators(dd.nbi.unit, dd.pulse_schedule.nbi.unit; grouping_tolerance=1.0)"
   ]
  },
  {
   "cell_type": "code",
   "execution_count": null,
   "id": "22501e86-507d-4841-a01d-4ffe8193b224",
   "metadata": {},
   "outputs": [],
   "source": []
  }
 ],
 "metadata": {
  "@webio": {
   "lastCommId": "8960b916-caa0-43cb-808e-565dc889e566",
   "lastKernelId": "4f767f44-912f-4e4e-abbf-d47467046d15"
  },
  "kernelspec": {
   "display_name": "Julia (12 threads) 1.11.5",
   "language": "julia",
   "name": "julia-_12-threads_-1.11"
  },
  "language_info": {
   "file_extension": ".jl",
   "mimetype": "application/julia",
   "name": "julia",
   "version": "1.11.5"
  }
 },
 "nbformat": 4,
 "nbformat_minor": 5
}
