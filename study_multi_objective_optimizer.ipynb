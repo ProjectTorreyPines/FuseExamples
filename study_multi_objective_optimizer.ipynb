{
 "cells": [
  {
   "cell_type": "code",
   "execution_count": 10,
   "id": "d61dcfdb-a638-4a59-adf3-df98849c1bcd",
   "metadata": {
    "tags": []
   },
   "outputs": [],
   "source": [
    "#using Pkg\n",
    "\n",
    "#Pkg.activate(\"/Users/tims/.julia/dev/FUSE_Design\")\n",
    "using Revise\n",
    "using FUSE\n",
    "\n",
    "using Plots;\n",
    "FUSE.logging(Logging.Info; actors=Logging.Error);\n"
   ]
  },
  {
   "cell_type": "code",
   "execution_count": 11,
   "id": "0f07287d-ee04-44f3-bade-c31e18f3fc94",
   "metadata": {
    "tags": []
   },
   "outputs": [
    {
     "name": "stdout",
     "output_type": "stream",
     "text": [
      "== OBJECTIVE FUNCTIONS ==\n"
     ]
    },
    {
     "data": {
      "text/plain": [
       "2-element Vector{IMAS.ObjectiveFunction}:\n",
       " \u001b[34m\u001b[1mmin_capital_cost\u001b[22m\u001b[39m → -Inf [$B]\n",
       " \u001b[34m\u001b[1mmax_q95\u001b[22m\u001b[39m → Inf []"
      ]
     },
     "metadata": {},
     "output_type": "display_data"
    },
    {
     "name": "stdout",
     "output_type": "stream",
     "text": [
      "\n",
      "== CONSTRAINT FUNCTIONS ==\n"
     ]
    },
    {
     "data": {
      "text/plain": [
       "11-element Vector{IMAS.ConstraintFunction}:\n",
       " \u001b[34m\u001b[1mpower_electric_net\u001b[22m\u001b[39m == 0.0 ± 0.2 [%]\n",
       " \u001b[34m\u001b[1mmin_q95\u001b[22m\u001b[39m > 0.0 [%]\n",
       " \u001b[34m\u001b[1mmax_transport_error\u001b[22m\u001b[39m < 0.1 []\n",
       " \u001b[34m\u001b[1mmax_beta_normal\u001b[22m\u001b[39m < 0.0 []\n",
       " \u001b[34m\u001b[1mmin_lh_power_threshold_fraction\u001b[22m\u001b[39m > 1.0 [%]\n",
       " \u001b[34m\u001b[1mmax_Psol_R\u001b[22m\u001b[39m < 0.0 [%]\n",
       " \u001b[34m\u001b[1mmax_tf_coil_j\u001b[22m\u001b[39m < 1.0 [%]\n",
       " \u001b[34m\u001b[1mmax_oh_coil_j\u001b[22m\u001b[39m < 1.0 [%]\n",
       " \u001b[34m\u001b[1mmax_pl_stress\u001b[22m\u001b[39m < 1.0 [%]\n",
       " \u001b[34m\u001b[1mmax_tf_coil_stress\u001b[22m\u001b[39m < 1.0 [%]\n",
       " \u001b[34m\u001b[1mmax_oh_coil_stress\u001b[22m\u001b[39m < 1.0 [%]"
      ]
     },
     "metadata": {},
     "output_type": "display_data"
    }
   ],
   "source": [
    "negative_triangularity = false\n",
    "\n",
    "ini,act = FUSE.case_parameters(:KDEMO);\n",
    "\n",
    "### Act settings\n",
    "act.ActorEquilibrium.model = :TEQUILA\n",
    "act.ActorCoreTransport.model = :FluxMatcher\n",
    "\n",
    "act.ActorPFdesign.model=:optimal\n",
    "act.ActorFluxSwing.operate_oh_at_j_crit = true # this maximizes flattop inside the fluxswing actor\n",
    "\n",
    "act.ActorWholeFacility.update_plasma = true\n",
    "\n",
    "# This is handeled by the constraint funcitons\n",
    "act.ActorHFSsizing.error_on_performance = false\n",
    "act.ActorHFSsizing.error_on_technology = false\n",
    "\n",
    "\n",
    "act.ActorCoreTransport.model = :FluxMatcher\n",
    "act.ActorFluxMatcher.evolve_densities = :flux_match\n",
    "\n",
    "\n",
    "ini.core_profiles.zeff = ini.core_profiles.zeff = 2.0 ↔ [1.1, 4.0]\n",
    "ini.core_profiles.ne_setting = :greenwald_fraction_ped\n",
    "ini.core_profiles.ne_value = 0.5 ↔ [0.2, 1.3]\n",
    "ini.core_profiles.impurity = :Kr  ↔ (:Kr, :Ar, :Ne, :Xe)\n",
    "\n",
    "act.ActorFluxMatcher.max_iterations = 500\n",
    "\n",
    "\n",
    "ini.equilibrium.ζ = 0.1 ↔ [0,0.2]\n",
    "ini.equilibrium.B0 = ini.equilibrium.B0 ↔ [3.0, 15.0]\n",
    "ini.equilibrium.ip = ini.equilibrium.ip ↔ [4.0e6, 22e6]\n",
    "ini.equilibrium.R0 = ini.equilibrium.R0 ↔ [4.0, 8.0]\n",
    "ini.equilibrium.pressure_core = missing\n",
    "\n",
    "ini.bop.cycle_type = :brayton ↔ (:rankine, :brayton)\n",
    "ini.tf.technology = :rebco #  ↔ (:nb3sn_iter, :rebco)\n",
    "ini.tf.shape = :racetrack ↔ (:racetrack,:double_ellipse,:offset)\n",
    "ini.oh.technology = :rebco # ↔ (:nb3sn_iter, :rebco)\n",
    "ini.pf_active.technology = :nb3sn_iter # ↔ (:nb3sn_iter, :rebco)\n",
    "\n",
    "\n",
    "\n",
    "if negative_triangularity\n",
    "\n",
    "    act.ActorPedestal.model = :WPED\n",
    "    act.ActorWPED.ped_to_core_fraction = 0.25\n",
    "\n",
    "    act.ActorFluxMatcher.rho_transport = 0.2:0.05:0.9\n",
    "    act.ActorTGLF.tglfnn_model =\"sat0quench_em_d3d+mastu_azf+1\"\n",
    "    act.ActorFluxMatcher.algorithm = :simple\n",
    "    act.ActorFluxMatcher.evolve_pedestal = false\n",
    "\n",
    "    ini.equilibrium.δ = -0.4 ↔ [-0.7, 0.0]\n",
    "\n",
    "    ini.equilibrium.κ =  1.8\n",
    "    ini.tf.shape = :racetrack ↔ (:racetrack,:double_ellipse,:offset)\n",
    "\n",
    "    ini.requirements.lh_power_threshold_fraction = missing\n",
    "    \n",
    "    \n",
    "else\n",
    "    \n",
    "    act.ActorPedestal.model = :EPED\n",
    "    act.ActorFluxMatcher.rho_transport = 0.2:0.05:0.8\n",
    "    act.ActorTGLF.tglfnn_model =\"sat0quench_em_d3d+mastu_azf+1\"\n",
    "    act.ActorFluxMatcher.algorithm = :simple\n",
    "    act.ActorFluxMatcher.evolve_pedestal = true\n",
    "\n",
    "    ini.equilibrium.δ = 0.4 ↔ [0.0, 0.7]\n",
    "\n",
    "    ini.equilibrium.κ =  0.9\n",
    "    ini.tf.shape = :offset ↔ (:double_ellipse,:offset)\n",
    "\n",
    "    ini.requirements.lh_power_threshold_fraction = 1.\n",
    "\n",
    "end    \n",
    "\n",
    "# Requirements\n",
    "ini.requirements.flattop_duration = 3600.\n",
    "ini.requirements.log10_flattop_duration = missing # log10 versionis not needed\n",
    "\n",
    "ini.requirements.power_electric_net = 250e6 # 250 +/- 50 MWe\n",
    "ini.requirements.tritium_breeding_ratio = 1.1\n",
    "ini.requirements.q95 = 3.0\n",
    "ini.requirements.beta_normal = 3.5\n",
    "ini.requirements.Psol_R = 15. # this pushes you to have a big tokamak\n",
    "\n",
    "ini.requirements.coil_j_margin = 0.1\n",
    "ini.requirements.coil_stress_margin = 0.1\n",
    "\n",
    "\n",
    "IMAS.update_ObjectiveFunctionsLibrary!()\n",
    "IMAS.update_ConstraintFunctionsLibrary!()\n",
    "\n",
    "OFL = deepcopy(IMAS.ObjectiveFunctionsLibrary)\n",
    "CFL = deepcopy(IMAS.ConstraintFunctionsLibrary)\n",
    "\n",
    "objective_functions = [OFL[:min_capital_cost],OFL[:max_q95]]#, OFL[:max_log10_flattop]]\n",
    "\n",
    "constraint_functions = []\n",
    "\n",
    "if negative_triangularity\n",
    "    constraint_functions = [\n",
    "        CFL[:power_electric_net],\n",
    "        CFL[:min_q95],\n",
    "        CFL[:max_transport_error],\n",
    "        CFL[:max_beta_normal],\n",
    "        CFL[:max_Psol_R],\n",
    "        CFL[:max_tf_coil_j],CFL[:max_oh_coil_j],\n",
    "        CFL[:max_pl_stress],CFL[:max_tf_coil_stress],CFL[:max_oh_coil_stress]]\n",
    "   \n",
    "else\n",
    "    constraint_functions = [\n",
    "        CFL[:power_electric_net],\n",
    "        CFL[:min_q95],\n",
    "        CFL[:max_transport_error],\n",
    "        CFL[:max_beta_normal],\n",
    "        CFL[:min_lh_power_threshold_fraction],\n",
    "        CFL[:max_Psol_R],\n",
    "        CFL[:max_tf_coil_j],CFL[:max_oh_coil_j],\n",
    "        CFL[:max_pl_stress],CFL[:max_tf_coil_stress],CFL[:max_oh_coil_stress]]\n",
    "end\n",
    "\n",
    "println(\"== OBJECTIVE FUNCTIONS ==\")\n",
    "display(objective_functions)\n",
    "println()\n",
    "println(\"== CONSTRAINT FUNCTIONS ==\")\n",
    "display(constraint_functions)"
   ]
  },
  {
   "cell_type": "code",
   "execution_count": 12,
   "id": "80329df2-2ece-4100-a31e-acde250e6988",
   "metadata": {
    "tags": []
   },
   "outputs": [
    {
     "data": {
      "text/plain": [
       "FUSE.FUSEparameters__ParametersStudyMultiObjectiveOptimizer{Real}"
      ]
     },
     "execution_count": 12,
     "metadata": {},
     "output_type": "execute_result"
    }
   ],
   "source": [
    "# sty is the act equivalent for a study, it has common parameters like server and n_workers but also study dependent parameters like n_simulations\n",
    "sty, _ = FUSE.study_parameters(:MultiObjectiveOptimizer);\n",
    "typeof(sty)"
   ]
  },
  {
   "cell_type": "code",
   "execution_count": 13,
   "id": "d984ab89-239b-46c9-add5-8424aefc3753",
   "metadata": {
    "tags": []
   },
   "outputs": [
    {
     "data": {
      "text/plain": [
       "\u001b[0m\u001b[1mParametersStudyMultiObjectiveOptimizer\u001b[22m\n",
       "├─ \u001b[0m\u001b[1mserver\u001b[22m\u001b[0m{String}\u001b[0m ➡ \u001b[32m\"localhost\"\u001b[39m \u001b[97mWhere to run [\"localhost\", \"omega\", \"saga\", \"feynman\", \"engaging\"]\u001b[39m\n",
       "├─ \u001b[0m\u001b[1mn_workers\u001b[22m\u001b[0m{Int64}\u001b[0m ➡ \u001b[31m4\u001b[39m \u001b[97mNumber of workers to run with\u001b[39m\n",
       "├─ \u001b[0m\u001b[1mfile_save_mode\u001b[22m\u001b[0m{Symbol}\u001b[0m ➡ \u001b[32m:safe_write\u001b[39m \u001b[97mSaving file policy, `safe_write` only writes when the folder is empty [:safe_write,\u001b[39m\n",
       "│  \u001b[97m:overwrite, :append]\u001b[39m\n",
       "├─ \u001b[0m\u001b[1mrelease_workers_after_run\u001b[22m\u001b[0m{Bool}\u001b[0m ➡ \u001b[32mtrue\u001b[39m \u001b[97mReleases the workers after running the study\u001b[39m\n",
       "├─ \u001b[0m\u001b[1mrestart_workers_after_n_generations\u001b[22m\u001b[0m{Int64}\u001b[0m ➡ \u001b[31m5\u001b[39m \u001b[97mRuns the optimization in a safe way restarting the workers every N\u001b[39m\n",
       "│  \u001b[97mgenerations, default is never restart\u001b[39m\n",
       "├─ \u001b[0m\u001b[1msave_folder\u001b[22m\u001b[0m{String}\u001b[0m ➡ \u001b[31m\"/Users/tims/Dropbox/FusionPowerPlantDesign_FUSE/FuseExamples/test_moop212123223\"\u001b[39m \u001b[97mFolder to save\u001b[39m\n",
       "│  \u001b[97mthe database runs into\u001b[39m\n",
       "├─ \u001b[0m\u001b[1mpopulation_size\u001b[22m\u001b[0m{Int64}\u001b[0m ➡ \u001b[31m4\u001b[39m \u001b[97mNumber of individuals in a generation\u001b[39m\n",
       "├─ \u001b[0m\u001b[1mnumber_of_generations\u001b[22m\u001b[0m{Int64}\u001b[0m ➡ \u001b[31m4\u001b[39m \u001b[97mNumber generations\u001b[39m\n",
       "└─ \u001b[0m\u001b[1mdatabase_policy\u001b[22m\u001b[0m{Symbol}\u001b[0m ➡ \u001b[32m:single_hdf5\u001b[39m \u001b[97mData storage policy: 'separate_folders' stores each case in a separate folder,\u001b[39m\n",
       "   \u001b[97mwhile 'single_hdf5' merges all cases into a single HDF5 file [:separate_folders, :single_hdf5]\u001b[39m\n"
      ]
     },
     "execution_count": 13,
     "metadata": {},
     "output_type": "execute_result"
    }
   ],
   "source": [
    "# Interacting with sty\n",
    "sty.server = \"localhost\" # this can be set to saga/omega/your_cluster\n",
    "sty.n_workers = 4\n",
    "\n",
    "dirr = joinpath(pwd(),\"test_moop212123223\")\n",
    "if !isdir(dirr)\n",
    "    sty.save_folder = mkdir(dirr)\n",
    "else\n",
    "    sty.save_folder = dirr\n",
    "end\n",
    "\n",
    "sty.restart_workers_after_n_generations = 5 # this is the default behavior and releases workers after running the study\n",
    "\n",
    "sty.population_size = 4 \n",
    "sty.number_of_generations = 4\n",
    "\n",
    "# For a reaslistic study you need about population_size = 300 and number_of_generations = 100\n",
    "\n",
    "sty"
   ]
  },
  {
   "cell_type": "code",
   "execution_count": null,
   "id": "73604b49-7255-4e14-8374-812ea40cc02f",
   "metadata": {},
   "outputs": [],
   "source": []
  },
  {
   "cell_type": "code",
   "execution_count": 14,
   "id": "3b903794-8aca-4bd1-9e7c-738acad84ad7",
   "metadata": {
    "tags": []
   },
   "outputs": [
    {
     "name": "stdout",
     "output_type": "stream",
     "text": [
      "Working with 4 workers on Tims-MacBook-Pro.local\n"
     ]
    }
   ],
   "source": [
    "# study is the actor equivalent of actors, here sty, act and outputs are kept of the workflow\n",
    "study = FUSE.StudyMultiObjectiveOptimizer(sty,ini, act, constraint_functions, objective_functions); # it is possible to pass in keyword arguments to sty\n",
    "# instantiating the study will also setup the study i.e. FUSE.setup(study);\n",
    "\n",
    "# for now you will have to import FUSE everywhere in your distributed computing\n",
    "using Distributed\n",
    "@everywhere import FUSE\n",
    "@everywhere import IJulia"
   ]
  },
  {
   "cell_type": "code",
   "execution_count": 15,
   "id": "38c9e620-2e00-4efc-9242-9f0e42f6d771",
   "metadata": {},
   "outputs": [
    {
     "data": {
      "text/plain": [
       "4-element Vector{Int64}:\n",
       " 2\n",
       " 3\n",
       " 4\n",
       " 5"
      ]
     },
     "execution_count": 15,
     "metadata": {},
     "output_type": "execute_result"
    }
   ],
   "source": [
    "Distributed.workers()"
   ]
  },
  {
   "cell_type": "code",
   "execution_count": 16,
   "id": "b77ae0fa-ec9a-4f79-b791-21cf25218e5e",
   "metadata": {},
   "outputs": [
    {
     "data": {
      "text/plain": [
       "(true, 4)"
      ]
     },
     "execution_count": 16,
     "metadata": {},
     "output_type": "execute_result"
    }
   ],
   "source": [
    "max_gens_per_iteration = sty.restart_workers_after_n_generations\n",
    "\n",
    "steps = Int(ceil(sty.number_of_generations / max_gens_per_iteration))\n",
    "sty.restart_workers_after_n_generations\n",
    "1 == steps, mod(sty.number_of_generations, max_gens_per_iteration)"
   ]
  },
  {
   "cell_type": "code",
   "execution_count": null,
   "id": "94ec7cfc-9324-47b8-b387-5b0b15800359",
   "metadata": {
    "tags": []
   },
   "outputs": [
    {
     "name": "stdout",
     "output_type": "stream",
     "text": [
      "Running 5 generations (1 / 1)\n",
      "Working with 4 workers on Tims-MacBook-Pro.local\n",
      "Running on 4 worker processes\n",
      "== Actuators ==\n",
      "\u001b[34m\u001b[1mini.equilibrium.B0\u001b[22m\u001b[39m\n",
      "\u001b[0mFloat64ype: \u001b[22m\n",
      "\u001b[0m\u001b[1m- units: \u001b[22m\u001b[0mT\n",
      "\u001b[0m\u001b[1m- description: \u001b[22m\u001b[0mVacuum toroidal field at R0 [T]; Positive sign means anti-clockwise when viewing from above. The product R0B0 must be consistent with the b_tor_vacuum_r field of the tf IDS.\n",
      "\u001b[0m\u001b[1m- value: \u001b[22m\u001b[0m6.55\n",
      "\u001b[0m\u001b[1m- base: \u001b[22m\u001b[0m6.55\n",
      "\u001b[0m\u001b[1m- default: \u001b[22m\u001b[0mmissing\n",
      "\u001b[0m\u001b[1m- opt: \u001b[22m\u001b[0mSimulationParameters.OptParameterRange{Float64}(6.55, 3.0, 15.0, 1, missing)\n",
      "\u001b[0m\u001b[1m- check: \u001b[22m\u001b[0mnothing\n",
      "\u001b[34m\u001b[1mini.equilibrium.R0\u001b[22m\u001b[39m\n",
      "\u001b[0m\u001b[1m- type: \u001b[22m\u001b[0mFloat64\n",
      "\u001b[0m\u001b[1m- units: \u001b[22m\u001b[0mm\n",
      "\u001b[0m\u001b[1m- description: \u001b[22m\u001b[0mGeometric genter of the plasma. NOTE: This also scales the radial build layers.\n",
      "\u001b[0m\u001b[1m- value: \u001b[22m\u001b[0m6.8\n",
      "\u001b[0m\u001b[1m- base: \u001b[22m\u001b[0m6.8\n",
      "\u001b[0m\u001b[1m- default: \u001b[22m\u001b[0mmissing\n",
      "\u001b[0m\u001b[1m- opt: \u001b[22m\u001b[0mSimulationParameters.OptParameterRange{Float64}(6.8, 4.0, 8.0, 1, missing)\n",
      "\u001b[0m\u001b[1m- check: \u001b[22m\u001b[0m#162\n",
      "\u001b[31m\u001b[1mini.equilibrium.δ\u001b[22m\u001b[39m\n",
      "\u001b[0m\u001b[1m- type: \u001b[22m\u001b[0mFloat64\n",
      "\u001b[0m\u001b[1m- units: \u001b[22m\u001b[0m-\n",
      "\u001b[0m\u001b[1m- description: \u001b[22m\u001b[0mTriangularity of the plasma boundary [MXH sin(s1)]\n",
      "\u001b[0m\u001b[1m- value: \u001b[22m\u001b[0m0.4\n",
      "\u001b[0m\u001b[1m- base: \u001b[22m\u001b[0m0.59\n",
      "\u001b[0m\u001b[1m- default: \u001b[22m\u001b[0m0.0\n",
      "\u001b[0m\u001b[1m- opt: \u001b[22m\u001b[0mSimulationParameters.OptParameterRange{Float64}(0.4, 0.0, 0.7, 1, missing)\n",
      "\u001b[0m\u001b[1m- check: \u001b[22m\u001b[0mnothing\n",
      "\u001b[31m\u001b[1mini.equilibrium.ζ\u001b[22m\u001b[39m\n",
      "\u001b[0m\u001b[1m- type: \u001b[22m\u001b[0mFloat64\n",
      "\u001b[0m\u001b[1m- units: \u001b[22m\u001b[0m-\n",
      "\u001b[0m\u001b[1m- description: \u001b[22m\u001b[0mSquareness of the plasma boundary [MXH -s2]\n",
      "\u001b[0m\u001b[1m- value: \u001b[22m\u001b[0m0.1\n",
      "\u001b[0m\u001b[1m- base: \u001b[22m\u001b[0m0.0\n",
      "\u001b[0m\u001b[1m- default: \u001b[22m\u001b[0m0.0\n",
      "\u001b[0m\u001b[1m- opt: \u001b[22m\u001b[0mSimulationParameters.OptParameterRange{Float64}(0.1, 0.0, 0.2, 1, missing)\n",
      "\u001b[0m\u001b[1m- check: \u001b[22m\u001b[0mnothing\n",
      "\u001b[34m\u001b[1mini.equilibrium.ip\u001b[22m\u001b[39m\n",
      "\u001b[0m\u001b[1m- type: \u001b[22m\u001b[0mFloat64\n",
      "\u001b[0m\u001b[1m- units: \u001b[22m\u001b[0mA\n",
      "\u001b[0m\u001b[1m- description: \u001b[22m\u001b[0mPlasma current (toroidal component). Positive sign means anti-clockwise when viewed from above.\n",
      "\u001b[0m\u001b[1m- value: \u001b[22m\u001b[0m1.3e7\n",
      "\u001b[0m\u001b[1m- base: \u001b[22m\u001b[0m1.3e7\n",
      "\u001b[0m\u001b[1m- default: \u001b[22m\u001b[0mmissing\n",
      "\u001b[0m\u001b[1m- opt: \u001b[22m\u001b[0mSimulationParameters.OptParameterRange{Float64}(1.3e7, 4.0e6, 2.2e7, 1, missing)\n",
      "\u001b[0m\u001b[1m- check: \u001b[22m\u001b[0mnothing\n",
      "\u001b[31m\u001b[1mini.core_profiles.ne_value\u001b[22m\u001b[39m\n",
      "\u001b[0m\u001b[1m- type: \u001b[22m\u001b[0mFloat64\n",
      "\u001b[0m\u001b[1m- units: \u001b[22m\u001b[0m-\n",
      "\u001b[0m\u001b[1m- description: \u001b[22m\u001b[0mValue based on setup method\n",
      "\u001b[0m\u001b[1m- value: \u001b[22m\u001b[0m0.5\n",
      "\u001b[0m\u001b[1m- base: \u001b[22m\u001b[0m0.675\n",
      "\u001b[0m\u001b[1m- default: \u001b[22m\u001b[0mmissing\n",
      "\u001b[0m\u001b[1m- opt: \u001b[22m\u001b[0mSimulationParameters.OptParameterRange{Float64}(0.5, 0.2, 1.3, 1, missing)\n",
      "\u001b[0m\u001b[1m- check: \u001b[22m\u001b[0m#217\n",
      "\u001b[34m\u001b[1mini.core_profiles.zeff\u001b[22m\u001b[39m\n",
      "\u001b[0m\u001b[1m- type: \u001b[22m\u001b[0mFloat64\n",
      "\u001b[0m\u001b[1m- units: \u001b[22m\u001b[0m-\n",
      "\u001b[0m\u001b[1m- description: \u001b[22m\u001b[0mEffective ion charge\n",
      "\u001b[0m\u001b[1m- value: \u001b[22m\u001b[0m2.0\n",
      "\u001b[0m\u001b[1m- base: \u001b[22m\u001b[0m2.0\n",
      "\u001b[0m\u001b[1m- default: \u001b[22m\u001b[0mmissing\n",
      "\u001b[0m\u001b[1m- opt: \u001b[22m\u001b[0mSimulationParameters.OptParameterRange{Float64}(2.0, 1.1, 4.0, 1, missing)\n",
      "\u001b[0m\u001b[1m- check: \u001b[22m\u001b[0m#224\n",
      "\u001b[31m\u001b[1mini.core_profiles.impurity\u001b[22m\u001b[39m\n",
      "\u001b[0m\u001b[1m- type: \u001b[22m\u001b[0mSymbol\n",
      "\u001b[0m\u001b[1m- units: \u001b[22m\u001b[0m-\n",
      "\u001b[0m\u001b[1m- description: \u001b[22m\u001b[0mImpurity ion species\n",
      "\u001b[0m\u001b[1m- value: \u001b[22m\u001b[0mKr\n",
      "\u001b[0m\u001b[1m- base: \u001b[22m\u001b[0mNe\n",
      "\u001b[0m\u001b[1m- default: \u001b[22m\u001b[0mmissing\n",
      "\u001b[0m\u001b[1m- opt: \u001b[22m\u001b[0mSimulationParameters.OptParameterChoice{Symbol}(:Kr, missing, missing, 1, [:Kr, :Ar, :Ne, :Xe])\n",
      "\u001b[0m\u001b[1m- check: \u001b[22m\u001b[0mnothing\n",
      "\u001b[31m\u001b[1mini.tf.shape\u001b[22m\u001b[39m\n",
      "\u001b[0m\u001b[1m- type: \u001b[22m\u001b[0mIMAS.BuildLayerShape\n",
      "\u001b[0m\u001b[1m- options: \u001b[22m\u001b[0mDict{Symbol, SimulationParameters.SwitchOption}(:racetrack => SimulationParameters.SwitchOption(IMAS._racetrack_, \"racetrack\"), :princeton_D => SimulationParameters.SwitchOption(IMAS._princeton_D_, \"princeton_D\"), :mirror_double_ellipse => SimulationParameters.SwitchOption(IMAS._mirror_double_ellipse_, \"mirror_double_ellipse\"), :mirror_rectangle_ellipse => SimulationParameters.SwitchOption(IMAS._mirror_rectangle_ellipse_, \"mirror_rectangle_ellipse\"), :rectangle => SimulationParameters.SwitchOption(IMAS._rectangle_, \"rectangle\"), :circle_ellipse => SimulationParameters.SwitchOption(IMAS._circle_ellipse_, \"circle_ellipse\"), :triple_arc => SimulationParameters.SwitchOption(IMAS._triple_arc_, \"triple_arc\"), :convex_hull => SimulationParameters.SwitchOption(IMAS._convex_hull_, \"convex_hull\"), :silo => SimulationParameters.SwitchOption(IMAS._silo_, \"silo\"), :offset => SimulationParameters.SwitchOption(IMAS._offset_, \"offset\"), :mirror_princeton_D => SimulationParameters.SwitchOption(IMAS._mirror_princeton_D_, \"mirror_princeton_D\"), :undefined => SimulationParameters.SwitchOption(IMAS._undefined_, \"undefined\"), :rectangle_ellipse => SimulationParameters.SwitchOption(IMAS._rectangle_ellipse_, \"rectangle_ellipse\"), :mirror_circle_ellipse => SimulationParameters.SwitchOption(IMAS._mirror_circle_ellipse_, \"mirror_circle_ellipse\"), :double_ellipse => SimulationParameters.SwitchOption(IMAS._double_ellipse_, \"double_ellipse\"), :miller => SimulationParameters.SwitchOption(IMAS._miller_, \"miller\"), :mirror_princeton_D_scaled => SimulationParameters.SwitchOption(IMAS._mirror_princeton_D_scaled_, \"mirror_princeton_D_scaled\"), :mirror_princeton_D_exact => SimulationParameters.SwitchOption(IMAS._mirror_princeton_D_exact_, \"mirror_princeton_D_exact\"), :negative_offset => SimulationParameters.SwitchOption(IMAS._negative_offset_, \"negative_offset\"), :princeton_D_scaled => SimulationParameters.SwitchOption(IMAS._princeton_D_scaled_, \"princeton_D_scaled\"), :mirror_triple_arc => SimulationParameters.SwitchOption(IMAS._mirror_triple_arc_, \"mirror_triple_arc\"))\n",
      "\u001b[0m\u001b[1m- units: \u001b[22m\u001b[0m-\n",
      "\u001b[0m\u001b[1m- description: \u001b[22m\u001b[0mShape of the TF coils\n",
      "\u001b[0m\u001b[1m- value: \u001b[22m\u001b[0m_offset_\n",
      "\u001b[0m\u001b[1m- base: \u001b[22m\u001b[0m_double_ellipse_\n",
      "\u001b[0m\u001b[1m- default: \u001b[22m\u001b[0mmissing\n",
      "\u001b[0m\u001b[1m- opt: \u001b[22m\u001b[0mSimulationParameters.OptParameterChoice{Symbol}(:offset, missing, missing, 1, [:double_ellipse, :offset])\n",
      "\u001b[0m\u001b[1m- check: \u001b[22m\u001b[0mnothing\n",
      "\u001b[31m\u001b[1mini.bop.cycle_type\u001b[22m\u001b[39m\n",
      "\u001b[0m\u001b[1m- type: \u001b[22m\u001b[0mSymbol\n",
      "\u001b[0m\u001b[1m- options: \u001b[22m\u001b[0mOrderedCollections.OrderedDict{Symbol, SimulationParameters.SwitchOption}(:rankine => SimulationParameters.SwitchOption(:rankine, \"rankine\"), :brayton => SimulationParameters.SwitchOption(:brayton, \"brayton\"))\n",
      "\u001b[0m\u001b[1m- units: \u001b[22m\u001b[0m-\n",
      "\u001b[0m\u001b[1m- description: \u001b[22m\u001b[0mThermal cycle type\n",
      "\u001b[0m\u001b[1m- value: \u001b[22m\u001b[0mbrayton\n",
      "\u001b[0m\u001b[1m- base: \u001b[22m\u001b[0mrankine\n",
      "\u001b[0m\u001b[1m- default: \u001b[22m\u001b[0mrankine\n",
      "\u001b[0m\u001b[1m- opt: \u001b[22m\u001b[0mSimulationParameters.OptParameterChoice{Symbol}(:brayton, missing, missing, 1, [:rankine, :brayton])\n",
      "\u001b[0m\u001b[1m- check: \u001b[22m\u001b[0mnothing\n",
      "\n",
      "== Objectives ==\n",
      "ObjectiveFunction(:min_capital_cost, \"\\$B\", IMAS.var\"#118#131\"(), -Inf)\n",
      "IMAS.ObjectiveFunction(:max_q95, \"\", IMAS.var\"#123#136\"(), Inf)\n",
      "\n",
      "== Constraints ==\n",
      "IMAS.ConstraintFunction(:power_electric_net, \"%\", IMAS.var\"#76#96\"(), ==, 0.0, 0.2)\n",
      "IMAS.ConstraintFunction(:min_q95, \"%\", IMAS.var\"#92#112\"(), >, 0.0, 0.0)\n",
      "IMAS.ConstraintFunction(:max_transport_error, \"\", IMAS.var\"#95#115\"(), <, 0.1, 0.0)\n",
      "IMAS.ConstraintFunction(:max_beta_normal, \"\", IMAS.var\"#93#113\"(), <, 0.0, 0.0)\n",
      "IMAS.ConstraintFunction(:min_lh_power_threshold_fraction, \"%\", IMAS.var\"#83#103\"(), >, 1.0, 0.0)\n",
      "IMAS.ConstraintFunction(:max_Psol_R, \"%\", IMAS.var\"#94#114\"(), <, 0.0, 0.0)\n",
      "IMAS.ConstraintFunction(:max_tf_coil_j, \"%\", IMAS.var\"#86#106\"(), <, 1.0, 0.0)\n",
      "IMAS.ConstraintFunction(:max_oh_coil_j, \"%\", IMAS.var\"#87#107\"(), <, 1.0, 0.0)\n",
      "IMAS.ConstraintFunction(:max_pl_stress, \"%\", IMAS.var\"#88#108\"(), <, 1.0, 0.0)\n",
      "IMAS.ConstraintFunction(:max_tf_coil_stress, \"%\", IMAS.var\"#89#109\"(), <, 1.0, 0.0)\n",
      "IMAS.ConstraintFunction(:max_oh_coil_stress, \"%\", IMAS.var\"#90#110\"(), <, 1.0, 0.0)\n"
     ]
    },
    {
     "name": "stderr",
     "output_type": "stream",
     "text": [
      "\u001b[36m\u001b[1m[ \u001b[22m\u001b[39m\u001b[36m\u001b[1mInfo: \u001b[22m\u001b[39mMerging temporary study files into \"/Users/tims/Dropbox/FusionPowerPlantDesign_FUSE/FuseExamples/test_moop212123223/database.h5\"...\n",
      "\u001b[36m\u001b[1m[ \u001b[22m\u001b[39m\u001b[36m\u001b[1mInfo: \u001b[22m\u001b[39mAll files in `/Users/tims/Dropbox/FusionPowerPlantDesign_FUSE/FuseExamples/test_moop212123223/tmp_h5_output` are successfully merged into /Users/tims/Dropbox/FusionPowerPlantDesign_FUSE/FuseExamples/test_moop212123223/database.h5\n",
      "\u001b[36m\u001b[1m[ \u001b[22m\u001b[39m\u001b[36m\u001b[1mInfo: \u001b[22m\u001b[39mCleaning up merged files from disk...\n",
      "\u001b[36m\u001b[1m[ \u001b[22m\u001b[39m\u001b[36m\u001b[1mInfo: \u001b[22m\u001b[39mBase directory '/Users/tims/Dropbox/FusionPowerPlantDesign_FUSE/FuseExamples/test_moop212123223/tmp_h5_output' and all its subdirectories were empty and have been removed.\n",
      "\u001b[36m\u001b[1m[ \u001b[22m\u001b[39m\u001b[36m\u001b[1mInfo: \u001b[22m\u001b[39mMerging temporary study files into \"/Users/tims/Dropbox/FusionPowerPlantDesign_FUSE/FuseExamples/test_moop212123223/database.h5\"...\n",
      "\u001b[36m\u001b[1m[ \u001b[22m\u001b[39m\u001b[36m\u001b[1mInfo: \u001b[22m\u001b[39mAll files in `/Users/tims/Dropbox/FusionPowerPlantDesign_FUSE/FuseExamples/test_moop212123223/tmp_h5_output` are successfully merged into /Users/tims/Dropbox/FusionPowerPlantDesign_FUSE/FuseExamples/test_moop212123223/database.h5\n",
      "\u001b[36m\u001b[1m[ \u001b[22m\u001b[39m\u001b[36m\u001b[1mInfo: \u001b[22m\u001b[39mCleaning up merged files from disk...\n",
      "\u001b[36m\u001b[1m[ \u001b[22m\u001b[39m\u001b[36m\u001b[1mInfo: \u001b[22m\u001b[39mBase directory '/Users/tims/Dropbox/FusionPowerPlantDesign_FUSE/FuseExamples/test_moop212123223/tmp_h5_output' and all its subdirectories were empty and have been removed.\n",
      "\u001b[36m\u001b[1m[ \u001b[22m\u001b[39m\u001b[36m\u001b[1mInfo: \u001b[22m\u001b[39mMerging temporary study files into \"/Users/tims/Dropbox/FusionPowerPlantDesign_FUSE/FuseExamples/test_moop212123223/database.h5\"...\n",
      "\u001b[36m\u001b[1m[ \u001b[22m\u001b[39m\u001b[36m\u001b[1mInfo: \u001b[22m\u001b[39mAll files in `/Users/tims/Dropbox/FusionPowerPlantDesign_FUSE/FuseExamples/test_moop212123223/tmp_h5_output` are successfully merged into /Users/tims/Dropbox/FusionPowerPlantDesign_FUSE/FuseExamples/test_moop212123223/database.h5\n",
      "\u001b[36m\u001b[1m[ \u001b[22m\u001b[39m\u001b[36m\u001b[1mInfo: \u001b[22m\u001b[39mCleaning up merged files from disk...\n",
      "\u001b[36m\u001b[1m[ \u001b[22m\u001b[39m\u001b[36m\u001b[1mInfo: \u001b[22m\u001b[39mBase directory '/Users/tims/Dropbox/FusionPowerPlantDesign_FUSE/FuseExamples/test_moop212123223/tmp_h5_output' and all its subdirectories were empty and have been removed.\n",
      "\u001b[36m\u001b[1m[ \u001b[22m\u001b[39m\u001b[36m\u001b[1mInfo: \u001b[22m\u001b[39mMerging temporary study files into \"/Users/tims/Dropbox/FusionPowerPlantDesign_FUSE/FuseExamples/test_moop212123223/database.h5\"...\n",
      "\u001b[36m\u001b[1m[ \u001b[22m\u001b[39m\u001b[36m\u001b[1mInfo: \u001b[22m\u001b[39mAll files in `/Users/tims/Dropbox/FusionPowerPlantDesign_FUSE/FuseExamples/test_moop212123223/tmp_h5_output` are successfully merged into /Users/tims/Dropbox/FusionPowerPlantDesign_FUSE/FuseExamples/test_moop212123223/database.h5\n",
      "\u001b[36m\u001b[1m[ \u001b[22m\u001b[39m\u001b[36m\u001b[1mInfo: \u001b[22m\u001b[39mCleaning up merged files from disk...\n",
      "\u001b[36m\u001b[1m[ \u001b[22m\u001b[39m\u001b[36m\u001b[1mInfo: \u001b[22m\u001b[39mBase directory '/Users/tims/Dropbox/FusionPowerPlantDesign_FUSE/FuseExamples/test_moop212123223/tmp_h5_output' and all its subdirectories were empty and have been removed.\n",
      "\u001b[36m\u001b[1m[ \u001b[22m\u001b[39m\u001b[36m\u001b[1mInfo: \u001b[22m\u001b[39mMerging temporary study files into \"/Users/tims/Dropbox/FusionPowerPlantDesign_FUSE/FuseExamples/test_moop212123223/database.h5\"...\n",
      "\u001b[36m\u001b[1m[ \u001b[22m\u001b[39m\u001b[36m\u001b[1mInfo: \u001b[22m\u001b[39mAll files in `/Users/tims/Dropbox/FusionPowerPlantDesign_FUSE/FuseExamples/test_moop212123223/tmp_h5_output` are successfully merged into /Users/tims/Dropbox/FusionPowerPlantDesign_FUSE/FuseExamples/test_moop212123223/database.h5\n",
      "\u001b[36m\u001b[1m[ \u001b[22m\u001b[39m\u001b[36m\u001b[1mInfo: \u001b[22m\u001b[39mCleaning up merged files from disk...\n",
      "\u001b[36m\u001b[1m[ \u001b[22m\u001b[39m\u001b[36m\u001b[1mInfo: \u001b[22m\u001b[39mBase directory '/Users/tims/Dropbox/FusionPowerPlantDesign_FUSE/FuseExamples/test_moop212123223/tmp_h5_output' and all its subdirectories were empty and have been removed.\n",
      "\u001b[36m\u001b[1m[ \u001b[22m\u001b[39m\u001b[36m\u001b[1mInfo: \u001b[22m\u001b[39mMerging temporary study files into \"/Users/tims/Dropbox/FusionPowerPlantDesign_FUSE/FuseExamples/test_moop212123223/database.h5\"...\n",
      "\u001b[36m\u001b[1m[ \u001b[22m\u001b[39m\u001b[36m\u001b[1mInfo: \u001b[22m\u001b[39mAll files in `/Users/tims/Dropbox/FusionPowerPlantDesign_FUSE/FuseExamples/test_moop212123223/tmp_h5_output` are successfully merged into /Users/tims/Dropbox/FusionPowerPlantDesign_FUSE/FuseExamples/test_moop212123223/database.h5\n",
      "\u001b[36m\u001b[1m[ \u001b[22m\u001b[39m\u001b[36m\u001b[1mInfo: \u001b[22m\u001b[39mCleaning up merged files from disk...\n",
      "\u001b[36m\u001b[1m[ \u001b[22m\u001b[39m\u001b[36m\u001b[1mInfo: \u001b[22m\u001b[39mBase directory '/Users/tims/Dropbox/FusionPowerPlantDesign_FUSE/FuseExamples/test_moop212123223/tmp_h5_output' and all its subdirectories were empty and have been removed.\n",
      "\u001b[36m\u001b[1m[ \u001b[22m\u001b[39m\u001b[36m\u001b[1mInfo: \u001b[22m\u001b[39mMerging temporary study files into \"/Users/tims/Dropbox/FusionPowerPlantDesign_FUSE/FuseExamples/test_moop212123223/database.h5\"...\n",
      "\u001b[36m\u001b[1m[ \u001b[22m\u001b[39m\u001b[36m\u001b[1mInfo: \u001b[22m\u001b[39mAll files in `/Users/tims/Dropbox/FusionPowerPlantDesign_FUSE/FuseExamples/test_moop212123223/tmp_h5_output` are successfully merged into /Users/tims/Dropbox/FusionPowerPlantDesign_FUSE/FuseExamples/test_moop212123223/database.h5\n",
      "\u001b[36m\u001b[1m[ \u001b[22m\u001b[39m\u001b[36m\u001b[1mInfo: \u001b[22m\u001b[39mCleaning up merged files from disk...\n",
      "\u001b[36m\u001b[1m[ \u001b[22m\u001b[39m\u001b[36m\u001b[1mInfo: \u001b[22m\u001b[39mBase directory '/Users/tims/Dropbox/FusionPowerPlantDesign_FUSE/FuseExamples/test_moop212123223/tmp_h5_output' and all its subdirectories were empty and have been removed.\n",
      "\u001b[36m\u001b[1m[ \u001b[22m\u001b[39m\u001b[36m\u001b[1mInfo: \u001b[22m\u001b[39mMerging temporary study files into \"/Users/tims/Dropbox/FusionPowerPlantDesign_FUSE/FuseExamples/test_moop212123223/database.h5\"...\n",
      "\u001b[36m\u001b[1m[ \u001b[22m\u001b[39m\u001b[36m\u001b[1mInfo: \u001b[22m\u001b[39mAll files in `/Users/tims/Dropbox/FusionPowerPlantDesign_FUSE/FuseExamples/test_moop212123223/tmp_h5_output` are successfully merged into /Users/tims/Dropbox/FusionPowerPlantDesign_FUSE/FuseExamples/test_moop212123223/database.h5\n",
      "\u001b[36m\u001b[1m[ \u001b[22m\u001b[39m\u001b[36m\u001b[1mInfo: \u001b[22m\u001b[39mCleaning up merged files from disk...\n",
      "\u001b[36m\u001b[1m[ \u001b[22m\u001b[39m\u001b[36m\u001b[1mInfo: \u001b[22m\u001b[39mBase directory '/Users/tims/Dropbox/FusionPowerPlantDesign_FUSE/FuseExamples/test_moop212123223/tmp_h5_output' and all its subdirectories were empty and have been removed.\n",
      "\u001b[36m\u001b[1m[ \u001b[22m\u001b[39m\u001b[36m\u001b[1mInfo: \u001b[22m\u001b[39mMerging temporary study files into \"/Users/tims/Dropbox/FusionPowerPlantDesign_FUSE/FuseExamples/test_moop212123223/database.h5\"...\n",
      "\u001b[36m\u001b[1m[ \u001b[22m\u001b[39m\u001b[36m\u001b[1mInfo: \u001b[22m\u001b[39mAll files in `/Users/tims/Dropbox/FusionPowerPlantDesign_FUSE/FuseExamples/test_moop212123223/tmp_h5_output` are successfully merged into /Users/tims/Dropbox/FusionPowerPlantDesign_FUSE/FuseExamples/test_moop212123223/database.h5\n",
      "\u001b[36m\u001b[1m[ \u001b[22m\u001b[39m\u001b[36m\u001b[1mInfo: \u001b[22m\u001b[39mCleaning up merged files from disk...\n",
      "\u001b[36m\u001b[1m[ \u001b[22m\u001b[39m\u001b[36m\u001b[1mInfo: \u001b[22m\u001b[39mBase directory '/Users/tims/Dropbox/FusionPowerPlantDesign_FUSE/FuseExamples/test_moop212123223/tmp_h5_output' and all its subdirectories were empty and have been removed.\n",
      "\u001b[36m\u001b[1m[ \u001b[22m\u001b[39m\u001b[36m\u001b[1mInfo: \u001b[22m\u001b[39mMerging temporary study files into \"/Users/tims/Dropbox/FusionPowerPlantDesign_FUSE/FuseExamples/test_moop212123223/database.h5\"...\n",
      "\u001b[36m\u001b[1m[ \u001b[22m\u001b[39m\u001b[36m\u001b[1mInfo: \u001b[22m\u001b[39mAll files in `/Users/tims/Dropbox/FusionPowerPlantDesign_FUSE/FuseExamples/test_moop212123223/tmp_h5_output` are successfully merged into /Users/tims/Dropbox/FusionPowerPlantDesign_FUSE/FuseExamples/test_moop212123223/database.h5\n",
      "\u001b[36m\u001b[1m[ \u001b[22m\u001b[39m\u001b[36m\u001b[1mInfo: \u001b[22m\u001b[39mCleaning up merged files from disk...\n",
      "\u001b[36m\u001b[1m[ \u001b[22m\u001b[39m\u001b[36m\u001b[1mInfo: \u001b[22m\u001b[39mBase directory '/Users/tims/Dropbox/FusionPowerPlantDesign_FUSE/FuseExamples/test_moop212123223/tmp_h5_output' and all its subdirectories were empty and have been removed.\n",
      "\u001b[36m\u001b[1m[ \u001b[22m\u001b[39m\u001b[36m\u001b[1mInfo: \u001b[22m\u001b[39mMerging temporary study files into \"/Users/tims/Dropbox/FusionPowerPlantDesign_FUSE/FuseExamples/test_moop212123223/database.h5\"...\n",
      "\u001b[36m\u001b[1m[ \u001b[22m\u001b[39m\u001b[36m\u001b[1mInfo: \u001b[22m\u001b[39mAll files in `/Users/tims/Dropbox/FusionPowerPlantDesign_FUSE/FuseExamples/test_moop212123223/tmp_h5_output` are successfully merged into /Users/tims/Dropbox/FusionPowerPlantDesign_FUSE/FuseExamples/test_moop212123223/database.h5\n",
      "\u001b[36m\u001b[1m[ \u001b[22m\u001b[39m\u001b[36m\u001b[1mInfo: \u001b[22m\u001b[39mCleaning up merged files from disk...\n",
      "\u001b[36m\u001b[1m[ \u001b[22m\u001b[39m\u001b[36m\u001b[1mInfo: \u001b[22m\u001b[39mBase directory '/Users/tims/Dropbox/FusionPowerPlantDesign_FUSE/FuseExamples/test_moop212123223/tmp_h5_output' and all its subdirectories were empty and have been removed.\n",
      "\u001b[36m\u001b[1m[ \u001b[22m\u001b[39m\u001b[36m\u001b[1mInfo: \u001b[22m\u001b[39mMerging temporary study files into \"/Users/tims/Dropbox/FusionPowerPlantDesign_FUSE/FuseExamples/test_moop212123223/database.h5\"...\n",
      "\u001b[36m\u001b[1m[ \u001b[22m\u001b[39m\u001b[36m\u001b[1mInfo: \u001b[22m\u001b[39mAll files in `/Users/tims/Dropbox/FusionPowerPlantDesign_FUSE/FuseExamples/test_moop212123223/tmp_h5_output` are successfully merged into /Users/tims/Dropbox/FusionPowerPlantDesign_FUSE/FuseExamples/test_moop212123223/database.h5\n",
      "\u001b[36m\u001b[1m[ \u001b[22m\u001b[39m\u001b[36m\u001b[1mInfo: \u001b[22m\u001b[39mCleaning up merged files from disk...\n",
      "\u001b[36m\u001b[1m[ \u001b[22m\u001b[39m\u001b[36m\u001b[1mInfo: \u001b[22m\u001b[39mBase directory '/Users/tims/Dropbox/FusionPowerPlantDesign_FUSE/FuseExamples/test_moop212123223/tmp_h5_output' and all its subdirectories were empty and have been removed.\n",
      "\u001b[36m\u001b[1m[ \u001b[22m\u001b[39m\u001b[36m\u001b[1mInfo: \u001b[22m\u001b[39mMerging temporary study files into \"/Users/tims/Dropbox/FusionPowerPlantDesign_FUSE/FuseExamples/test_moop212123223/database.h5\"...\n",
      "\u001b[36m\u001b[1m[ \u001b[22m\u001b[39m\u001b[36m\u001b[1mInfo: \u001b[22m\u001b[39mAll files in `/Users/tims/Dropbox/FusionPowerPlantDesign_FUSE/FuseExamples/test_moop212123223/tmp_h5_output` are successfully merged into /Users/tims/Dropbox/FusionPowerPlantDesign_FUSE/FuseExamples/test_moop212123223/database.h5\n",
      "\u001b[36m\u001b[1m[ \u001b[22m\u001b[39m\u001b[36m\u001b[1mInfo: \u001b[22m\u001b[39mCleaning up merged files from disk...\n",
      "\u001b[36m\u001b[1m[ \u001b[22m\u001b[39m\u001b[36m\u001b[1mInfo: \u001b[22m\u001b[39mBase directory '/Users/tims/Dropbox/FusionPowerPlantDesign_FUSE/FuseExamples/test_moop212123223/tmp_h5_output' and all its subdirectories were empty and have been removed.\n",
      "\u001b[36m\u001b[1m[ \u001b[22m\u001b[39m\u001b[36m\u001b[1mInfo: \u001b[22m\u001b[39mMerging temporary study files into \"/Users/tims/Dropbox/FusionPowerPlantDesign_FUSE/FuseExamples/test_moop212123223/database.h5\"...\n",
      "\u001b[36m\u001b[1m[ \u001b[22m\u001b[39m\u001b[36m\u001b[1mInfo: \u001b[22m\u001b[39mAll files in `/Users/tims/Dropbox/FusionPowerPlantDesign_FUSE/FuseExamples/test_moop212123223/tmp_h5_output` are successfully merged into /Users/tims/Dropbox/FusionPowerPlantDesign_FUSE/FuseExamples/test_moop212123223/database.h5\n",
      "\u001b[36m\u001b[1m[ \u001b[22m\u001b[39m\u001b[36m\u001b[1mInfo: \u001b[22m\u001b[39mCleaning up merged files from disk...\n",
      "\u001b[36m\u001b[1m[ \u001b[22m\u001b[39m\u001b[36m\u001b[1mInfo: \u001b[22m\u001b[39mBase directory '/Users/tims/Dropbox/FusionPowerPlantDesign_FUSE/FuseExamples/test_moop212123223/tmp_h5_output' and all its subdirectories were empty and have been removed.\n",
      "\u001b[36m\u001b[1m[ \u001b[22m\u001b[39m\u001b[36m\u001b[1mInfo: \u001b[22m\u001b[39mMerging temporary study files into \"/Users/tims/Dropbox/FusionPowerPlantDesign_FUSE/FuseExamples/test_moop212123223/database.h5\"...\n",
      "\u001b[36m\u001b[1m[ \u001b[22m\u001b[39m\u001b[36m\u001b[1mInfo: \u001b[22m\u001b[39mAll files in `/Users/tims/Dropbox/FusionPowerPlantDesign_FUSE/FuseExamples/test_moop212123223/tmp_h5_output` are successfully merged into /Users/tims/Dropbox/FusionPowerPlantDesign_FUSE/FuseExamples/test_moop212123223/database.h5\n",
      "\u001b[36m\u001b[1m[ \u001b[22m\u001b[39m\u001b[36m\u001b[1mInfo: \u001b[22m\u001b[39mCleaning up merged files from disk...\n",
      "\u001b[36m\u001b[1m[ \u001b[22m\u001b[39m\u001b[36m\u001b[1mInfo: \u001b[22m\u001b[39mBase directory '/Users/tims/Dropbox/FusionPowerPlantDesign_FUSE/FuseExamples/test_moop212123223/tmp_h5_output' and all its subdirectories were empty and have been removed.\n",
      "\u001b[36m\u001b[1m[ \u001b[22m\u001b[39m\u001b[36m\u001b[1mInfo: \u001b[22m\u001b[39mMerging temporary study files into \"/Users/tims/Dropbox/FusionPowerPlantDesign_FUSE/FuseExamples/test_moop212123223/database.h5\"...\n",
      "\u001b[36m\u001b[1m[ \u001b[22m\u001b[39m\u001b[36m\u001b[1mInfo: \u001b[22m\u001b[39mAll files in `/Users/tims/Dropbox/FusionPowerPlantDesign_FUSE/FuseExamples/test_moop212123223/tmp_h5_output` are successfully merged into /Users/tims/Dropbox/FusionPowerPlantDesign_FUSE/FuseExamples/test_moop212123223/database.h5\n",
      "\u001b[36m\u001b[1m[ \u001b[22m\u001b[39m\u001b[36m\u001b[1mInfo: \u001b[22m\u001b[39mCleaning up merged files from disk...\n",
      "\u001b[36m\u001b[1m[ \u001b[22m\u001b[39m\u001b[36m\u001b[1mInfo: \u001b[22m\u001b[39mBase directory '/Users/tims/Dropbox/FusionPowerPlantDesign_FUSE/FuseExamples/test_moop212123223/tmp_h5_output' and all its subdirectories were empty and have been removed.\n"
     ]
    }
   ],
   "source": [
    "FUSE.run(study);   # runs the study\n",
    "\n",
    "# at the end of the run workers are released so you will have to setup again if you want to run more"
   ]
  }
 ],
 "metadata": {
  "kernelspec": {
   "display_name": "Julia 1.11.3 (12threads) 1.11.3",
   "language": "julia",
   "name": "julia-1.11.3-_12threads_-1.11"
  },
  "language_info": {
   "file_extension": ".jl",
   "mimetype": "application/julia",
   "name": "julia",
   "version": "1.11.3"
  }
 },
 "nbformat": 4,
 "nbformat_minor": 5
}
