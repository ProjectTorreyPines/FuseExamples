{
 "cells": [
  {
   "cell_type": "code",
   "execution_count": null,
   "id": "d61dcfdb-a638-4a59-adf3-df98849c1bcd",
   "metadata": {
    "tags": []
   },
   "outputs": [],
   "source": [
    "#using Pkg\n",
    "\n",
    "#Pkg.activate(\"/Users/tims/.julia/dev/FUSE_Design\")\n",
    "using Revise\n",
    "using FUSE\n",
    "\n",
    "using Plots;\n",
    "FUSE.logging(Logging.Info; actors=Logging.Error);\n"
   ]
  },
  {
   "cell_type": "code",
   "execution_count": null,
   "id": "0f07287d-ee04-44f3-bade-c31e18f3fc94",
   "metadata": {
    "tags": []
   },
   "outputs": [],
   "source": [
    "# Simple power plant optimization (not realistic as it's missing constraints but it will get you started)\n",
    "\n",
    "ini,act = FUSE.case_parameters(:KDEMO);\n",
    "\n",
    "### Act settings\n",
    "act.ActorEquilibrium.model = :TEQUILA\n",
    "act.ActorCoreTransport.model = :FluxMatcher\n",
    "\n",
    "act.ActorPFdesign.model=:optimal\n",
    "act.ActorFluxSwing.operate_oh_at_j_crit = true # this maximizes flattop inside the fluxswing actor\n",
    "\n",
    "act.ActorWholeFacility.update_plasma = true\n",
    "\n",
    "# This is handeled by the constraint funcitons\n",
    "act.ActorHFSsizing.error_on_performance = false\n",
    "act.ActorHFSsizing.error_on_technology = false\n",
    "\n",
    "act.ActorCoreTransport.model = :FluxMatcher\n",
    "act.ActorFluxMatcher.evolve_densities = :flux_match\n",
    "act.ActorFluxMatcher.max_iterations = 500\n",
    "\n",
    "ini.equilibrium.B0 = ini.equilibrium.B0 ↔ [3.0, 15.0]\n",
    "ini.equilibrium.ip = ini.equilibrium.ip ↔ [4.0e6, 22e6]\n",
    "ini.equilibrium.R0 = ini.equilibrium.R0 ↔ [4.0, 8.0]\n",
    "ini.equilibrium.pressure_core = missing\n",
    "\n",
    "act.ActorPedestal.model = :EPED\n",
    "act.ActorFluxMatcher.rho_transport = 0.2:0.05:0.8\n",
    "act.ActorTGLF.tglfnn_model =\"sat0quench_em_d3d+mastu_azf+1\"\n",
    "act.ActorFluxMatcher.algorithm = :simple\n",
    "act.ActorFluxMatcher.evolve_pedestal = true\n",
    "\n",
    "ini.requirements.lh_power_threshold_fraction = 1.\n",
    "\n",
    "# Requirements\n",
    "\n",
    "ini.requirements.flattop_duration = missing\n",
    "ini.requirements.log10_flattop_duration = missing # log10 versionis not needed\n",
    "\n",
    "ini.requirements.power_electric_net = 50e6 # 50 +/- 10 MWe\n",
    "ini.requirements.tritium_breeding_ratio = 1.1\n",
    "\n",
    "ini.requirements.coil_j_margin = 0.1\n",
    "ini.requirements.coil_stress_margin = 0.1\n",
    "\n",
    "IMAS.update_ObjectiveFunctionsLibrary!()\n",
    "IMAS.update_ConstraintFunctionsLibrary!()\n",
    "\n",
    "OFL = deepcopy(IMAS.ObjectiveFunctionsLibrary)\n",
    "CFL = deepcopy(IMAS.ConstraintFunctionsLibrary)\n",
    "\n",
    "objective_functions = [OFL[:min_capital_cost]]\n",
    "\n",
    "constraint_functions = [\n",
    "        CFL[:power_electric_net],\n",
    "        CFL[:min_lh_power_threshold_fraction],\n",
    "        CFL[:max_tf_coil_j],CFL[:max_oh_coil_j],\n",
    "        CFL[:max_pl_stress],CFL[:max_tf_coil_stress],CFL[:max_oh_coil_stress]]\n",
    "end\n",
    "\n",
    "println(\"== OBJECTIVE FUNCTIONS ==\")\n",
    "display(objective_functions)\n",
    "println()\n",
    "println(\"== CONSTRAINT FUNCTIONS ==\")\n",
    "display(constraint_functions)"
   ]
  },
  {
   "cell_type": "code",
   "execution_count": null,
   "id": "80329df2-2ece-4100-a31e-acde250e6988",
   "metadata": {
    "tags": []
   },
   "outputs": [],
   "source": [
    "# sty is the act equivalent for a study, it has common parameters like server and n_workers but also study dependent parameters like n_simulations\n",
    "sty = FUSE.study_parameters(:MultiObjectiveOptimizer);\n",
    "typeof(sty)"
   ]
  },
  {
   "cell_type": "code",
   "execution_count": null,
   "id": "d984ab89-239b-46c9-add5-8424aefc3753",
   "metadata": {
    "tags": []
   },
   "outputs": [],
   "source": [
    "# Interacting with sty\n",
    "sty.server = \"localhost\" # this can be set to saga/omega/your_cluster\n",
    "sty.n_workers = 2\n",
    "\n",
    "dirr = joinpath(pwd(),\"test_moop\") # feel free to change this directory as you probably don't want to store it here\n",
    "if !isdir(dirr)\n",
    "    sty.save_folder = mkdir(dirr)\n",
    "else\n",
    "    sty.save_folder = dirr\n",
    "end\n",
    "\n",
    "sty.restart_workers_after_n_generations = 5 # this is the default behavior and releases workers after running the study\n",
    "\n",
    "sty.population_size = 20\n",
    "sty.number_of_generations = 5\n",
    "\n",
    "# For a reaslistic study you need about population_size = 300 and number_of_generations = 100\n",
    "\n",
    "sty"
   ]
  },
  {
   "cell_type": "code",
   "execution_count": null,
   "id": "3b903794-8aca-4bd1-9e7c-738acad84ad7",
   "metadata": {
    "tags": []
   },
   "outputs": [],
   "source": [
    "# study is the actor equivalent of actors, here sty, act and outputs are kept of the workflow\n",
    "study = FUSE.StudyMultiObjectiveOptimizer(sty,ini, act, constraint_functions, objective_functions); # it is possible to pass in keyword arguments to sty\n",
    "# instantiating the study will also setup the study i.e. FUSE.setup(study);\n",
    "\n",
    "# for now you will have to import FUSE everywhere in your distributed computing\n",
    "using Distributed\n",
    "@everywhere import FUSE\n",
    "@everywhere import IJulia"
   ]
  },
  {
   "cell_type": "code",
   "execution_count": null,
   "id": "38c9e620-2e00-4efc-9242-9f0e42f6d771",
   "metadata": {},
   "outputs": [],
   "source": [
    "Distributed.workers()"
   ]
  },
  {
   "cell_type": "code",
   "execution_count": null,
   "id": "94ec7cfc-9324-47b8-b387-5b0b15800359",
   "metadata": {
    "tags": []
   },
   "outputs": [],
   "source": [
    "FUSE.run(study);   # runs the study\n",
    "\n",
    "# at the end of the run workers are released so you will have to setup again if you want to run more"
   ]
  }
 ],
 "metadata": {
  "kernelspec": {
   "display_name": "Julia 1.11.3 (12threads) 1.11.3",
   "language": "julia",
   "name": "julia-1.11.3-_12threads_-1.11"
  },
  "language_info": {
   "file_extension": ".jl",
   "mimetype": "application/julia",
   "name": "julia",
   "version": "1.11.3"
  }
 },
 "nbformat": 4,
 "nbformat_minor": 5
}
