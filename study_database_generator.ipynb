{
 "cells": [
  {
   "cell_type": "markdown",
   "id": "5786d77d-697c-42f7-af3c-6a6ad85b9f57",
   "metadata": {},
   "source": [
    "# Using the database generator study in FUSE"
   ]
  },
  {
   "cell_type": "code",
   "execution_count": null,
   "id": "ed939da6-76f8-428b-8678-43ff25d1af05",
   "metadata": {
    "tags": []
   },
   "outputs": [],
   "source": [
    "using Revise\n",
    "using FUSE\n",
    "using Plots;\n",
    "FUSE.logging(Logging.Info; actors=Logging.Error);\n"
   ]
  },
  {
   "cell_type": "code",
   "execution_count": null,
   "id": "63601038-0ea8-400d-b339-bcaf771bfdc0",
   "metadata": {
    "tags": []
   },
   "outputs": [],
   "source": [
    "ini, act = FUSE.case_parameters(:ITER; init_from=:scalars)\n",
    "act.ActorPedestal.density_match=:ne_line\n",
    "\n",
    "ini.core_profiles.ne_setting = :greenwald_fraction\n",
    "ini.core_profiles.ne_value = 0.2 ↔ [0.2, 1.0]\n",
    "\n",
    "# as an example let's look at different impurity species and what it will do to the radiation\n",
    "ini.core_profiles.impurity = :Kr ↔ (:Kr, :Ne, :Xe)\n",
    "ini.core_profiles.plasma_mode = :H_mode ↔ (:H_mode, :L_mode) \n",
    "ini.core_profiles.zeff = 1.1 ↔ [1.1,10.]"
   ]
  },
  {
   "cell_type": "code",
   "execution_count": null,
   "id": "71abad76-e3a5-4cc3-b601-a3754704c87f",
   "metadata": {
    "tags": []
   },
   "outputs": [],
   "source": [
    "# Testing a sample case to make sure it will run nicely later on\n",
    "dd = IMAS.dd()\n",
    "ini_test = rand(ini)\n",
    "FUSE.init(dd,ini_test,act)\n",
    "FUSE.digest(dd)"
   ]
  },
  {
   "cell_type": "code",
   "execution_count": null,
   "id": "b3cf72e2-d9ea-41f9-a40c-e3da11c2b23b",
   "metadata": {
    "tags": []
   },
   "outputs": [],
   "source": [
    "sty, _ = FUSE.study_parameters(:DatabaseGenerator)\n",
    "sty.server = \"localhost\"\n",
    "sty.n_workers = 4\n",
    "sty.file_save_mode = :safe_write\n",
    "sty.save_folder = mktempdir()#<Your safe folder>\n",
    "sty.n_simulations = 10"
   ]
  },
  {
   "cell_type": "code",
   "execution_count": null,
   "id": "91491ba8-87b2-4f86-b668-a86bb312aefc",
   "metadata": {
    "tags": []
   },
   "outputs": [],
   "source": [
    "study = FUSE.StudyDatabaseGenerator(sty, ini, act)\n",
    "\n",
    "using Distributed\n",
    "@everywhere import FUSE\n",
    "@everywhere ProgressMeter = FUSE.ProgressMeter\n",
    "\n",
    "@everywhere function workflow_DatabaseGenerator(dd::FUSE.IMAS.dd, ini::FUSE.ParametersAllInits, act::FUSE.ParametersAllActors)\n",
    "    FUSE.init(dd, ini, act)\n",
    "    return nothing\n",
    "end\n",
    "\n",
    "study.workflow = workflow_DatabaseGenerator\n",
    "\n"
   ]
  },
  {
   "cell_type": "code",
   "execution_count": null,
   "id": "c831669c-3fb7-4464-ac03-543ac9c45f80",
   "metadata": {
    "tags": []
   },
   "outputs": [],
   "source": [
    "FUSE.run(study)"
   ]
  },
  {
   "cell_type": "code",
   "execution_count": null,
   "id": "43346985-17fe-492e-bb25-d4f0756916b5",
   "metadata": {
    "tags": []
   },
   "outputs": [],
   "source": [
    "# We see that the total radiation is heavily correlated with zeff\n",
    "scatter(study.dataframe.zeff_ped,abs.(study.dataframe.Prad_tot),xlabel = \"zeff\", ylabel=\"Total radiation [MW]\",yscale=:log10,label=nothing)"
   ]
  },
  {
   "cell_type": "code",
   "execution_count": null,
   "id": "d4b03cde-e708-48db-93bd-ea4f357b6ef0",
   "metadata": {
    "tags": []
   },
   "outputs": [],
   "source": [
    "# Let's load in a single case to look at it\n",
    "dd,ini,act = FUSE.load(joinpath(splitpath(study.dataframe.dir[end])[1:end-1]))\n",
    "\n",
    "FUSE.digest(dd)"
   ]
  },
  {
   "cell_type": "code",
   "execution_count": null,
   "id": "2a8b67cc-d15f-4110-911a-e723fde4c46c",
   "metadata": {
    "tags": []
   },
   "outputs": [],
   "source": [
    "# If we wanted to do further analysis on this one case we can work with that like:\n",
    "FUSE.ActorFluxMatcher(dd,act;do_plot=true);\n",
    "# Maybe this inspired us to redo the database run but make sure run the fluxmatcher as well by editing the workflow_DatabaseGenerator function"
   ]
  },
  {
   "cell_type": "code",
   "execution_count": null,
   "id": "7c16ac09-4988-4d6b-8a1e-62d21c1e38dd",
   "metadata": {
    "tags": []
   },
   "outputs": [],
   "source": [
    "# This is another way of running the database generator , instead of randomly sampling the ranges and options we can parameterically scan by passing a list of inis\n",
    "inis = [deepcopy(ini),deepcopy(ini)]\n",
    "inis[1].core_profiles.ne_value = 0.8\n",
    "\n",
    "sty.save_folder = mktempdir()\n",
    "\n",
    "study = FUSE.StudyDatabaseGenerator(sty, ini, act)\n",
    "study.workflow = workflow_DatabaseGenerator\n",
    "\n",
    "\n",
    "using Distributed\n",
    "@everywhere import FUSE\n",
    "@everywhere ProgressMeter = FUSE.ProgressMeter\n",
    "\n",
    "@everywhere function workflow_DatabaseGenerator(dd::FUSE.IMAS.dd, ini::FUSE.ParametersAllInits, act::FUSE.ParametersAllActors)\n",
    "    FUSE.init(dd, ini, act)\n",
    "    return nothing\n",
    "end\n",
    "\n",
    "FUSE.run(study)\n"
   ]
  }
 ],
 "metadata": {
  "kernelspec": {
   "display_name": "Julia (8 threads) 1.11.1",
   "language": "julia",
   "name": "julia-_8-threads_-1.11"
  },
  "language_info": {
   "file_extension": ".jl",
   "mimetype": "application/julia",
   "name": "julia",
   "version": "1.11.1"
  }
 },
 "nbformat": 4,
 "nbformat_minor": 5
}
