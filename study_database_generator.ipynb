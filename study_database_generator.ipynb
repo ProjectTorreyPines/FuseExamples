{
 "cells": [
  {
   "cell_type": "code",
   "execution_count": null,
   "id": "d61dcfdb-a638-4a59-adf3-df98849c1bcd",
   "metadata": {
    "tags": []
   },
   "outputs": [],
   "source": [
    "using Revise\n",
    "using FUSE\n",
    "using Plots;\n",
    "FUSE.logging(Logging.Info; actors=Logging.Info);\n"
   ]
  },
  {
   "cell_type": "code",
   "execution_count": null,
   "id": "80329df2-2ece-4100-a31e-acde250e6988",
   "metadata": {
    "tags": []
   },
   "outputs": [],
   "source": [
    "# sty is the act equivalent for a study, it has common parameters like server and n_workers but also study dependent parameters like n_simulations\n",
    "sty,act = FUSE.study_parameters(:DatabaseGenerator);\n",
    "sty"
   ]
  },
  {
   "cell_type": "code",
   "execution_count": null,
   "id": "d984ab89-239b-46c9-add5-8424aefc3753",
   "metadata": {
    "tags": []
   },
   "outputs": [],
   "source": [
    "# Interacting with sty\n",
    "sty.server = \"localhost\" # this can be set to saga/omega/ your cluster\n",
    "sty.n_workers = 2\n",
    "\n",
    "sty.save_folder = <Your folder>\n",
    "\n",
    "sty.release_workers_after_run = true # this is the default behavior and releases workers after running the study\n",
    "\n",
    "sty.n_simulations = 4\n",
    "\n",
    "sty"
   ]
  },
  {
   "cell_type": "code",
   "execution_count": null,
   "id": "def501a5",
   "metadata": {
    "tags": []
   },
   "outputs": [],
   "source": [
    "# setup ini\n",
    "ini, act = FUSE.case_parameters(:ITER;init_from=:scalars)\n",
    "\n",
    "# core profiles\n",
    "ini.core_profiles.zeff = 2.5 ↔ [1.4,4.5]\n",
    "ini.core_profiles.ne_setting = :greenwald_fraction\n",
    "ini.core_profiles.ne_value = 0.2 ↔[0.2,1.0]\n",
    "\n",
    "# H&CD\n",
    "ini.nb_unit[1].power_launched = 33.4e6 ↔ [0.0,33.4e6]\n",
    "ini.nb_unit[1].beam_energy = 1e6 ↔ [1e5,1e6]\n",
    "ini.ec_launcher[1].power_launched = 20e6 ↔ [0.0,20e6]\n",
    "ini.ec_launcher[1].rho_0 = 0.3 ↔ [0.1,0.9]\n",
    "ini.ic_antenna[1].power_launched = 24e6 ↔ [0.0,24e6]\n",
    "ini.lh_antenna[1].power_launched = 10e6 ↔ [0.0,10e6]\n",
    "\n",
    "act.ActorPedestal.density_match =:ne_line\n",
    "act.ActorCoreTransport.model = :FluxMatcher\n",
    "act.ActorFluxMatcher.evolve_pedestal = false\n",
    "act.ActorTGLF.warn_nn_train_bounds = false\n",
    "act.ActorFluxMatcher.evolve_rotation = :fixed\n",
    "act.ActorFluxMatcher.evolve_densities = :flux_match"
   ]
  },
  {
   "cell_type": "code",
   "execution_count": null,
   "id": "3b903794-8aca-4bd1-9e7c-738acad84ad7",
   "metadata": {
    "tags": []
   },
   "outputs": [],
   "source": [
    "# study is the actor equivalent of actors, here sty, act and outputs are kept of the workflow\n",
    "study = FUSE.StudyDatabaseGenerator(sty,ini, act; n_workers=2); # it is possible to pass in keyword arguments to sty\n",
    "\n",
    "# instantiating the study will also setup the study i.e. FUSE.setup(study);"
   ]
  },
  {
   "cell_type": "code",
   "execution_count": null,
   "id": "ee92d935-c181-4707-a9fd-16ffc8c1d3b8",
   "metadata": {
    "tags": []
   },
   "outputs": [],
   "source": [
    "# for now you will have to import FUSE everywhere in your distributed computing\n",
    "using Distributed\n",
    "@everywhere import FUSE\n",
    "@everywhere import IMAS\n",
    "\n",
    "# Define your workflow here, make sure it takes dd, ini , act as parameters\n",
    "\n",
    "@everywhere function workflow_DatabaseGenerator(dd::IMAS.dd, ini::FUSE.ParametersAllInits, act::FUSE.ParametersAllActors)\n",
    "    # initialize\n",
    "    FUSE.init(dd, ini, act)\n",
    "\n",
    "    # Actors to run on the input dd\n",
    "    actor_statplasma = FUSE.ActorStationaryPlasma(dd, act)\n",
    "\n",
    "    # whatever other actors you want to run can go here\n",
    "\n",
    "    return nothing\n",
    "end\n",
    "\n",
    "study.workflow = workflow_DatabaseGenerator"
   ]
  },
  {
   "cell_type": "code",
   "execution_count": null,
   "id": "94ec7cfc-9324-47b8-b387-5b0b15800359",
   "metadata": {
    "tags": []
   },
   "outputs": [],
   "source": [
    "\n",
    "FUSE.run(study);   # runs the study, this also writes the dataframes\n",
    "# fails gen 9\n",
    "# pick up from gen 8 : 15\n",
    "\n",
    "# at the end of the run workers are released so you will have to setup again if you want to run more"
   ]
  },
  {
   "cell_type": "code",
   "execution_count": null,
   "id": "176195de-8c49-49ec-bdab-f30ff5e6bc2a",
   "metadata": {
    "tags": []
   },
   "outputs": [],
   "source": [
    "# data for this workflow is stored in a dictionary of dataframes study.dataframes_dict\n",
    "study.dataframes_dict[\"outputs_summary\"]\n",
    "\n"
   ]
  },
  {
   "cell_type": "code",
   "execution_count": null,
   "id": "5640d434-e3e6-4d0e-979f-238c3846280a",
   "metadata": {
    "tags": []
   },
   "outputs": [],
   "source": [
    "# analyze the study results \n",
    "FUSE.analyze(study);\n",
    "\n",
    "\n"
   ]
  },
  {
   "cell_type": "code",
   "execution_count": null,
   "id": "4a942e21-6488-47bb-8abe-5596b31c7956",
   "metadata": {
    "tags": []
   },
   "outputs": [],
   "source": [
    "# All your dds will be stored in your save location to run extract in parallel here you can do\n",
    "readdir(sty.save_folder)\n"
   ]
  }
 ],
 "metadata": {
  "kernelspec": {
   "display_name": "Julia (8 threads) 1.10.4",
   "language": "julia",
   "name": "julia-_8-threads_-1.10"
  },
  "language_info": {
   "file_extension": ".jl",
   "mimetype": "application/julia",
   "name": "julia",
   "version": "1.10.4"
  }
 },
 "nbformat": 4,
 "nbformat_minor": 5
}
