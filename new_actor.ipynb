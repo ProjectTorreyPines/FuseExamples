{
 "cells": [
  {
   "cell_type": "markdown",
   "id": "a7444142-7ed3-4f43-a8d0-5fde5427f60c",
   "metadata": {},
   "source": [
    "## How to make a new Actor in FUSE"
   ]
  },
  {
   "cell_type": "markdown",
   "id": "94b7639e-e35e-49ee-a2a7-4ab57ba7a3d7",
   "metadata": {},
   "source": [
    "The steps below will describe how to create a new actor in FUSE. Some of the cells containing code can be run within this notebook while others will produce errors. The code that is shown is simply meant to serve as a template for the creation of actors within the actual FUSE source code. "
   ]
  },
  {
   "cell_type": "markdown",
   "id": "a689ecb7-7bc2-4ee7-9d08-faad9035af7c",
   "metadata": {},
   "source": [
    "To begin, check under FUSE/src/actors to see if your actor fits in any of the categories already listed. Otherwise, create a folder named for the topic of your actor. Inside the existing or new folder create a file called \"XYZ_actor.jl\". "
   ]
  },
  {
   "cell_type": "markdown",
   "id": "434f3c28-7f9c-4864-9e6c-a3416e33d0e7",
   "metadata": {},
   "source": [
    "Make sure to also include your actor in the main FUSE file that can be found at FUSE/src/FUSE.jl - add the following line to that file: "
   ]
  },
  {
   "cell_type": "code",
   "execution_count": null,
   "id": "a59b5cbc-3edb-4092-aaff-0ea315cda6bf",
   "metadata": {},
   "outputs": [],
   "source": [
    "include(joinpath(\"actors\", \"folder_name\", \"XYZ_actor.jl\"))"
   ]
  },
  {
   "cell_type": "markdown",
   "id": "9953cac8-75ec-4162-a3b4-b42baec8b12f",
   "metadata": {},
   "source": [
    "## function ActorName(dd, act; kw...)"
   ]
  },
  {
   "cell_type": "markdown",
   "id": "9a71405d-3097-42c2-83d8-0e1cc548c89b",
   "metadata": {},
   "source": [
    "All the building blocks of an actor can be seen in this $\\textbf{ActorName}$ function (in this case, we'll name it $\\textbf{ActorExample}$), which is common to all the actors. This is the function that is executed when a user calls the familiar \"FUSE.ActorName(dd, act)\""
   ]
  },
  {
   "cell_type": "markdown",
   "id": "a67a597e-7d8a-4031-aa50-5275988b0c99",
   "metadata": {},
   "source": [
    "Create this function in your \"XYZ_actor.jl\" file, replacing ActorExample with the name of your actor. "
   ]
  },
  {
   "cell_type": "code",
   "execution_count": null,
   "id": "73f49e22-06c7-471f-a484-4be082706662",
   "metadata": {},
   "outputs": [],
   "source": [
    "function ActorExample(dd::IMAS.dd, act::FUSE.ParametersAllActors; kw...)\n",
    "    par = act.ActorExample(kw...)\n",
    "    actor = ActorExample(dd, par)\n",
    "    step(actor)\n",
    "    finalize(actor)\n",
    "    return actor\n",
    "end"
   ]
  },
  {
   "cell_type": "markdown",
   "id": "3eda6a0e-2ccb-429d-bdce-06bc4d1f1023",
   "metadata": {},
   "source": [
    "This function should be preceded by a docstring explaining its functionality and describing which fields in dd it stores the resulting data in. See the example below: "
   ]
  },
  {
   "cell_type": "code",
   "execution_count": null,
   "id": "bea5f513-5b3d-43b7-b50e-9f2536f14448",
   "metadata": {},
   "outputs": [],
   "source": [
    "\"\"\"\n",
    "    ActorBlanket(dd::IMAS.dd, act::ParametersAllActors; kw...)\n",
    "\n",
    "Evaluates blankets tritium breeding ratio (TBR), heat deposition, and neutron leakage\n",
    "\n",
    "!!! note \n",
    "    Stores data in `dd.blanket`\n",
    "\"\"\""
   ]
  },
  {
   "cell_type": "markdown",
   "id": "80a81e68-6870-4a68-aa43-e7a8206bb1e9",
   "metadata": {},
   "source": [
    "Each line of the $\\textbf{ActorExample}$ function is explained below along with the additional structures and functions that must be defined to make this function run. "
   ]
  },
  {
   "cell_type": "markdown",
   "id": "1477f2cc-0db8-48f7-ba98-6041ff5b4b66",
   "metadata": {},
   "source": [
    "## 1. par = act.ActorExample(kw...)"
   ]
  },
  {
   "cell_type": "markdown",
   "id": "9eb6c3b4-c1d8-4914-8559-5ba2bef8b21d",
   "metadata": {},
   "source": [
    "The first line in the $\\textbf{ActorExample}$ function refers to the parameters of the actor. These parameters define the user-selected options that are available to be toggled in your actor.  We need to create these parameters as an object so that they can be edited by a user and passed to the internal actor structure when the actor is run. "
   ]
  },
  {
   "cell_type": "markdown",
   "id": "3a290f24-d784-489f-993d-c8278c684296",
   "metadata": {},
   "source": [
    "Let's define some parameters for our example actor:"
   ]
  },
  {
   "cell_type": "code",
   "execution_count": null,
   "id": "df91f448-11e0-49f2-a277-38d185d11827",
   "metadata": {},
   "outputs": [],
   "source": [
    "Base.@kwdef mutable struct FUSEparameters__ActorExample{T<:Real} <: FUSE.ParametersActor{T}\n",
    "    _parent::WeakRef = WeakRef(nothing)\n",
    "    _name::Symbol = :not_set\n",
    "    length::SimulationParameters.Entry{T} = SimulationParameters.Entry(T, \"m\", \"Some description\") # it's ok not to have a default, it forces users to think about what a parameter should be\n",
    "    verbose::SimulationParameters.Entry{Bool} = SimulationParameters.Entry(Bool, \"\", \"Some other decription\"; default=true)\n",
    "    switch::SimulationParameters.Switch{Symbol} = SimulationParameters.Switch(Symbol, [:option_a, :option_b], \"\", \"user can only select one of these\"; default=:option_a)\n",
    "end"
   ]
  },
  {
   "cell_type": "markdown",
   "id": "1f2229ee-c3d3-4859-a403-43f961615766",
   "metadata": {},
   "source": [
    "The actor parameters, like \"length\", \"verbose\" and \"switch\", are each of a particular type, all of which are defined in the SimulationParameters package. You can choose from $\\textbf{Entries}$ (parameters that can be freely defined by the user) or $\\textbf{Switches}$ (parameters that can only be chosen from a specific pre-defined set of options), and further specify the expected type (Float, Symbol, String, etc) of the $\\textbf{Entry}$ or $\\textbf{Switch}$ value. "
   ]
  },
  {
   "cell_type": "code",
   "execution_count": null,
   "id": "9554bb4c-a1fa-454f-8677-6621ce23c893",
   "metadata": {},
   "outputs": [],
   "source": [
    "using SimulationParameters"
   ]
  },
  {
   "cell_type": "code",
   "execution_count": null,
   "id": "3a807e36-f81c-4587-b3cd-99b981842ab2",
   "metadata": {},
   "outputs": [],
   "source": [
    "my_switch = SimulationParameters.Switch{Symbol}([:option_a, :option_b], \"-\", \"user can only select one of these\"; default=:option_a)\n",
    "typeof(my_switch)\n",
    "my_switch.value"
   ]
  },
  {
   "cell_type": "code",
   "execution_count": null,
   "id": "dca0de1d-966f-45f9-94c2-2e4e3daffed4",
   "metadata": {},
   "outputs": [],
   "source": [
    "my_switch_string = SimulationParameters.Switch{String}([\"option_a\", \"option_b\"], \"-\", \"user can only select one of these\"; default=\"option_a\")\n",
    "typeof(my_switch_string)\n",
    "my_switch_string.value"
   ]
  },
  {
   "cell_type": "code",
   "execution_count": null,
   "id": "51dcf3a6-8161-4984-90ee-2862c9bb5253",
   "metadata": {},
   "outputs": [],
   "source": [
    "my_entry = SimulationParameters.Entry{Bool}(\"-\", \"a thing which can be true or false\"; default = true)\n",
    "my_entry.value"
   ]
  },
  {
   "cell_type": "markdown",
   "id": "eb238217-5d98-4d28-bd30-5e8fca8f7c07",
   "metadata": {},
   "source": [
    "## 2. actor = ActorExample(dd, par)"
   ]
  },
  {
   "cell_type": "markdown",
   "id": "f98557b5-38c1-44e1-8c87-d0f2db8813d5",
   "metadata": {},
   "source": [
    "The second line of the $\\textbf{ActorExample}$ function instantiates an $\\textbf{actor}$ object, which will carry both the parameters and the data structure through all the functions that make up the actor's operations. "
   ]
  },
  {
   "cell_type": "markdown",
   "id": "58388295-e904-4a0d-9038-e3f0b9756c86",
   "metadata": {},
   "source": [
    "Let's define the object $\\textbf{ActorExample}$: "
   ]
  },
  {
   "cell_type": "code",
   "execution_count": null,
   "id": "f266f8ef-d24d-49c7-857b-2c38adf05d34",
   "metadata": {},
   "outputs": [],
   "source": [
    "mutable struct ActorExample{D,P} <: FUSE.SingleAbstractActor{D,P}\n",
    "    dd::IMAS.dd{D}\n",
    "    par::FUSEparameters__ActorExample{P}\n",
    "\n",
    "    function ActorExample(dd::IMAS.dd, par::FUSEparameters__ActorExample; kw...)\n",
    "        logging_actor_init(ActorExample)\n",
    "        par = par(kw...)\n",
    "        return new{D,P}(dd, par)\n",
    "    end\n",
    "    \n",
    "end"
   ]
  },
  {
   "cell_type": "markdown",
   "id": "cd7c8155-10c0-48cd-a305-b6d5a48847a8",
   "metadata": {},
   "source": [
    "The ActorExample structure shown above is defined in the first line to be a subtype of the FUSE type $\\textbf{SingleAbstractActor}$. This is in contrast to being a subtype of the FUSE type $\\textbf{CompoundAbstractActor}$. Does your actor run a single model or allow a user to run one or more of a set of many models? This determines whether it is $\\textbf{SingleAbstractActor}$ or $\\textbf{CompoundAbstractActor}$. An example of an actor that is a $\\textbf{SingleAbstractActor}$ type is the CHEASE actor or the Solovev actor, while an example of a $\\textbf{CompoundAbstractActor}$ is the Equilibrium actor (i.e. CHEASE and Solovev are two individual models that can be selected in the Equilibrium Actor.) "
   ]
  },
  {
   "cell_type": "markdown",
   "id": "8cd27c4c-78f2-4289-be38-14801d30d7f1",
   "metadata": {},
   "source": [
    "Inside the mutable struct ActorExample is the function $\\textbf{ActorExample}$. This function is an $\\textit{inner constructor}$ - it defines how the ActorExample structure is initialized. "
   ]
  },
  {
   "cell_type": "markdown",
   "id": "96dc8573-3dc9-4aa8-b7d2-50180fb4d6c1",
   "metadata": {},
   "source": [
    "In the constructor there's a call to the $\\textbf{logging\\_actor\\_init}$ function - this function writes the name of the actor to the screen or a log file when the actor is run. "
   ]
  },
  {
   "cell_type": "markdown",
   "id": "0033f0ac-c8d3-493f-b8e1-6040a446ea69",
   "metadata": {},
   "source": [
    "The next line assigns any keyword arguments passed by the user to the actor to the act/par object - e.g. FUSE.ActorCosting(dd, act; model = :ARIES)."
   ]
  },
  {
   "cell_type": "markdown",
   "id": "32bc4d00-0014-4f77-a004-71f26bd63b78",
   "metadata": {},
   "source": [
    "Finally, the $\\textbf{new}$ function creates an instance of the $\\textbf{ActorExample}$ object with the specific values of dd and par that have been passed to it."
   ]
  },
  {
   "cell_type": "markdown",
   "id": "fee14459-6c28-4192-bcd8-9ac8e592fd15",
   "metadata": {},
   "source": [
    "## Compound actors"
   ]
  },
  {
   "cell_type": "markdown",
   "id": "0e08c419-0495-495a-a044-fb64891d4a55",
   "metadata": {},
   "source": [
    "In the case where your actor is a $\\textbf{CompoundAbstractActor}$ type, this structure definition should include an additional field, as shown below. This field carries the actor object associated to the particular model that the user has selected to run. "
   ]
  },
  {
   "cell_type": "code",
   "execution_count": null,
   "id": "99e323c2-ab3f-40d3-97aa-8a6939bb0560",
   "metadata": {},
   "outputs": [],
   "source": [
    "mutable struct ActorExample{D,P} <: FUSE.CompoundAbstractActor{D,P}\n",
    "    dd::IMAS.dd{D}\n",
    "    par::FUSEparameters__ActorExample{P}\n",
    "    ex_actor::Union{Nothing, ActorModel1{D,P}, ActorModel2{D,P}, ActorModel3{D,P}}\n",
    "end"
   ]
  },
  {
   "cell_type": "markdown",
   "id": "1a6fdf12-fc97-449c-8f87-70855399256a",
   "metadata": {},
   "source": [
    "In the compound case, the constructor for the $\\textbf{ActorExample}$ object should be outside of the structure definition, and its purpose is to direct the CompoundActor to run the SingleActor or SingleActors that are specified by par.model. "
   ]
  },
  {
   "cell_type": "code",
   "execution_count": null,
   "id": "1fe3688e-de9c-4506-aba6-4292fe50466b",
   "metadata": {},
   "outputs": [],
   "source": [
    "function ActorExample(dd::IMAS.dd, par::FUSEparameters__ActorExample, act::FUSE.ParametersAllActors; kw...)\n",
    "    logging_actor_init(ActorExample)\n",
    "    par = par(kw...)\n",
    "    if par.model == :Model1\n",
    "        ex_actor = ActorModel1(dd, act.ActorModel1)\n",
    "    elseif par.model == :Model2\n",
    "        ex_actor = ActorModel2(dd, act.ActorModel2)\n",
    "    elseif par.model == :Model3\n",
    "        ex_actor = ActorModel3(dd, act.ActorModel3)\n",
    "    else\n",
    "        error(\"ActorExample: model = `$(par.model)` can only be one of [:Model1, :Model2, :Model3]\")\n",
    "    end\n",
    "    return ActorExample(dd, par, act, ex_actor)\n",
    "end"
   ]
  },
  {
   "cell_type": "markdown",
   "id": "e8f4c57c-4d35-4dcb-8d7b-eca7c85843ae",
   "metadata": {},
   "source": [
    "## 3. step(actor)"
   ]
  },
  {
   "cell_type": "markdown",
   "id": "4cea93cb-59ec-469a-a068-c4de85dc6624",
   "metadata": {},
   "source": [
    "The third line in the ActorExample function is a call to $\\textbf{step(actor)}$, which is the function that contains the actual actions the actor performs. "
   ]
  },
  {
   "cell_type": "markdown",
   "id": "d84167c9-6d2a-4547-a702-d566ce0128c5",
   "metadata": {},
   "source": [
    "The $\\textbf{step}$ function operates on the $\\textbf{actor}$ object, which carries a copy of the data structure (dd) and a copy of the act parameters. The $\\textbf{step}$ function returns the $\\textbf{actor}$ object after new quantities that are calculated within the step are assigned into the relevant fields in dd. "
   ]
  },
  {
   "cell_type": "code",
   "execution_count": null,
   "id": "f152cbf9-4cab-410f-8842-cc13ccf35e67",
   "metadata": {},
   "outputs": [],
   "source": [
    "function _step(actor::ActorExample) # Assuming ActorExample is a subtype of SingleAbstractActor\n",
    "    dd = actor.dd \n",
    "    par = actor.par \n",
    "\n",
    "    dd.example.sum_of_quantities = dd.example.quantity1 + dd.example.quantity2\n",
    "    dd.example.product_of_quantities = dd.example.quantity1 * dd.example.quantity2\n",
    "    \n",
    "    return actor \n",
    "end\n",
    "\n",
    "function _step(actor::ActorExample) # Assuming ActorExample is a subtype of CompoundAbstractActor\n",
    "    step(actor.ex_actor)\n",
    "    return actor\n",
    "end"
   ]
  },
  {
   "cell_type": "markdown",
   "id": "d59fef09-c76d-42ed-873e-2238ac67932c",
   "metadata": {},
   "source": [
    "## 4. finalize(actor)"
   ]
  },
  {
   "cell_type": "markdown",
   "id": "0e7b3672-0442-4971-bd1d-9e99bf667176",
   "metadata": {},
   "source": [
    "The fourth line in the $\\textbf{ActorExample}$ function is a call to $\\textbf{finalize(actor)}$, which is a function that may, e.g. organize the resulting data that was written to dd during the $\\textbf{step}$ function for the case of a single actor, or contain a call to the $\\textbf{finalize}$ of a particular model actor for the case of a compound actor. "
   ]
  },
  {
   "cell_type": "code",
   "execution_count": null,
   "id": "cd1dffa7-a04f-4f4b-8b18-79fc2c1115e5",
   "metadata": {},
   "outputs": [],
   "source": [
    "function _finalize(actor::ActorExample) # Assuming ActorExample is a subtype of SingleAbstractActor\n",
    "    sort!(dd.example.system, by=x -> x.quantity)\n",
    "    return actor\n",
    "end\n",
    "\n",
    "function _finalize(actor::ActorExample) # Assuming ActorExample is a subtype of CompoundAbstractActor\n",
    "    finalize(actor.ex_actor)\n",
    "    return actor\n",
    "end"
   ]
  }
 ],
 "metadata": {
  "kernelspec": {
   "display_name": "Julia 1.10.0",
   "language": "julia",
   "name": "julia-1.10"
  },
  "language_info": {
   "file_extension": ".jl",
   "mimetype": "application/julia",
   "name": "julia",
   "version": "1.10.0"
  }
 },
 "nbformat": 4,
 "nbformat_minor": 5
}
