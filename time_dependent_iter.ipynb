{
 "cells": [
  {
   "cell_type": "markdown",
   "id": "0faddccf",
   "metadata": {},
   "source": [
    "# Time dependent ITER simulation"
   ]
  },
  {
   "cell_type": "code",
   "execution_count": null,
   "id": "7750f97b-446e-459a-bdc4-6da47b2c2edf",
   "metadata": {
    "tags": []
   },
   "outputs": [],
   "source": [
    "using Plots;\n",
    "using FUSE\n",
    "FUSE.ProgressMeter.ijulia_behavior(:clear);"
   ]
  },
  {
   "cell_type": "markdown",
   "id": "1e3eaebe-732d-4525-a60f-207fc1b0f90a",
   "metadata": {
    "tags": []
   },
   "source": [
    "First we want to define the machine we'll working with..\n",
    "\n",
    "One may design a machine directly within FUSE or (like in this case) take an experimental configurations from a ODS."
   ]
  },
  {
   "cell_type": "code",
   "execution_count": null,
   "id": "9ebb328f-c016-4aa1-bfd1-08b124b32866",
   "metadata": {
    "tags": []
   },
   "outputs": [],
   "source": [
    "ini, act = FUSE.case_parameters(:ITER; init_from=:ods);"
   ]
  },
  {
   "cell_type": "code",
   "execution_count": null,
   "id": "9b9f9d9e-a137-4f46-a65d-a3cdc26d702c",
   "metadata": {
    "tags": []
   },
   "outputs": [],
   "source": [
    "dd = IMAS.dd()\n",
    "@time FUSE.init(dd, ini, act);\n",
    "\n",
    "# FUSE.ActorWholeFacility(dd, act); # if we were to design a machine\n",
    "\n",
    "@checkin :hw_init dd ini act;"
   ]
  },
  {
   "cell_type": "code",
   "execution_count": null,
   "id": "85960f6a-68af-490c-be78-91a6b52a2c35",
   "metadata": {
    "tags": []
   },
   "outputs": [],
   "source": [
    "plot(dd.build)"
   ]
  },
  {
   "cell_type": "markdown",
   "id": "5334967d-e93b-45c5-a1fe-f93ecb0d9d21",
   "metadata": {
    "tags": []
   },
   "source": [
    "Once the machine is designed/configured we start to think about what plasma will we want to simulate.\n",
    "\n",
    "In `ini` we define quantities to be time dependent by assining functions of `(t)` instead of scalar quantities.\n",
    "\n",
    "FUSE defines convenience functions that can be used for pulse shaping: `step(t)`, `pulse(t)`, `ramp(t)`, `trap(t, ramp_fraction)`, `gaus(t, order)`, `beta(t, mode)`.\n",
    "\n",
    "`ini.time.simulation_start` is used to set at what time the simulation should begin."
   ]
  },
  {
   "cell_type": "code",
   "execution_count": null,
   "id": "8b8520a8-776b-46ff-bf98-f40c30cebdfd",
   "metadata": {
    "tags": []
   },
   "outputs": [],
   "source": [
    "@checkout :hw_init dd ini act;\n",
    "\n",
    "ini, _ = FUSE.case_parameters(:ITER; init_from=:scalars, time_dependent=true);\n",
    "\n",
    "ini.time.pulse_shedule_time_basis = range(0, 300; step=1.0)\n",
    "ini.time.simulation_start = 50.0;\n",
    "\n",
    "rampup_ends = 10.0\n",
    "\n",
    "ini.rampup.side = :lfs\n",
    "ini.rampup.ends_at = rampup_ends\n",
    "ini.rampup.diverted_at = rampup_ends * 0.8\n",
    "\n",
    "ini.equilibrium.pressure_core = t -> ramp(t / rampup_ends) .^ 2 * 0.643e6\n",
    "ini.equilibrium.ip = t -> ramp(t / rampup_ends) * 14E6 + ramp((t - 100) / 100) * 1E6\n",
    "\n",
    "ini.nb_unit[1].power_launched = t -> (1 .+ ramp((t - 100) / 100)) * 16.7e6\n",
    "ini.ec_launcher[1].power_launched = t -> (1 .+ ramp((t - 100) / 100)) * 10E6\n",
    "ini.ic_antenna[1].power_launched = t -> (1 .+ ramp((t - 100) / 100)) * 12E6\n",
    "ini.lh_antenna[1].power_launched = t -> (1 .+ ramp((t - 100) / 100)) * 5E6\n",
    "ini.pellet_launcher[1].frequency = t -> (1 .+ ramp((t - 100) / 100)) * 0.01 # Hz\n",
    "\n",
    "# the same ip(t) can be defined with unit pulse shaping functions...\n",
    "ini.equilibrium.ip = t -> ramp(t / 10.0) * 13E6 + ramp((t - 100) / 100) * 2E6;\n",
    "\n",
    "# ...or by a `sequence(t, t_y_tuple_sequence)`\n",
    "ini.equilibrium.ip = t -> sequence(t, [(0.0, 0.0), (10.0, 13.0E6), (100.0, 13.0E6), (200.0, 15.0E6)]);"
   ]
  },
  {
   "cell_type": "code",
   "execution_count": null,
   "id": "cdc438f8-86bf-4d90-831c-fa2323bafe12",
   "metadata": {
    "tags": []
   },
   "outputs": [],
   "source": [
    "plot(ini)"
   ]
  },
  {
   "cell_type": "markdown",
   "id": "21adaa15-dd1b-4ba2-820e-808f82b90c60",
   "metadata": {
    "tags": []
   },
   "source": [
    "`init()` here is used to populate `dd.pulse_schedule` from the time-dependent `ini` that we defined above"
   ]
  },
  {
   "cell_type": "code",
   "execution_count": null,
   "id": "69c901c4-4e7b-47aa-9258-78d765e5e9c2",
   "metadata": {
    "tags": []
   },
   "outputs": [],
   "source": [
    "FUSE.init(dd, ini, act; initialize_hardware=false);\n",
    "\n",
    "@checkin :t_init dd ini act;"
   ]
  },
  {
   "cell_type": "code",
   "execution_count": null,
   "id": "822b184b-38e6-4304-9527-110232224b2a",
   "metadata": {
    "tags": []
   },
   "outputs": [],
   "source": [
    "using Interact\n",
    "@manipulate for time0 in ini.time.pulse_shedule_time_basis\n",
    "    plot(dd.pulse_schedule; time0, ini.time.simulation_start)\n",
    "end"
   ]
  },
  {
   "cell_type": "code",
   "execution_count": null,
   "id": "8e18f710-df84-4826-8c57-eae68793c71c",
   "metadata": {
    "tags": []
   },
   "outputs": [],
   "source": [
    "FUSE.plot_plasma_overview(dd, dd.global_time; min_power=1E6, aggregate_radiation=true)"
   ]
  },
  {
   "cell_type": "markdown",
   "id": "0d4bf9e8-b24e-4dbc-b98c-54061b2bb356",
   "metadata": {
    "tags": []
   },
   "source": [
    "Our simulation should start in a self-consistent state. For this, we call the `ActorStationaryPlasma`"
   ]
  },
  {
   "cell_type": "code",
   "execution_count": null,
   "id": "16b0d35f-0965-40ae-88d9-6c351712166d",
   "metadata": {
    "tags": []
   },
   "outputs": [],
   "source": [
    "@checkout :t_init dd ini act;\n",
    "\n",
    "act.ActorStationaryPlasma.convergence_error = 2E-2\n",
    "act.ActorStationaryPlasma.max_iterations = 5\n",
    "\n",
    "act.ActorSteadyStateCurrent.current_relaxation_radius = 0.2\n",
    "\n",
    "act.ActorFluxMatcher.verbose = true\n",
    "act.ActorFluxMatcher.relax = 0.5\n",
    "\n",
    "FUSE.ActorStationaryPlasma(dd, act; verbose=true)\n",
    "@checkin :stationary dd ini act;"
   ]
  },
  {
   "cell_type": "code",
   "execution_count": null,
   "id": "07d4554f-5491-4ed3-96b2-b5a991fce752",
   "metadata": {
    "tags": []
   },
   "outputs": [],
   "source": [
    "FUSE.plot_plasma_overview(dd, dd.global_time; min_power=1E6, aggregate_radiation=true)"
   ]
  },
  {
   "cell_type": "markdown",
   "id": "405f63f0-8bd0-4e40-b30c-320100bb7e69",
   "metadata": {
    "tags": []
   },
   "source": [
    "Now we're ready to actually run the time-dependent simulation"
   ]
  },
  {
   "cell_type": "code",
   "execution_count": null,
   "id": "dc006509-8641-499e-9321-311a64f7a3cd",
   "metadata": {
    "tags": []
   },
   "outputs": [],
   "source": [
    "@checkout :stationary dd ini act;\n",
    "\n",
    "# For people interested in controls, the FuseExchangeProtocol can be used run a co-simulation with a controller external to FUSE\n",
    "#IMAS.fxp_connect(dd)\n",
    "\n",
    "act.ActorDynamicPlasma.Nt = 60\n",
    "act.ActorDynamicPlasma.Δt = 300.0\n",
    "\n",
    "act.ActorDynamicPlasma.evolve_current = true\n",
    "act.ActorDynamicPlasma.evolve_equilibrium = true\n",
    "act.ActorDynamicPlasma.evolve_transport = true\n",
    "act.ActorDynamicPlasma.evolve_hcd = true\n",
    "act.ActorDynamicPlasma.evolve_pf_active = false\n",
    "act.ActorDynamicPlasma.evolve_pedestal = true\n",
    "\n",
    "act.ActorDynamicPlasma.ip_controller = true\n",
    "act.ActorDynamicPlasma.time_derivatives_sources = true\n",
    "\n",
    "actor = FUSE.ActorDynamicPlasma(dd, act; verbose=true);\n",
    "\n",
    "@checkin :time_dep_dt dd ini act actor;"
   ]
  },
  {
   "cell_type": "markdown",
   "id": "319dbd88-cc55-4823-9a95-48794e1d5256",
   "metadata": {
    "tags": []
   },
   "source": [
    "Now we can plot the results, either as a animated gif"
   ]
  },
  {
   "cell_type": "code",
   "execution_count": null,
   "id": "aad5d1bf-4b33-405b-ae8f-3ff28e1921ec",
   "metadata": {
    "tags": []
   },
   "outputs": [],
   "source": [
    "@checkout :time_dep_dt dd ini act actor;\n",
    "FUSE.plot_plasma_overview(dd)"
   ]
  },
  {
   "cell_type": "code",
   "execution_count": null,
   "id": "70e4adc0-f1c9-49e4-9e35-efade7ca849a",
   "metadata": {
    "tags": []
   },
   "outputs": [],
   "source": [
    "@checkout :time_dep_dt dd ini act actor;\n",
    "using Interact\n",
    "\n",
    "time = dd.core_sources.time\n",
    "prog = FUSE.ProgressMeter.Progress(length(time))\n",
    "a = @animate for (k, time0) in enumerate(dd.core_sources.time)\n",
    "    FUSE.ProgressMeter.next!(prog; showvalues=((\"k\",k), (\"time\",time0)))\n",
    "    FUSE.plot_plasma_overview(dd, time0; min_power=1E6, aggregate_radiation=true)\n",
    "end\n",
    "g = gif(a, \"ITER_time_dep.gif\", fps=12)"
   ]
  },
  {
   "cell_type": "markdown",
   "id": "b8e58f79-401d-4b48-9fbf-0cc72e91f544",
   "metadata": {
    "execution": {
     "iopub.execute_input": "2024-09-14T22:30:12.604000-07:00",
     "iopub.status.busy": "2024-09-14T22:30:12.603000-07:00",
     "iopub.status.idle": "2024-09-14T22:30:19.140000-07:00",
     "shell.execute_reply": "2024-09-14T22:30:19.140000-07:00"
    },
    "tags": []
   },
   "source": [
    "or as an interactive plot with slider"
   ]
  },
  {
   "cell_type": "code",
   "execution_count": null,
   "id": "658a04f6-ce36-45a0-9235-e34b82ec21dd",
   "metadata": {
    "tags": []
   },
   "outputs": [],
   "source": [
    "using Interact\n",
    "\n",
    "@manipulate for time0 in dd.core_sources.time\n",
    "    FUSE.plot_plasma_overview(dd, time0; aggregate_radiation=true)\n",
    "end"
   ]
  },
  {
   "cell_type": "markdown",
   "id": "59c8a3a3-60c5-4968-8826-2e17befefa13",
   "metadata": {
    "execution": {
     "iopub.execute_input": "2024-09-14T22:32:36.752000-07:00",
     "iopub.status.busy": "2024-09-14T22:32:36.752000-07:00",
     "iopub.status.idle": "2024-09-14T22:34:06.309000-07:00",
     "shell.execute_reply": "2024-09-14T22:34:06.308000-07:00"
    },
    "tags": []
   },
   "source": [
    "The simulation can be continued for a number of time steps.\n",
    "\n",
    "NOTE: `actor` has its own internal copy of `dd`. When we checkout data from a checkpoint, we must take `dd` from `actor` instead of the checkpoint itself."
   ]
  },
  {
   "cell_type": "code",
   "execution_count": null,
   "id": "c865d1fa-b08a-4ec3-b65b-cc372fb4a5c4",
   "metadata": {
    "tags": []
   },
   "outputs": [],
   "source": [
    "@checkout :time_dep_dt actor;\n",
    "\n",
    "dd = actor.dd\n",
    "FUSE.finalize(FUSE.step(actor; n_steps=10))\n",
    "\n",
    "@checkin :time_dep_dt_continued dd ini act actor;"
   ]
  },
  {
   "cell_type": "code",
   "execution_count": null,
   "id": "59889fe6-c1fa-4cfc-87f0-d9a6c385b40c",
   "metadata": {
    "tags": []
   },
   "outputs": [],
   "source": [
    "using Interact\n",
    "\n",
    "time = dd.core_sources.time\n",
    "prog = FUSE.ProgressMeter.Progress(length(time))\n",
    "a = @animate for (k, time0) in enumerate(dd.core_sources.time)\n",
    "    FUSE.ProgressMeter.next!(prog; showvalues=((\"k\",k), (\"time\",time0)))\n",
    "    FUSE.plot_plasma_overview(dd, time0; min_power=1E6, aggregate_radiation=true)\n",
    "end\n",
    "g = gif(a, \"ITER_time_dep.gif\", fps=12)"
   ]
  },
  {
   "cell_type": "markdown",
   "id": "d087ba2e-5f80-4714-a834-a995c8b001c2",
   "metadata": {
    "execution": {
     "iopub.execute_input": "2024-09-14T23:30:43.443000-07:00",
     "iopub.status.busy": "2024-09-14T23:30:43.441000-07:00",
     "iopub.status.idle": "2024-09-14T23:30:43.506000-07:00",
     "shell.execute_reply": "2024-09-14T23:30:43.505000-07:00"
    },
    "tags": []
   },
   "source": [
    "We can save the time dependent simulation"
   ]
  },
  {
   "cell_type": "code",
   "execution_count": null,
   "id": "6155e7af-587d-4f4b-9bcd-e284c27b4bbd",
   "metadata": {
    "tags": []
   },
   "outputs": [],
   "source": [
    "IMAS.imas2json(dd, \"ITER_time_dep.json\"; freeze=true, strict=true);"
   ]
  },
  {
   "cell_type": "markdown",
   "id": "bd97a9d7-4806-4d85-be96-69329140aa1f",
   "metadata": {
    "execution": {
     "iopub.execute_input": "2024-09-14T23:30:43.443000-07:00",
     "iopub.status.busy": "2024-09-14T23:30:43.441000-07:00",
     "iopub.status.idle": "2024-09-14T23:30:43.506000-07:00",
     "shell.execute_reply": "2024-09-14T23:30:43.505000-07:00"
    },
    "tags": []
   },
   "source": [
    "We can extract some timeslice of interest"
   ]
  },
  {
   "cell_type": "code",
   "execution_count": null,
   "id": "d3b75925-f10a-4ed2-939f-ae5a8c4f627a",
   "metadata": {
    "tags": []
   },
   "outputs": [],
   "source": [
    "dd0 = IMAS.get_timeslice(dd, dd.global_time);\n",
    "FUSE.plot_plasma_overview(dd0)"
   ]
  },
  {
   "cell_type": "code",
   "execution_count": null,
   "id": "a4b4a66f-b02d-4e3a-b7a0-2b5d49b79d8b",
   "metadata": {
    "tags": []
   },
   "outputs": [],
   "source": [
    "IMAS.extract(dd0)"
   ]
  }
 ],
 "metadata": {
  "@webio": {
   "lastCommId": "2b91e0c2-7b2b-41f0-8b04-a5effa00f435",
   "lastKernelId": "b4650a12-fac5-4aaf-b260-3f9b8e6ed98e"
  },
  "kernelspec": {
   "display_name": "Julia (12 threads) 1.11.5",
   "language": "julia",
   "name": "julia-_12-threads_-1.11"
  },
  "language_info": {
   "file_extension": ".jl",
   "mimetype": "application/julia",
   "name": "julia",
   "version": "1.11.5"
  }
 },
 "nbformat": 4,
 "nbformat_minor": 5
}
