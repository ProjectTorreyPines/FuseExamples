{
 "cells": [
  {
   "cell_type": "code",
   "execution_count": null,
   "id": "03525b30-d89b-4de4-aa1c-3997daff7a8e",
   "metadata": {
    "tags": []
   },
   "outputs": [],
   "source": [
    "using Revise\n",
    "using FUSE\n",
    "using Plots"
   ]
  },
  {
   "cell_type": "code",
   "execution_count": null,
   "id": "83d51e0f-fffe-4e8c-abe4-d74bb123143e",
   "metadata": {
    "tags": []
   },
   "outputs": [],
   "source": [
    "chk = FUSE.Checkpoint(); # checkpointing allows us to run mutliple times the same JupyterNotebook cell without everytime having to restart from scratch\n",
    "\n",
    "ini,act = FUSE.case_parameters(:D3D;scenario=:L_mode,scenario_sources=false,scenario_core_profiles=false)\n",
    "empty!(ini.general.dd.core_profiles)\n",
    "\n",
    "n_before = 1.0e19\n",
    "n_sep_rat_before = 0.7\n",
    "\n",
    "ini.core_profiles.ne_sep_to_ped_ratio = n_sep_rat_before\n",
    "ini.core_profiles.ne_value = n_before\n",
    "ini.nb_unit[1].power_launched = 0.2e6\n",
    "    \n",
    "ini.core_profiles.zeff = 1.5\n",
    "ini.core_profiles.ne_setting = :ne_ped\n",
    "ini.core_profiles.Te_ped = 0.3e3\n",
    "ini.core_profiles.Te_core = 1.5e3\n",
    "\n",
    "ini.core_profiles.w_ped = 0.1\n",
    "\n",
    "ini.time.simulation_start = 0.1\n",
    "\n",
    "act.ActorPedestal.density_match=:ne_ped\n",
    "\n",
    "dd = IMAS.dd()\n",
    "FUSE.init(dd,ini,act);\n",
    "\n",
    "for ion in dd.core_profiles.profiles_1d[].ion\n",
    "    ion.temperature = dd.core_profiles.profiles_1d[].electrons.temperature\n",
    "end\n",
    "\n",
    "@checkin :hw_init dd ini act;\n",
    "    \n",
    "plot(dd.core_profiles;coordinate=:psi_norm)"
   ]
  },
  {
   "cell_type": "code",
   "execution_count": null,
   "id": "64485eaa-0fa9-44ba-9761-7ccc4d09c854",
   "metadata": {
    "tags": []
   },
   "outputs": [],
   "source": [
    "@checkout :hw_init dd ini act;\n",
    "\n",
    "\n",
    "ini.time.pulse_shedule_time_basis = range(0, 1.2; step=0.1)\n",
    "\n",
    "#ini.rampup.side = :lfs\n",
    "#ini.rampup.ends_at = rampup_ends\n",
    "#ini.rampup.diverted_at = rampup_ends * 0.8\n",
    "\n",
    "#ini.equilibrium.pressure_core = t -> ramp(t / rampup_ends) .^ 2 * 2.22e6 .+ 5e5\n",
    "#ini.equilibrium.ip = t -> ramp(t / rampup_ends) * 8.7e6 # + ramp((t - 7) / 20) * 1E6 # 7.7 + 1 ramp\n",
    "\n",
    "ini.nb_unit[1].power_launched = t -> sequence(t, [(0.0, 1e5), (0.39, 1.0e5),(0.4, 2.5e6),  (0.89, 2.5e6), (0.9, 1e5)]);\n",
    "#ini.ic_antenna[1].power_launched = t -> (3.1e6 .+ 8e6 .* ramp((t - 7) / 7)) # 11.1e6\n",
    "\n",
    "ini.equilibrium.xpoints = :lower\n",
    "# ...or by a `sequence(t, t_y_tuple_sequence)`\n",
    "#ini.equilibrium.ip = t -> sequence(t, [(0.0, 0.0), (10.0, 13.0E6), (100.0, 13.0E6), (200.0, 15.0E6)]);\n",
    "\n",
    "plot(ini)"
   ]
  },
  {
   "cell_type": "code",
   "execution_count": null,
   "id": "ba10a292-4965-4208-a939-d04159c0566d",
   "metadata": {},
   "outputs": [],
   "source": [
    "FUSE.init(dd, ini, act; initialize_hardware=false);\n",
    "\n",
    "plot(dd.core_profiles)\n",
    "\n",
    "@checkin :t_init dd ini act;"
   ]
  },
  {
   "cell_type": "code",
   "execution_count": null,
   "id": "69055334-9bd5-4f0c-b25e-24cf78c72d78",
   "metadata": {},
   "outputs": [],
   "source": [
    "FUSE.plot_plasma_overview(dd, dd.global_time; min_power=1E6, aggregate_radiation=true)"
   ]
  },
  {
   "cell_type": "code",
   "execution_count": null,
   "id": "68819fb2-8603-44d5-8eb6-b1318113c8b3",
   "metadata": {},
   "outputs": [],
   "source": [
    "@checkout :t_init dd ini act;\n",
    "\n",
    "act.ActorStationaryPlasma.convergence_error = 2E-2\n",
    "act.ActorStationaryPlasma.max_iter = 3\n",
    "\n",
    "act.ActorCoreTransport.model = :FluxMatcher\n",
    "act.ActorFluxMatcher.optimizer_algorithm = :simple\n",
    "act.ActorFluxMatcher.max_iterations = 500\n",
    "act.ActorFluxMatcher.verbose = false\n",
    "\n",
    "act.ActorFluxMatcher.rho_transport = 0.2:0.05:0.9\n",
    "\n",
    "act.ActorPedestal.model = :WPED\n",
    "act.ActorWPED.ped_to_core_fraction =0.15\n",
    "\n",
    "#act.ActorPedestal.rho_nml = 0.85\n",
    "#act.ActorPedestal.rho_ped = 0.9\n",
    "#act.ActorTGLF.tglfnn_model = \"sat0quench_em_d3d+mastu_azf+1\"\n",
    "\n",
    "\n",
    "act.ActorFluxMatcher.evolve_pedestal = false\n",
    "act.ActorEquilibrium.model = :TEQUILA\n",
    "\n",
    "FUSE.ActorStationaryPlasma(dd, act; verbose=false)\n",
    "@checkin :stationary dd ini act;\n",
    "FUSE.plot_plasma_overview(dd)"
   ]
  },
  {
   "cell_type": "code",
   "execution_count": null,
   "id": "432ba821-80d4-4627-92d4-19d44fb1496e",
   "metadata": {},
   "outputs": [],
   "source": [
    "plot(dd.core_profiles)"
   ]
  },
  {
   "cell_type": "code",
   "execution_count": null,
   "id": "44de58a4-b85c-4086-bd32-4cc0e19270f5",
   "metadata": {},
   "outputs": [],
   "source": [
    "FUSE.plot_plasma_overview(dd)"
   ]
  },
  {
   "cell_type": "code",
   "execution_count": null,
   "id": "3782e75f-2d3c-4d3e-b1a3-46987f2d1bf1",
   "metadata": {
    "scrolled": true,
    "tags": []
   },
   "outputs": [],
   "source": [
    "@checkout :stationary dd ini act;\n",
    "\n",
    "\n",
    "act.ActorPedestal.model = :dynamic\n",
    "act.ActorPedestal.ip_from = :pulse_schedule\n",
    "act.ActorPedestal.zeff_ped_from = :core_profiles\n",
    "act.ActorPedestal.ne_from = :pulse_schedule\n",
    "act.ActorPedestal.ip_from = :pulse_schedule\n",
    "act.ActorPedestal.βn_from = :equilibrium\n",
    "\n",
    "\n",
    "act.ActorPedestal.rho_nml = act.ActorFluxMatcher.rho_transport[end-1]\n",
    "act.ActorPedestal.rho_ped = act.ActorFluxMatcher.rho_transport[end]\n",
    "\n",
    "act.ActorPedestal.tau_n = 0.3\n",
    "act.ActorPedestal.tau_t = 0.2\n",
    "act.ActorPedestal.density_ratio_L_over_H = 0.2 # 5 times multiplier of L to H\n",
    "\n",
    "actor_ped = FUSE.ActorPedestal(dd,act.ActorPedestal,act)\n",
    "\n",
    "actor_ped.state = [:L_mode]\n",
    "actor_ped.cp1d_transition = deepcopy(dd.core_profiles.profiles_1d[])\n",
    "\n",
    "act.ActorFluxMatcher.optimizer_algorithm = :simple\n",
    "act.ActorFluxMatcher.rho_transport = 0.2:0.05:0.9\n",
    "\n",
    "\n",
    "act.ActorDynamicPlasma.Δt = 1.0\n",
    "act.ActorDynamicPlasma.Nt = 100\n",
    "\n",
    "act.ActorDynamicPlasma.evolve_transport = true\n",
    "act.ActorDynamicPlasma.evolve_current = false\n",
    "act.ActorDynamicPlasma.evolve_equilibrium = false\n",
    "act.ActorDynamicPlasma.evolve_pf_active = false\n",
    "act.ActorDynamicPlasma.evolve_pedestal = true\n",
    "act.ActorDynamicPlasma.evolve_hcd = true\n",
    "\n",
    "act.ActorDynamicPlasma.verbose = true\n",
    "act.ActorDynamicPlasma.time_derivatives_sources = false\n",
    "\n",
    "\n",
    "actor_dyn = FUSE.ActorDynamicPlasma(dd,act.ActorDynamicPlasma,act)\n",
    "\n",
    "actor_ped.cp1d_transition = deepcopy(dd.core_profiles.profiles_1d[])\n",
    "actor_dyn.actor_ped = actor_ped\n",
    "\n",
    "\n",
    "FUSE.finalize(FUSE.step(actor_dyn))\n",
    "\n",
    "@checkin :time_dep dd ini act actor_dyn;"
   ]
  },
  {
   "cell_type": "code",
   "execution_count": null,
   "id": "70e0b3b7-6908-4250-93aa-159b2928eaad",
   "metadata": {},
   "outputs": [],
   "source": [
    "plot(dd.summary.local.pedestal.n_e, :value)"
   ]
  },
  {
   "cell_type": "code",
   "execution_count": null,
   "id": "d14df96b-eb21-4361-891b-46dbed26485d",
   "metadata": {},
   "outputs": [],
   "source": [
    "\n",
    "result = [s == :L_mode ? 0 : 1 for s in actor_dyn.actor_ped.state]\n",
    "plot(result)"
   ]
  },
  {
   "cell_type": "code",
   "execution_count": null,
   "id": "3da55f5d-1f4c-4663-b3b9-51d60c69b145",
   "metadata": {},
   "outputs": [],
   "source": [
    "\n",
    "ne_plots = []\n",
    "Te_plots = []\n",
    "pressures = []\n",
    "for (idx,t) in enumerate(dd.core_sources.time)\n",
    "    dd.global_time = t\n",
    "    cp1d = dd.core_profiles.profiles_1d[]\n",
    "    p1 = plot(cp1d.electrons.temperature, label = \"t = $(t)\", title=\"Te\")\n",
    "    push!(Te_plots,p1)\n",
    "    p2 = plot(cp1d.electrons.density_thermal, label = \"t = $(t)\", title=\"ne\")\n",
    "    push!(ne_plots,p2)\n",
    "    p3 = plot(cp1d.pressure_thermal, label = \"t = $(t)\", title=\"pressure thermal\")\n",
    "    push!(pressures,p3)\n",
    "\n",
    "end\n",
    "display(animate(Te_plots,\"t_evolution_implemented2.gif\", fps=10,ylim=(0.0,6e3)))\n",
    "display(animate(ne_plots,\"ne_evolution_implemented2.gif\", fps=10,ylim=(0.0,1.2e20)))\n",
    "display(animate(pressures,\"pressure_evolution_implemented2.gif\", fps=10,ylim=(0.0,1.6e5)))"
   ]
  }
 ],
 "metadata": {
  "kernelspec": {
   "display_name": "Julia (12 threads) 1.11.2",
   "language": "julia",
   "name": "julia-_12-threads_-1.11"
  },
  "language_info": {
   "file_extension": ".jl",
   "mimetype": "application/julia",
   "name": "julia",
   "version": "1.11.2"
  }
 },
 "nbformat": 4,
 "nbformat_minor": 5
}
