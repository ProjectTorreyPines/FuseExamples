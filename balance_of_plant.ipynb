{
 "cells": [
  {
   "cell_type": "markdown",
   "metadata": {},
   "source": [
    "# Balance of Plant with ThermalSytemsModels.jl"
   ]
  },
  {
   "cell_type": "markdown",
   "metadata": {},
   "source": [
    "\n",
    "This notebook provides examples for using the GA FUSE Balance of Plant (**BOP**) Actor and the ThermalSystemsModels.jl (**TSM**) package. \n",
    "\n",
    "**TSM** is a thermodynamic component-based modeling package for simulating physical systems in which there is energy transfer between multiple energy domains. Currently there are component libraries for ideal gas, isothermal liquid, and multiphase fluid domains. In a given fluid circuit, all 'flow' connected components must be within the same domain. Energy can be coupled between circuits of which through shaft power or heat transfer elements.\n",
    "\n",
    "The actor which implements the TSM model is the **ActorThermalPlant** which can be controlled by an **ActorBalanceOfPlant** instance or by the user. \n",
    "\n",
    "\n",
    "---"
   ]
  },
  {
   "cell_type": "markdown",
   "metadata": {},
   "source": [
    "### Thermal Plant Actor (act.ActorThermalPlant) Structure"
   ]
  },
  {
   "cell_type": "markdown",
   "metadata": {},
   "source": [
    "**Parameters**\n",
    "\n",
    "``model::Symbol`` - The model to construct, acceptable options are :rankine, :brayton\n",
    "\n",
    "**Actor Data**\n",
    "\n",
    "Basic\n",
    "* ``dd::IMASDD.dd{Float64}``\n",
    "* ``par::FUSE.FUSEparameters__ActorThermalPlant{Float64}``\n",
    "* ``buildstatus::Bool`` - Boolean to track whether or not plant has been fully constructed (set true after first step)\n",
    "\n",
    "Component and subsystem Information\n",
    "* ``odedict::Dict{Symbol, ODESystem}``  - Dictionary where you can index the plant with the component names \n",
    "* ``components::Vector{ODESystem}`` - Vector of components represented by ODESystem objects\n",
    "* ``connections::Vector{Equation}`` - Vector of all equations which describe the ``fullbuild``\n",
    "* ``odeparams::Vector{Num}``        - Vector of **ALL** plant level parameters for the `fullbuild`` system.\n",
    "\n",
    "Plant Construction Variables\n",
    "* ``fullbuild::ODESystem``          - The ODESystem object as constructed\n",
    "* ``plant::ODESystem`` - The simplified ODESystem version of fullbuild. The ``plant`` is a algebreicly simplified version of the  ``fullbuild`` which improves performance. this is the system that actually gets calculated.\n",
    "* ``prob::ODEProblem``    - The ODEProblem object\n",
    "\n",
    "Processing\n",
    "* ``G::MetaGraphs.MetaDiGraph`` - Full graph representation of the plant\n",
    "* ``gplot::MetaGraphs.MetaDiGraph`` - Simplified graph with additional aesthetic nodes for plotting\n",
    "* ``sym2var::Dict{Symbol, SymbolicUtils.BasicSymbolic{Real}}``  - Dictionary where a symbol key maps to the actual **variable object** with the same name.\n",
    "* ``var2val::Dict{SymbolicUtils.BasicSymbolic{Real}, Float64}`` - Dictionary wheere a ***variable object*** key maps to the default value of theat parameter or variable.\n",
    "* ``optpar::Vector{Symbol}`` - Vector the **Optimizable** parameters for the plant model\n",
    "* ``x::Vector{Float64}``     - Current values for the parameters in ``optpar``\n",
    "* ``u::Vector{Float64}``     - Current heat load vector (W) where u = [$\\dot{Q}_{breeder}$,$ \\dot{Q}_{divertor}$, $\\dot{Q}_{first wall}$]"
   ]
  },
  {
   "cell_type": "markdown",
   "metadata": {},
   "source": [
    "### TSM Conventions"
   ]
  },
  {
   "cell_type": "markdown",
   "metadata": {},
   "source": [
    "#### **Unit Convention**\n",
    "|    Variable          | Symbol  | Unit     |Notes|\n",
    "|----------------------|:------:|:-----------:|:-----------:|\n",
    "|Temperature|$T$|K|Converted to °C before added to dd|\n",
    "|Pressure|$P$|Bar|\n",
    "|Mass flow rate| $\\dot{m}$|kg/s|\n",
    "|Specific Enthalpy|$h$|J/kg|\n",
    "|Specific Entropy|$s$|J/kg/K|\n",
    "|Specific Volume|$v$|m^3/kg|\n",
    "|Specifc heat at constant pressure|$c_p$|kJ/kg/K|$c_p = (\\frac{dh}{dT})_{P=const} = T(\\frac{ds}{dT})_{P=const}$|\n",
    "|Specifc heat at constant volume|$c_v$|kJ/kg/K|$c_v = (\\frac{du}{dT})_{v=const} = T(\\frac{ds}{dT})_{v=const}$|\n",
    "|Vapour Fraction (multiphase)|$x$|-|\n",
    "|Mechanical Work and Power|$W, \\dot{W}$|J, W|\n",
    "|Thermal Work and Power|$Q, \\dot{Q}$|J, W|\n",
    "\n",
    "#### **Sign Convention** for all conserved quantites (mass, work, heat, energy) <br>\n",
    "|Sign|Transfer Direction|Examples|\n",
    "|----------------------|:------:|:-----------:|\n",
    "|(-)| Transfer out of the system|Turbine power, Heat Rejection, $\\dot{m}_{out}$|\n",
    "|(+)| Transfer into the system|Pumping power, Heat addition, $\\dot{m}_{in}$ |\n",
    "\n",
    "\n",
    "**Docs** [ThermalSystems_Models.jl docs](https://legendary-adventure-k6ye327.pages.github.io/UTILITIES.html) \n"
   ]
  },
  {
   "cell_type": "markdown",
   "metadata": {},
   "source": [
    "---\n",
    "### Tutorial Outline"
   ]
  },
  {
   "cell_type": "markdown",
   "metadata": {},
   "source": [
    "1. [Basic use of the FUSE Balance of Plant Actor](#basic-use-case---running-with-fuse)\n",
    "    * [Using the ActorBalanceOfPlant Actor](#running-from-balance-of-plant-actor)\n",
    "        * [Default Rankine System](#run-the-default-rankine-cycle-in-fuse)\n",
    "        * [Default Brayton System](#run-the-default-rankine-cycle-in-fuse)\n",
    "    * [Modyfying parameters of the plant object](#modifying-the-default-plant-parameters)\n",
    "    * [User Specified Heat Loading](#user-specified-heat-loading)\n",
    "    * [Using an individual ActorThermalPlant instance](#running-the-thermalplantactorjl-independently)\n",
    "1. [TSM Internals and Access](#tsm-internals-and-access)\n",
    "    * [Component Based Modeling](#component-based-model-approach)\n",
    "    * [Accessing Results](#top-level-variables)\n",
    "* [Optimizing plant parameters](#optimization)\n",
    "    * [Optimization Example 1](#simple-optimzation-example-optimizing-rankine-cycle-net-power-by-changing-the-flow-rates)\n",
    "    * [Optimization Example 2](#full-optimzation-example-optimizing-rankine-cycle-net-power-by-changing-all-parameters)\n",
    "    * [Optimization Example 3](#full-optimzation-example-2-optimizing-rankine-cycle-net-power-by-changing-all-parameters)\n",
    "* [Constructing models using the TSM package](#using-thermal-system-models-package-to-construct-a-thermal-plant-system)"
   ]
  },
  {
   "cell_type": "markdown",
   "metadata": {},
   "source": [
    "### Dependencies "
   ]
  },
  {
   "cell_type": "markdown",
   "metadata": {
    "execution": {
     "iopub.execute_input": "2024-11-22T14:10:34.593000-08:00",
     "iopub.status.busy": "2024-11-22T14:10:34.591000-08:00",
     "iopub.status.idle": "2024-11-22T14:10:42.098000-08:00",
     "shell.execute_reply": "2024-11-22T14:10:42.034000-08:00"
    },
    "tags": []
   },
   "source": [
    "NOTE: FUSE does not install TSM by default. Instead it relies on a surrogate model of it, build on a large dataset of TSM simulations for the Rankine and Brayton cycles. This results in very fast calculation of the plant efficiency, and avoids bringing in the heavy dependencies of `ModelingToolkit.jl` that TSM has."
   ]
  },
  {
   "cell_type": "code",
   "execution_count": null,
   "metadata": {
    "tags": []
   },
   "outputs": [],
   "source": [
    "# Temporary fix for TSM installation\n",
    "using Pkg\n",
    "Pkg.activate()\n",
    "Pkg.add([\n",
    "        PackageSpec(name=\"OrdinaryDiffEqCore\", version=\"1.11.0\"),\n",
    "        PackageSpec(name=\"DifferentiationInterface\", version=\"0.6.22\"),\n",
    "        PackageSpec(name=\"OrdinaryDiffEqFIRK\", version=\"1.4.0\"),\n",
    "        PackageSpec(name=\"SciMLBase\", version=\"2.62.0\"),\n",
    "        PackageSpec(name=\"ThermalSystemModels\")])"
   ]
  },
  {
   "cell_type": "code",
   "execution_count": null,
   "metadata": {
    "tags": []
   },
   "outputs": [],
   "source": [
    "using Pkg\n",
    "Pkg.activate()\n",
    "\n",
    "# TSM\n",
    "import ThermalSystemModels as TSM, ModelingToolkit as MTK, DifferentialEquations as diffeq\n",
    "TSMD    = TSM.Dynamics;\n",
    "Steam   = TSMD.Steam;\n",
    "Gas     = TSMD.Gas;\n",
    "Liq     = TSMD.Liq;\n",
    "\n",
    "# FUSE\n",
    "using FUSE\n",
    "\n",
    "# Plotting and priting\n",
    "using Plots, Printf;"
   ]
  },
  {
   "cell_type": "markdown",
   "metadata": {},
   "source": [
    "## **Basic Use Case - Running with FUSE**"
   ]
  },
  {
   "cell_type": "markdown",
   "metadata": {},
   "source": [
    "Initialize Fuse FPP Case & running Prerequisite Actors required for the Balance of Plant actor. \n",
    "* Heat loads are taken directly form the Divertor, Blanket, and Neutronics actors. \n",
    "* For basic use cases, you can simply run the ``FUSE.ActorBalanceOfPlant(dd,act)`` to simlate bop for the current dd data."
   ]
  },
  {
   "cell_type": "markdown",
   "metadata": {},
   "source": [
    "### **Running from Balance of Plant Actor**"
   ]
  },
  {
   "cell_type": "markdown",
   "metadata": {},
   "source": [
    "##### Initialize FUSE"
   ]
  },
  {
   "cell_type": "code",
   "execution_count": null,
   "metadata": {
    "tags": []
   },
   "outputs": [],
   "source": [
    "# Initialization\n",
    "ini, act = FUSE.case_parameters(:FPP);\n",
    "dd = IMAS.dd()\n",
    "FUSE.init(dd, ini, act; do_plot = false);\n",
    "\n",
    "# Pre-Requisite Actors\n",
    "FUSE.ActorCXbuild(dd, act);\n",
    "FUSE.ActorNeutronics(dd, act; do_plot=false);\n",
    "FUSE.ActorBlanket(dd, act, verbose=false);\n",
    "FUSE.ActorDivertors(dd,act);"
   ]
  },
  {
   "cell_type": "markdown",
   "metadata": {},
   "source": [
    "#### Run the default Rankine cycle in FUSE\n",
    "The default BOP:\n",
    "* Helium cooled divertor and first wall \n",
    "* Lead Lithium (PbLi) breeder blanket\n",
    "* Divertor, wall, and breeder circuits couple to an intermediate Helium circuit via heat exchangers\n",
    "* Intermetiate He loop couples heat to a Feedwater-Rankine cycle "
   ]
  },
  {
   "cell_type": "code",
   "execution_count": null,
   "metadata": {
    "tags": []
   },
   "outputs": [],
   "source": [
    "# Run and plot the FUSE.ActorBalanceOfPlant\n",
    "act.ActorThermalPlant.model = :network\n",
    "dd.balance_of_plant.power_plant.power_cycle_type = \"rankine\"\n",
    "\n",
    "act.ActorThermalPlant.do_plot = true   \n",
    "bopActor = FUSE.ActorBalanceOfPlant(dd, act);\n",
    "\n",
    "# Display some relevant results from dd\n",
    "@show dd.balance_of_plant.thermal_efficiency_plant;\n",
    "@show dd.balance_of_plant.thermal_efficiency_cycle;\n",
    "@show dd.balance_of_plant.power_plant.power_electric_generated;"
   ]
  },
  {
   "cell_type": "code",
   "execution_count": null,
   "metadata": {
    "tags": []
   },
   "outputs": [],
   "source": [
    "# Display dd after running BOP Actor\n",
    "IMAS.freeze(dd.balance_of_plant)"
   ]
  },
  {
   "cell_type": "markdown",
   "metadata": {},
   "source": [
    "##### Modifying the default plant parameters "
   ]
  },
  {
   "cell_type": "markdown",
   "metadata": {},
   "source": [
    "* Flow rates and temperatures\n",
    "* To see the names of optimizable parameters and their current values you can copy and paste the following line of code: ``display((plantActor.optpar .=> plantActor.x))  ``\n",
    "* Note the differences between the values shown on the plot"
   ]
  },
  {
   "cell_type": "code",
   "execution_count": null,
   "metadata": {},
   "outputs": [],
   "source": [
    "# Get thermal plant actor object\n",
    "plantActor = bopActor.thermal_plant_actor;\n",
    "\n",
    "# Show parameters/variables which can be optimized, creating a vector of pairs (optimizable parameters => default values)\n",
    "# display((plantActor.optpar .=> plantActor.x))     # Uncomment to show\n",
    "\n",
    "# Running actor with different parameters\n",
    "# lets change the mass flow rates\n",
    "plantActor.x[1]    = 300;   # Primary cyle flow rate\n",
    "plantActor.x[end]  = 1300;  # Breeder max fluid temperature\n",
    "\n",
    "# Ensure equivilance\n",
    "bopActor.thermal_plant_actor = plantActor;\n",
    "\n",
    "# Step the BOP Actor\n",
    "FUSE.step(bopActor)\n",
    "\n",
    "# Display The same results from dd\n",
    "@show @ddtime(dd.balance_of_plant.thermal_efficiency_plant);\n",
    "@show dd.balance_of_plant.thermal_efficiency_cycle;\n",
    "@show dd.balance_of_plant.power_plant.power_electric_generated;\n",
    "@show dd.balance_of_plant.power_plant.system[3].component[1].port[3].thermalPower"
   ]
  },
  {
   "cell_type": "markdown",
   "metadata": {},
   "source": [
    "##### User specified heat loading"
   ]
  },
  {
   "cell_type": "markdown",
   "metadata": {},
   "source": [
    "\n",
    "The heat loading for the balance of plant model can be evaluated independent of dd as shown in the following. \n",
    "\n",
    "Heat loads can be customized by setting the value of the ``ActorThermalPlant.u = [u1,u2,u3]`` where u1, u2, u3 are the heat flow rates for the breeder, divertor, and first wall respectivly. To use the values you need to include ``use_actor_u = true`` in the keyword arguments of the next step. ``FUSE.Step(actor::ActorBalanceOfPlant; use_actor_u = true)``\n",
    "\n",
    "For reference, the current dd heat loads are shown below so you can observe the change.\n"
   ]
  },
  {
   "cell_type": "code",
   "execution_count": null,
   "metadata": {},
   "outputs": [],
   "source": [
    "# These are the current heat loads in dd, which were obtained form the other actors\n",
    "println(\"Heat Loads from Actors\")\n",
    "@printf \"\\tDivertor: \\t %+-8.2f (MW)\\n\"     @ddtime(dd.balance_of_plant.power_plant.system[1].component[4].port[3].thermalPower)/1e6     # Divertor heat element\n",
    "@printf \"\\tBreeder: \\t %+-8.2f (MW)\\n\"      @ddtime(dd.balance_of_plant.power_plant.system[3].component[1].port[3].thermalPower)/1e6     # Breeder heat element\n",
    "@printf \"\\tFirst Wall: \\t %+-8.2f (MW)\\n\"   @ddtime(dd.balance_of_plant.power_plant.system[5].component[3].port[3].thermalPower)/1e6     # First Wall heat element"
   ]
  },
  {
   "cell_type": "code",
   "execution_count": null,
   "metadata": {},
   "outputs": [],
   "source": [
    "# Running actor with different parameters\n",
    "# lets change the mass flow rates\n",
    "plantActor.u    = [100e6,100e6,100e6];   # Breeder, divertor, and wall heat load\n",
    "bopActor.par.do_plot = false;\n",
    "\n",
    "# Ensure equivilance\n",
    "bopActor.thermal_plant_actor = plantActor;\n",
    "\n",
    "plantActor.par.heat_load_from = :actor\n",
    "# Step the BOP Actor\n",
    "FUSE.step(plantActor);\n",
    "\n",
    "sol = FUSE.getsol(bopActor.thermal_plant_actor)\n",
    "sol(bopActor.thermal_plant_actor.odedict[:breeder_heat].q.Q̇)\n",
    "\n",
    "# These are the new heat loads in dd, which were obtained from the user input\n",
    "println(\"Heat Loads in dd after running bopActor with use_actor_u = true\")\n",
    "@printf \"\\tDivertor: \\t %+-8.2f (MW)\\n\"     @ddtime(dd.balance_of_plant.power_plant.system[1].component[4].port[end].thermalPower)/1e6     # Divertor heat element\n",
    "@printf \"\\tBreeder: \\t %+-8.2f (MW)\\n\"      @ddtime(dd.balance_of_plant.power_plant.system[3].component[1].port[end].thermalPower)/1e6     # Breeder heat element\n",
    "@printf \"\\tFirst Wall: \\t %+-8.2f (MW)\\n\"   @ddtime(dd.balance_of_plant.power_plant.system[5].component[3].port[end].thermalPower)/1e6     # First Wall heat element"
   ]
  },
  {
   "cell_type": "markdown",
   "metadata": {},
   "source": [
    "#### Run the default Brayton cycle in FUSE\n",
    "\n",
    "**NOTE:** the parameters and loading of the brayton cycle can be changed in the same way as the Rankine"
   ]
  },
  {
   "cell_type": "code",
   "execution_count": null,
   "metadata": {},
   "outputs": [],
   "source": [
    "# Run and plot the FUSE.ActorBalanceOfPlant\n",
    "act.ActorThermalPlant.model = :brayton     # this is shown for reference, unnecessary since :rankine is the default\n",
    "act.ActorThermalPlant.do_plot = true   \n",
    "empty!(dd.balance_of_plant.power_plant)\n",
    "\n",
    "bopActor   = FUSE.ActorBalanceOfPlant(dd,act);\n",
    "bopActor.thermal_plant_actor.buildstatus = false\n",
    "\n",
    "\n",
    "@show dd.balance_of_plant.thermal_efficiency_plant\n",
    "@show dd.balance_of_plant.thermal_efficiency_cycle\n",
    "@show dd.balance_of_plant.power_plant.power_electric_generated\n",
    "@show dd.balance_of_plant.power_electric_net"
   ]
  },
  {
   "cell_type": "markdown",
   "metadata": {},
   "source": [
    "### Running the ThermalPlantActor.jl independently"
   ]
  },
  {
   "cell_type": "markdown",
   "metadata": {},
   "source": [
    "It may be desirable to run the ThermalPlantActor independently if you would like to work outside of ``dd`` or focus specifically on the thermal plant. By default, the function call will still modify dd but will be missing information from the other actors. To prevent writing to dd, run ``FUSE.plantwrapper(ActorThermalPlant)``\n",
    "\n",
    "Instructions for Accesing Results for trials outside of dd are included in [Accesing Results](#acessing-results)"
   ]
  },
  {
   "cell_type": "code",
   "execution_count": null,
   "metadata": {},
   "outputs": [],
   "source": [
    "# Run and plot the FUSE.ActorBalanceOfPlant\n",
    "act.ActorThermalPlant.model = :rankine     \n",
    "act.ActorThermalPlant.do_plot = false   \n",
    "empty!(dd.balance_of_plant.power_plant)\n",
    "\n",
    "bopActor   = FUSE.ActorBalanceOfPlant(dd,act);\n",
    "plantActor = bopActor.thermal_plant_actor\n",
    "\n",
    "# Empty dd (just to confirm)\n",
    "empty!(dd.balance_of_plant)             # no data\n",
    "\n",
    "# # run plantActor using plant_wrapper which returns a general solution object\n",
    "sol = FUSE.plant_wrapper(plantActor);\n",
    "\n",
    "# # Example accesing internal solution while avoiding writing to dd\n",
    "@show isempty(dd.balance_of_plant.power_plant);      # Confirming empty after initialization\n",
    "@show sol(plantActor.plant.η_cycle);   "
   ]
  },
  {
   "cell_type": "markdown",
   "metadata": {},
   "source": [
    "## **TSM Internals and Access**\n"
   ]
  },
  {
   "cell_type": "markdown",
   "metadata": {},
   "source": [
    "#### Component Based Model Approach"
   ]
  },
  {
   "cell_type": "markdown",
   "metadata": {},
   "source": [
    "The plant object is represented by nested ``ODESystem`` object which couples individual component ``ODESystems`` objects through balance equations. Each component is an ``ODESystem`` which describes the internal dynamics of the component in time.  **NOTE**: Each ``component::ODESystem``  has a property ``name::Symbol``. All individual components can be referenced in the dict: \"Actor.odedict\" (for ease in reference) where the symbol name corresponds to the system Energy reservoirs are used to supply and recieve energy from the BOP plant.\n",
    "\n",
    "Within the ``plantActor::ActorThermalPlant``, the components are stored in ``plantActor.components`` and can be accessed directly from: ``plantActor.odedict`` with a key corresponding to the system name, i.e. to access the system ``componentX`` you would call ``plantActor.odedict[componentX_name::Symbol] => componentX::ODESystem``. \n",
    "\n",
    "**Port Names**\n",
    "Components have internal port elements (also ODESystems) which correspond to one of the domains thermal, mechanical, flow. For fluid ports, each port is an ``ODESystem`` with an internal state vector while the component ``ODESystem`` Internal equations describe the relationship between each port. \n",
    "* Components with SISO flow (1 stream input, 1 stream output) have inlet and outlet flow nodes identified by ``p`` and ``n``\n",
    "* Components with a single flow port (fluid property blocks) have only ``n``\n",
    "* Generally, MIMO flow components with **i inflow** ports and **j outlet** ports have inlet ports ``p1,p2...,pi`` and outflow ports ``n1,n2,...,nj``\n",
    "* Thermal nodes are identified by ``q``\n",
    "* All shaft power nodes are identified by <code>w</code>\n",
    "\n",
    "Ports can be accessed directly by \n",
    "``port obj = componentX.portname`` or <br>\n",
    "``port obj = plantActor.odedict[componentX_name::Symbol].portname`` \n",
    "\n",
    "The TSM package has several functions for internal system access. It should be noted that these functions work for any level in which a parent system has a set of subsystems.\n",
    "\n",
    "* ``TSMD.showsys(componentX)`` which returns a vector of the ODESystem port objects, this function also prints the names of the ports.\n",
    "* ``TSMD.sys2dict(componentX)`` which returns a dictionary of the ODESystem port objects, with keys for the port names and values for the ODESystem objects.\n",
    "\n",
    "The states within a port can be accesed by calling ``states(portObj)``"
   ]
  },
  {
   "cell_type": "code",
   "execution_count": null,
   "metadata": {},
   "outputs": [],
   "source": [
    "# Example for the wall_circulator\n",
    "componentX = plantActor.odedict[:wall_circulator];\n",
    "\n",
    "println(componentX.name)\n",
    "\n",
    "componentX_ports      = TSMD.showsys(componentX);    # Showing the internal ports of the wall_circulator ODESystem Object\n",
    "componentX_ports_dict = TSMD.sys2dict(componentX);\n",
    "\n",
    "componentX_ports_dict[:p] === componentX_ports[1]    # Pointing to same memory, otherwise the solution object wont be able to find the corresponding data"
   ]
  },
  {
   "cell_type": "code",
   "execution_count": null,
   "metadata": {},
   "outputs": [],
   "source": [
    "# Show all components\n",
    "TSMD.sys2dict(plantActor.fullbuild)"
   ]
  },
  {
   "cell_type": "markdown",
   "metadata": {},
   "source": [
    "Besides the obvious components, the Plant system also includes **energy reservoirs** to track cummulative performance. \n",
    "There are 3 default reservoirs:\n",
    "* $Electric$ (Power Consumed) \n",
    "* $HotUtility$ (Heat Supply)\n",
    "* $ColdUtility$ (heat rejection). \n",
    "\n",
    "These can be initialized by calling ``TSMD.default_energy_sys()``, which returns: \n",
    "\n",
    "* <code>energy_sys::Vector{ODESystem}</code> a Vector with 3 ODE systems representing HotUtility, ColdUtility, and Electric Reservoirs. \n",
    "* <code>sts::Vector{Num}</code>  The states associated with these systems, η_cycle and η_bop are the thermal effeciencies \n",
    "* <code>edict::Dictionary{Symbol => ODESystem}</code>A dictionary with system_name => ODESystem object ."
   ]
  },
  {
   "cell_type": "markdown",
   "metadata": {},
   "source": [
    "#### Top Level Variables"
   ]
  },
  {
   "cell_type": "markdown",
   "metadata": {},
   "source": [
    "The plant system object has high level variables which can be accessed directly rather than . Besides the obvious components, the Plant system also includes **energy reservoirs** to track cummulative performance. \n",
    "There are 3 default reservoirs:\n",
    "* $Electric$ (Power Consumed)  \n",
    "* $HotUtility$ (Heat Supply)\n",
    "* $ColdUtility$ (heat rejection). \n",
    "\n",
    "Key variables will always be:\n",
    "Energy Balance (components)\n",
    ">$Electric..\\dot{W} $,  Net electrical power for the BOP system <br>\n",
    "$HotUtility.\\dot{Q}$, Total heat flow into the BOP system<br>\n",
    "$ColdUtility.\\dot{Q}$, Total heat flow out of the BOP<br>\n",
    "\n",
    "Thermal Effeciency (Auxillary variables, not tied to a component) \n",
    "\n",
    "$\\eta_{therm} = \\dot{W}_{net}/\\dot{Q}_{in} = 1 - \\dot{Q}_{out}/\\dot{Q}_{in}$\n",
    "\n",
    ">$\\eta_{bop}$, Thermal effeciency of the entire BOP Plant<br>\n",
    ">$\\eta_{cycle}$ Thermal effeciency of the cycle only <br>\n",
    "\n",
    "**NOTE:** $ \\eta_{cycle} > \\eta_{bop} $ Always since the power generation occurs within the primary the cycle. "
   ]
  },
  {
   "cell_type": "code",
   "execution_count": null,
   "metadata": {},
   "outputs": [],
   "source": [
    "sol = FUSE.getsol(plantActor)   # general solution object\n",
    "\n",
    "util = [plantActor.odedict[:Electric].Ẇ,\n",
    "        plantActor.odedict[:HotUtility].Q̇,\n",
    "        plantActor.odedict[:ColdUtility].Q̇];\n",
    "        \n",
    "println(\"Power (MW)\")\n",
    "true && [(@printf \"%-18s %+-8.2f\\n\" string(util[i]) sol(util[i])/1e6) for i =1:3]\n",
    "\n",
    "println(\"\\nEfficiency\")\n",
    "@printf \"η_cycle (%%) %8.5f \\n\" sol(:η_cycle)\n",
    "@printf \"η_plant (%%) %8.5f\\n\"  sol(:η_bop)\n",
    "\n",
    "println(\"\\nVerifying relationships for η_plant\")\n",
    "@printf \"Ẇnet/Q̇h = %8.5f \\n\" abs(sol(util[1])/sol(util[2]))\n",
    "@printf \"1-Ql/Qh = %8.5f \\n\" 1-abs(sol(util[3])/sol(util[2]))\n",
    "plantActor.G[:Electric,:name]"
   ]
  },
  {
   "cell_type": "markdown",
   "metadata": {},
   "source": [
    "### Acessing Results"
   ]
  },
  {
   "cell_type": "markdown",
   "metadata": {},
   "source": [
    "\n",
    "The ``plant::ODESystem`` is solved which returns a ``ODESolution`` but is converted to an anonymous function. To get the most recent solution for an ``ActorThermalPlant`` call ``sol = FUSE.getsol(plantActor)``\n",
    "\n",
    "the solution function takes in a plant variable object and finds the solution corresponding to that variable."
   ]
  },
  {
   "cell_type": "code",
   "execution_count": null,
   "metadata": {},
   "outputs": [],
   "source": [
    "sol = FUSE.getsol(plantActor);  # solution object\n",
    "@show sol(plantActor.odedict[:wall_heat].Q̇)   # reference using the odedict and ensuring we pass the exact (===) variable reference to memory (good practice)\n",
    "@show sol(plantActor.plant.wall_heat.q.Q̇)     # reference using the plant structure directly (bad practice)\n",
    "@show sol(plantActor.fullbuild.wall_heat.q.Q̇) # reference using the fullbuild structure directly (bad practice)"
   ]
  },
  {
   "cell_type": "markdown",
   "metadata": {},
   "source": [
    "#### Observing results for specific components\n",
    "The solution produced when the actor is run is stored inside of the Actor.G and the Actor.gplot. To find results for individual components, call: \n",
    "\n",
    "``sol(var::Variable) = solution for that variable``\n",
    "\n",
    "var has to be the variable object (**MUST === to the original variable**), not just a symbol. However the <code>Actor.odedict</code> can return the parent system object and variables can be referenced from there.\n",
    "Example:\n",
    "\n",
    " ``sol(Actor.odedict[:steam_boiler].n.T) = outlet temperature of the boiler``"
   ]
  },
  {
   "cell_type": "code",
   "execution_count": null,
   "metadata": {},
   "outputs": [],
   "source": [
    "@show sol(plantActor.odedict[:steam_boiler].n.T);       # Boiler Outlet Temperature\n",
    "@show sol(plantActor.odedict[:breeder_circulator].w.Ẇ); # Breeder ciruclater pumping power\n",
    "@show sol(plantActor.odedict[:wall_circulator].p.ṁ);    # First wall coolant flow rate"
   ]
  },
  {
   "cell_type": "markdown",
   "metadata": {},
   "source": [
    "## **Optimization**"
   ]
  },
  {
   "cell_type": "markdown",
   "metadata": {},
   "source": [
    "Get data from plantActor, deepcopy to prevent any undesired changes, show variables which can be optimized. \n",
    "\n",
    "* Any item labled ``xxx_supply`` is a fluid property block ``xxx_supply.T`` is the reference (minimum) temperature for that flow system. \n",
    "* Any item labled ``yyy_heat.Tout`` where y is the wall, breeder, or divertor corresponds to the desired outlet temperatures from the fusion core.  \n",
    "\n",
    "**NOTE:** Outlet temperatures can only be specified for systems with an ideal heat source. Since the intermediate loop and the primary cycle do not have a direct heat source (all heat transfered from heat exchangers), the variables one can modify are the mass flow rate, and minimum temperature for the intermediate loop. \n",
    "\n",
    "**NOTE:** An objective function with thermal efficiency included should include a term for the net plant Power as well.\n",
    "\n",
    "Optimization is most easily performed using the function ``FUSE.plant_wrapper(act::ActorThermalPlant,yvars,yfunc)`` where ``yvars`` are the required or desired observed variables (Vector) and ``yfunc`` is a objective function that will act on the solved values of yvars. This function returns the objective value according to the ``x`` and ``u`` parameter data within the actor."
   ]
  },
  {
   "cell_type": "code",
   "execution_count": null,
   "metadata": {},
   "outputs": [],
   "source": [
    "using Optim\n",
    "\n",
    "# Constraint enforcing\n",
    "function xcons!(x,lb,ub)\n",
    "    # x = vector{T}\n",
    "    # lb is lowerbounds\n",
    "    # ub is upper bounds\n",
    "    # cons is vector of tuples \n",
    "    # (a,b) where a < b\n",
    "\n",
    "    @assert length(x) == length(lb) == length(ub) \"Uneven vector lengths in xcons\"\n",
    "    for (i,xi) in enumerate(x)\n",
    "        xi < lb[i] ? x[i] = lb[i] : nothing\n",
    "        xi > ub[i] ? x[i] = ub[i] : nothing\n",
    "    end\n",
    "    return x\n",
    "end\n",
    "\n",
    "#=\n",
    "general optimization function which can be adapted into an anonymous handle to optimize any subset of vatriables in x0\n",
    "x0_idx are the indices in x0 which should be optimized, (x is just ActorThermalPlant.x)\n",
    "=#\n",
    "function gen_optfunc(x,x0_idx,lb,ub,yvars,yfunc,opt_actor)\n",
    "    xrep = deepcopy(x0);\n",
    "    xrep[x0_idx] .= x\n",
    "    xrep=xcons!(xrep,lb,ub)\n",
    "    opt_actor = FUSE.setxATP!(xrep,opt_actor)\n",
    "    return FUSE.plant_wrapper(opt_actor,yvars,yfunc)\n",
    "end\n",
    "\n",
    "function eval_optfunc(x,x0_idx,lb,ub,yvars,opt_actor)\n",
    "    xrep = deepcopy(x0);\n",
    "    xrep[x0_idx] .= x\n",
    "    xrep=xcons!(xrep,lb,ub)\n",
    "    opt_actor = FUSE.setxATP!(xrep,opt_actor)\n",
    "    return FUSE.plant_wrapper(opt_actor,yvars)\n",
    "end"
   ]
  },
  {
   "cell_type": "markdown",
   "metadata": {},
   "source": [
    "#### Setup reference"
   ]
  },
  {
   "cell_type": "code",
   "execution_count": null,
   "metadata": {},
   "outputs": [],
   "source": [
    "# Choose model\n",
    "act.ActorThermalPlant.model  = :rankine;\n",
    "act.ActorThermalPlant.do_plot = false\n",
    "\n",
    "# run thermal plant actor\n",
    "empty!(dd.balance_of_plant);             # no data\n",
    "\n",
    "# run plantActor with stepkw\n",
    "plantActor = FUSE.ActorThermalPlant(dd, act);\n",
    "\n",
    "optp = (iterations = 50, time_limit = 60, f_tol = .001);"
   ]
  },
  {
   "cell_type": "markdown",
   "metadata": {},
   "source": [
    "### Simple optimzation example: Optimizing Rankine cycle net Power by changing the flow rates\n",
    "\n",
    "Optimizing ``Electric.Ẇ``   (net power production) \n",
    "\n",
    "Optimized variables:: ``inter_loop_ṁ`` ``cycle_ṁ``\n",
    "\n",
    "**Simple Objective Function, Minimizing** $y_f$\n",
    "\n",
    "$y_f = -(\\dot{W}_{net,plant}/100e6)$\n",
    "\n",
    "Where $(\\dot{W}_{net,plant} = Electric.\\dot{W})$\n",
    "\n",
    "The negative in $y_f$ is because of the [sign convention](#sign-convention-for-all-conserved-quantites-mass-work-heat-energy), the power produced is leaving the system.\n"
   ]
  },
  {
   "cell_type": "code",
   "execution_count": null,
   "metadata": {},
   "outputs": [],
   "source": [
    "opt_actor = deepcopy(plantActor);\n",
    "optp = (iterations = 50, time_limit = 60, f_tol = .001);\n",
    "\n",
    "# Variables to be optimized (Tunable parameters/states for the plant system)\n",
    "# x0 = opt_actor.x (same as below, but copy and pasted for the reader) \n",
    "#(Unhide this line to show opt_x)\n",
    "    # opt_x = Dict{Symbol, Float64} with 9 entries:\n",
    "    #                 :divertor_supply₊T   => 350.0\n",
    "    #                 :breeder_heat₊Tout   => 1136.0\n",
    "    #                 :breeder_supply₊T    => 674.7\n",
    "    #                 :wall_heat₊Tout      => 950.0\n",
    "    #                 :steam_ṁ             => 250.0\n",
    "    #                 :inter_loop_ṁ        => 300.0\n",
    "    #                 :inter_loop_supply₊T => 350.0\n",
    "    #                 :wall_supply₊T       => 350.0\n",
    "    #                 :divertor_heat₊Tout  => 1000.0\n",
    "\n",
    "#      cycle ṁ,  loop ṁ,   loopTmin,    wTmin,   wTmax,     divTmin, divTmax,      brdrTmin,   brdrTmax\n",
    "x0 =   [250.0,   300.0,    350.00,      350.00,  950.00,    350.00,  1000.0,      674.7,      1136.0];\n",
    "\n",
    "# upper and lower bounds\n",
    "#      [  flow rates  ]  [loop Temp]   [   wall temp    ]   [ divertor temp  ]    [ breeder temp     ]\n",
    "lb   = [10.0,    10.0,     350.00,      350.00,  601.00,    350.00,  601.00,      600.00,     901.00];\n",
    "ub   = [300.0,   300.0,    600.00,      600.00,  950.00,    600.00,  1000.00,     900.00,     1300.00];\n",
    "\n",
    "# Relevant, System output variable required for the objective function, \n",
    "# this is a simple case where we will just optimize the total electric power produced\n",
    "yvars = [opt_actor.odedict[:Electric].Ẇ, opt_actor.plant.η_bop, opt_actor.plant.η_cycle];\n",
    "\n",
    "# anonymous object function which will act on the sol(yvars)\n",
    "yfunc(y) = -(y[1])/100e6\n",
    "\n",
    "# index of mass flow variables in x0\n",
    "mflow_opt_idx   = [1,2];\n",
    "x0_opt          = x0[mflow_opt_idx];   \n",
    "\n",
    "# anonymous optimization function\n",
    "mflow_opt_func(x) = gen_optfunc(x, mflow_opt_idx, lb, ub, yvars, yfunc, opt_actor);\n",
    "\n",
    "r2(x) = round(x; digits = 2)\n",
    "\n",
    "# initial\n",
    "println(\"x0 = $(r2.(x0))\")\n",
    "y0 = eval_optfunc(x0_opt,mflow_opt_idx,lb,ub,yvars,opt_actor);\n",
    "for i =1:length(yvars)\n",
    "    @printf \"%-16s = %+-8.4g\\n\" string(yvars[i]) y0[i]\n",
    "end\n",
    "println(\"\")\n",
    "\n",
    "xr = Optim.optimize(mflow_opt_func,x0_opt,NelderMead(),Optim.Options(;optp...));\n",
    "\n",
    "xf = Optim.minimizer(xr);\n",
    "\n",
    "yf = eval_optfunc(xf,mflow_opt_idx,lb,ub,yvars,opt_actor);\n",
    "\n",
    "println(\"xf = $(r2.(opt_actor.x))\")\n",
    "\n",
    "for i =1:length(yvars)\n",
    "    @printf \"%-16s = %+-8.4g\\n\" string(yvars[i]) yf[i]\n",
    "end\n",
    "\n",
    "# RESULTS:\n",
    "# xf = [300.0, 300.0, 350.0, 350.0, 950.0, 350.0, 1000.0, 674.7, 1136.0]\n",
    "# Electric₊Ẇ(t)    = +3.481e+08\n",
    "# η_bop(t)         = +0.3882 \n",
    "# η_cycle(t)       = +0.4581 \n",
    "xr"
   ]
  },
  {
   "cell_type": "markdown",
   "metadata": {},
   "source": [
    "### Full optimzation example: Optimizing Rankine cycle net Power by changing all parameters"
   ]
  },
  {
   "cell_type": "markdown",
   "metadata": {},
   "source": [
    "\n",
    "Optimizing ``Electric.Ẇ``   (net power production) \n",
    "\n",
    "Optimized variables:: \n",
    "``inter_loop_ṁ`` ``cycle_ṁ`` \n",
    " ``:inter_loop_supply₊T``\n",
    " ``:wall_supply₊T``\n",
    " ``:wall_heat₊Tout``\n",
    " ``:divertor_supply₊T``\n",
    " ``:divertor_heat₊Tout``\n",
    " ``:breeder_supply₊T``\n",
    " ``:breeder_heat₊Tout``\n",
    "\n",
    " (this one can take a while)\n"
   ]
  },
  {
   "cell_type": "markdown",
   "metadata": {},
   "source": [
    "Minimizing \n",
    "\n",
    "$y_f(\\bf y) = -|\\bf{y}/\\bf{y_0}|$\n",
    "\n",
    "$\\bf{y} = [\\dot{W}_{net},\\eta_{plant},\\eta_{cycle}] $"
   ]
  },
  {
   "cell_type": "code",
   "execution_count": null,
   "metadata": {},
   "outputs": [],
   "source": [
    "opt_actor = deepcopy(plantActor);\n",
    "soln     = FUSE.plant_wrapper(opt_actor)\n",
    "TSMD.updateGraphSoln(opt_actor.gplot,soln);\n",
    "\n",
    "optp = (iterations = 50, time_limit = 60, f_tol = .001);\n",
    "\n",
    "# Variables to be optimized (Tunable parameters/states for the plant system)\n",
    "# <-- Unhide this line to show the variables associated with x0\n",
    "    # The below can be replecated with ''opt_x = Dict(opt_actor.optpar .=> op_actor.x)``\n",
    "    # opt_x = Dict{Symbol, Float64} with 9 entries:\n",
    "    #                 :divertor_supply₊T   => 350.0\n",
    "    #                 :breeder_heat₊Tout   => 1136.0\n",
    "    #                 :breeder_supply₊T    => 674.7\n",
    "    #                 :wall_heat₊Tout      => 950.0\n",
    "    #                 :steam_ṁ             => 250.0\n",
    "    #                 :inter_loop_ṁ        => 300.0\n",
    "    #                 :inter_loop_supply₊T => 350.0\n",
    "    #                 :wall_supply₊T       => 350.0\n",
    "    #                 :divertor_heat₊Tout  => 1000.0\n",
    "\n",
    "#      cycle ṁ,  loop ṁ,   loopTmin,    wTmin,   wTmax,     divTmin, divTmax,      brdrTmin,   brdrTmax\n",
    "x0 =   [250.0,   300.0,    350.00,      350.00,  950.00,    350.00,  1000.0,      674.7,      1136.0];\n",
    "\n",
    "# upper and lower bounds\n",
    "#      [  flow rates  ]  [loop Temp]   [   wall temp    ]   [ divertor temp  ]    [ breeder temp     ]\n",
    "lb   = [100.0,   100.0,    300.00,      300.00,  601.00,    300.00,  601.00,      600.00,     901.00];\n",
    "ub   = [400.0,   400.0,    600.00,      600.00,  950.00,    600.00,  1000.00,     900.00,     1300.00];\n",
    "\n",
    "# Relevant, System output variable required for the objective function, \n",
    "# this is a simple case where we will just optimize the total electric power produced\n",
    "yvars = [opt_actor.odedict[:Electric].Ẇ, opt_actor.plant.η_bop, opt_actor.plant.η_cycle, opt_actor.odedict[:steam_boiler].q.Q̇];\n",
    "\n",
    "y00 = soln.(yvars)\n",
    "\n",
    "# anonymous object function which will act on the sol(yvars)\n",
    "# yfunc(y) = -(y[1])/500e6\n",
    "yfunc(y) = -(y[1]/500e6) #-(1+y[2])^2  - (y[4]/1e9)\n",
    "\n",
    "# index of mass flow variables in x0\n",
    "full_opt_idx   = 1:9;\n",
    "x0_opt          = x0[full_opt_idx];   \n",
    "\n",
    "# anonymous optimization function\n",
    "full_opt_func(x) = gen_optfunc(x,full_opt_idx,lb,ub,yvars,yfunc,opt_actor);\n",
    "\n",
    "# initial\n",
    "println(\"x0 = $(r2.(x0))\")\n",
    "y0 = eval_optfunc(x0_opt,full_opt_idx,lb,ub,yvars,opt_actor);\n",
    "\n",
    "for i =1:length(yvars)\n",
    "    @printf \"%-16s = %+-8.4g\\n\" string(yvars[i]) y0[i]\n",
    "end\n",
    "\n",
    "println(\"\")\n",
    "\n",
    "xr = Optim.optimize(full_opt_func,x0_opt,NelderMead(),Optim.Options(;optp...));\n",
    "\n",
    "xf = Optim.minimizer(xr);\n",
    "\n",
    "yf = eval_optfunc(xf,full_opt_idx,lb,ub,yvars,opt_actor);\n",
    "\n",
    "println(\"xf = $(r2.(opt_actor.x))\")\n",
    "\n",
    "for i =1:length(yvars)\n",
    "    @printf \"%-16s = %+-8.4g\\n\" string(yvars[i]) yf[i]\n",
    "end\n",
    "xr"
   ]
  },
  {
   "cell_type": "markdown",
   "metadata": {},
   "source": [
    "##### ***Saved Results***"
   ]
  },
  {
   "cell_type": "markdown",
   "metadata": {},
   "source": [
    "**The output of this script:**\n",
    "\n",
    "|    --             | Initial   | final                                 |\n",
    "|-------------------|:---------:|:-------------------------------------:|\n",
    "|$y_f$              |-          |-$\\frac{\\dot{W}_{net,plant}}{100e6}$   |\n",
    "| Electric₊Ẇ(t)     |+3.018e+08 | +4.857e+08                            |   \n",
    "| η_bop(t)          |   34%     | 54%                                   |   \n",
    "| η_cycle(t)        |   47%     | 47%                                   | \n",
    "\n",
    "\n",
    "x0 = [250.0, 300.0, 350.0, 350.0, 950.0, 350.0, 1000.0, 674.7, 1136.0] \n",
    "\n",
    "xf = [382.29, 400.0, 300.0, 300.0, 917.0, 300.0, 1000.0, 876.65, 1300.0]\n",
    "\n",
    "---\n"
   ]
  },
  {
   "cell_type": "markdown",
   "metadata": {},
   "source": [
    "### Full optimzation example 2: Optimizing Rankine cycle net Power by changing all parameters\n",
    "\n",
    "$y_f(y) = -\\frac{\\dot{W}_{net,plant}}{100e6} - |\\frac{\\dot{Q}_{in,cycle}}{\\dot{Q}_{fusion}}$|"
   ]
  },
  {
   "cell_type": "code",
   "execution_count": null,
   "metadata": {},
   "outputs": [],
   "source": [
    "opt_actor = deepcopy(plantActor);\n",
    "soln     = FUSE.plant_wrapper(opt_actor)\n",
    "TSMD.updateGraphSoln(opt_actor.gplot,soln);\n",
    "qfus = soln(opt_actor.odedict[:HotUtility].Q̇)\n",
    "\n",
    "optp = (iterations = 1000, time_limit = 60, f_tol = .001);\n",
    "\n",
    "# OPTIMIZATION PARAMETERS\n",
    "    # Parameter                 x0       lb       ub      \n",
    "    # steam_ṁ                   300.00   200.00   400.00  \n",
    "    # inter_loop_ṁ              300.00   200.00   400.00  \n",
    "    # inter_loop_supply₊T       350.00   300.00   400.00  \n",
    "    # wall_supply₊T             350.00   300.00   400.00  \n",
    "    # wall_heat₊Tout            700.00   601.00   950.00  \n",
    "    # divertor_supply₊T         350.00   300.00   600.00  \n",
    "    # divertor_heat₊Tout        900.00   601.00   1000.00 \n",
    "    # Initial Values and Objective function\n",
    "    # x0 = [300.0, 300.0, 350.0, 350.0, 700.0, 350.0, 900.0, 750.0, 1136.0]\n",
    "    # Electric₊Ẇ(t)    = +3.469e+08\n",
    "    # xf = [345.76, 364.19, 300.0, 332.54, 876.45, 300.0, 1000.0, 750.0, 1136.0]\n",
    "    # Electric₊Ẇ(t)    = +4.332e+08\n",
    "\n",
    "# Variables to be optimized (Tunable parameters/states for the plant system)\n",
    "# x0 = opt_actor.x (same as below, but copy and pasted for the reader) \n",
    "#      cycle ṁ,  loop ṁ,   loopTmin,    wTmin,   wTmax,     divTmin, divTmax,      brdrTmin,   brdrTmax\n",
    "# x0 =   [300.0,   300.0,    350.00,      350.00,  700.00,    300.00,  1000.0,        674.7,      1136.0];\n",
    "x0 =   [379.18, 400.0, 300.0, 382.62, 950.0, 300.0, 941.12, 863.87, 1300.0]\n",
    "\n",
    "# upper and lower bounds\n",
    "#      [  flow rates  ]   [loopTemp]   [   wall temp    ]   [ divertor temp  ]    [ breeder temp     ]\n",
    "lb   = [200.0,   200.0,     300.00,      300.00,  601.00,    300.00,  601.00,      600.00,     901.00];\n",
    "ub   = [400.0,   400.0,     400.00,      400.00,  950.00,    600.00,  1000.00,     900.00,     1300.00];\n",
    "\n",
    "# Relevant, System output variable required for the objective function, \n",
    "# this is a simple case where we will just optimize the total electric power produced\n",
    "yvars = [opt_actor.odedict[:Electric].Ẇ, opt_actor.odedict[:steam_boiler].q.Q̇];\n",
    "\n",
    "# anonymous object function which will act on the sol(yvars)\n",
    "yfunc(y) = -(y[1])/100e6 - abs(y[2]/qfus)\n",
    "\n",
    "# index of mass flow variables in x0\n",
    "mflow_opt_idx   = [1,2,3,4,5,6,7,8,9];\n",
    "x0_opt          = x0[mflow_opt_idx];   \n",
    "\n",
    "# anonymous optimization function\n",
    "mflow_opt_func(x) = gen_optfunc(x, mflow_opt_idx, lb, ub, yvars, yfunc, opt_actor);\n",
    "\n",
    "r2(x) = round(x; digits = 2)\n",
    "\n",
    "println(\"OPTIMIZATION\")\n",
    "\n",
    "println(\"\\nSettings $optp\")\n",
    "\n",
    "println(\"\\nyvars = [opt_actor.odedict[:Electric].Ẇ, opt_actor.odedict[:steam_boiler].q.Q̇];\")\n",
    "println(\"yfunc(y) = -(y[1])/100e6 - abs(y[2]/qfus)\")\n",
    "\n",
    "println(\"\\nOptimized Variables\")\n",
    "@printf \"|%-25s | %-8s | %-8s| %-8s |\\n\" \"Parameter\" \"x0\" \"lb\" \"ub\"\n",
    "\n",
    "println(\"|-------|:---------:|:-------:|:-------:|\")\n",
    "for i in mflow_opt_idx\n",
    "    @printf \"|%-25s | %-8.2f | %-8.2f | %-8.2f | \\n\" (opt_actor.optpar[i]) (r2(x0[i]))  (r2(lb[i])) (r2(ub[i]))\n",
    "end\n",
    "\n",
    "# initial\n",
    "println(\"\")\n",
    "println(\"Initial Values and Objective function\")\n",
    "println(\"x0 = $(r2.(x0))\")\n",
    "y0 = eval_optfunc(x0_opt,mflow_opt_idx,lb,ub,yvars,opt_actor);\n",
    "for i =1:length(yvars)\n",
    "    @printf \"%-16s = %+-8.4g\\n\" string(yvars[i]) y0[i]\n",
    "end\n",
    "println(\"Objective function value: $(yfunc(y0))\")\n",
    "\n",
    "xr = Optim.optimize(mflow_opt_func,x0_opt,NelderMead(), Optim.Options(;optp...));\n",
    "xf = Optim.minimizer(xr);\n",
    "\n",
    "yvar_print = [opt_actor.odedict[:Electric].Ẇ, opt_actor.odedict[:steam_boiler].q.Q̇,opt_actor.plant.η_bop, opt_actor.plant.η_cycle]\n",
    "\n",
    "\n",
    "yf = eval_optfunc(xf,mflow_opt_idx,lb,ub,yvar_print,opt_actor);\n",
    "println(\"\")\n",
    "println(\"Final Values\")\n",
    "println(\"xf = $(r2.(opt_actor.x))\")\n",
    "for i =1:length(yvar_print)\n",
    "    @printf \"%-16s = %+-8.4g\\n\" string(yvar_print[i]) yf[i]\n",
    "end\n",
    "println(\"Objective function value: $(yfunc(yf))\")\n",
    "xr"
   ]
  },
  {
   "cell_type": "markdown",
   "metadata": {},
   "source": [
    "##### ***Saved Results***\n"
   ]
  },
  {
   "cell_type": "markdown",
   "metadata": {},
   "source": [
    "OPTIMIZATION\n",
    "\n",
    "Settings (iterations = 50, time_limit = 60, f_tol = 0.001)\n",
    "\n",
    "``yvars = [opt_actor.odedict[:Electric].Ẇ, opt_actor.odedict[:steam_boiler].q.Q̇];``\n",
    "\n",
    "``yfunc(y) = -(y[1])/100e6 - abs(y[2]/qfus)``\n",
    "\n",
    "Optimized Variables\n",
    "|Parameter                 | x0       | lb      | ub       |\n",
    "|-------|:---------:|:-------:|:-------:|\n",
    "|steam_ṁ                   | 300.00   | 200.00   | 400.00   | \n",
    "|inter_loop_ṁ              | 300.00   | 200.00   | 400.00   | \n",
    "|inter_loop_supply₊T       | 350.00   | 300.00   | 400.00   | \n",
    "|wall_supply₊T             | 350.00   | 300.00   | 400.00   | \n",
    "|wall_heat₊Tout            | 700.00   | 601.00   | 950.00   | \n",
    "|divertor_supply₊T         | 300.00   | 300.00   | 600.00   | \n",
    "|divertor_heat₊Tout        | 1000.00  | 601.00   | 1000.00  | \n",
    "|breeder_supply₊T          | 674.70   | 600.00   | 900.00   | \n",
    "|breeder_heat₊Tout         | 1136.00  | 901.00   | 1300.00  | \n",
    "\n",
    "**Initial Values and Objective function**<br>\n",
    ">- x0 = [300.0, 300.0, 350.0, 350.0, 700.0, 300.0, 1000.0, 674.7, 1136.0] <br>\n",
    ">- Electric₊Ẇ(t)    = +3.476e+08<br>\n",
    ">- steam_boiler₊q₊Q̇(t) = +8.904e+08<br>\n",
    ">- Objective function value: -4.467261560942568<br>\n",
    "\n",
    "**Final Values**\n",
    ">- xf = [379.18, 400.0, 300.0, 382.62, 950.0, 300.0, 941.12, 863.87, 1300.0]<br>\n",
    ">- Electric₊Ẇ(t)    = +4.618e+08<br>\n",
    ">- steam_boiler₊q₊Q̇(t) = +1.148e+09<br>\n",
    ">- Objective function value: -5.897053655072812\n",
    "\n",
    "---\n",
    "\n",
    "OPTIMIZATION\n",
    "\n",
    "Settings (iterations = 50, time_limit = 60, f_tol = 0.001)\n",
    "\n",
    "yvars = [opt_actor.odedict[:Electric].Ẇ, opt_actor.odedict[:steam_boiler].q.Q̇];\n",
    "yfunc(y) = -(y[1])/100e6 - abs(y[2]/qfus)\n",
    "\n",
    "Optimized Variables\n",
    "|Parameter                 | x0       | lb      | ub       |\n",
    "|-------|:---------:|:-------:|:-------:|\n",
    "|steam_ṁ                   | 379.18   | 200.00   | 400.00   | \n",
    "|inter_loop_ṁ              | 400.00   | 200.00   | 400.00   | \n",
    "|inter_loop_supply₊T       | 300.00   | 300.00   | 400.00   | \n",
    "|wall_supply₊T             | 382.62   | 300.00   | 400.00   | \n",
    "|wall_heat₊Tout            | 950.00   | 601.00   | 950.00   | \n",
    "|divertor_supply₊T         | 300.00   | 300.00   | 600.00   | \n",
    "|divertor_heat₊Tout        | 941.12   | 601.00   | 1000.00  | \n",
    "|breeder_supply₊T          | 863.87   | 600.00   | 900.00   | \n",
    "|breeder_heat₊Tout         | 1300.00  | 901.00   | 1300.00  | \n",
    "\n",
    "**Initial Values and Objective function**\n",
    ">- x0 = [379.18, 400.0, 300.0, 382.62, 950.0, 300.0, 941.12, 863.87, 1300.0]\n",
    ">- Electric₊Ẇ(t)    = +4.618e+08\n",
    ">- steam_boiler₊q₊Q̇(t) = +1.148e+09\n",
    ">- Objective function value: -5.897143762787483\n",
    "\n",
    "**Final Values**\n",
    ">- xf = [379.18, 400.0, 300.0, 382.62, 950.0, 450.02, 941.12, 863.87, 1300.0]\n",
    ">- Electric₊Ẇ(t)    = +4.648e+08\n",
    ">- steam_boiler₊q₊Q̇(t) = +1.155e+09\n",
    ">- Objective function value: -5.93415125833428\n",
    "\n",
    "---"
   ]
  },
  {
   "cell_type": "markdown",
   "metadata": {},
   "source": [
    "---\n",
    "\n",
    "## Using Thermal System Models Package to construct a thermal plant System"
   ]
  },
  {
   "cell_type": "markdown",
   "metadata": {},
   "source": [
    "The cooling circuits are initialized in the following format with inputs: Max and Min fluid temperature and heat load\n",
    "\n",
    "> ``sys, connections, params, dict = TSMD.XXX_circuit(; load, Tmin, Tmax)``\n",
    ">\n",
    "> - ``sys, Vector{ODESystem}``  Components\n",
    "> - ``connections::Vector{Equation}`` The equations which connect the components (conservation laws)\n",
    "> - ``params::Vector{Num}``  Parameter names              \n",
    "> - ``dict:Dictionary`` , where ``name::Symbol -> ODESystem``\n",
    ">"
   ]
  },
  {
   "cell_type": "code",
   "execution_count": null,
   "metadata": {},
   "outputs": [],
   "source": [
    "#=================================================================\n",
    "    Dashboard\n",
    "=================================================================#\n",
    "\n",
    "# Temperatures\n",
    "Tmax_wall   = 450 + 273.15; # Maximum cooling temperature for first wall\n",
    "Tmin_wall   = 250 + 273.15; # Minimum cooling temperature for first wall\n",
    "Tmax_div    = 650 + 273.15; # Maximum cooling temperature for Divertor\n",
    "Tmin_div    = 300 + 273.15; # Minimum cooling temperature for Divertor\n",
    "Tmax_breeder = 800 + 273.15; # Maximum cooling temperature for Breeder blanket\n",
    "Tmin_breeder = 500 + 273.15; # Minimum cooling temperature for Breeder blanket\n",
    "\n",
    "# Intermediate loop\n",
    "Nhx = 4;                        # Nhx = the number of heat exchangers to add to the loop, 4: 3 to connect to cooling loops, 1 to connect to primary power cycle\n",
    "flowrate  = 200;                # mass flow rate of the intermediate loop (kg/s)\n",
    "Tmin_interloop =  200 + 273.15; # minimum temperature for inter loop (Kelvin)\n",
    "\n",
    "# Primary Cycle\n",
    "cycle_flowrate = 250;      # kg/s\n",
    "ηpump          = 0.7;      # isentropic effeciency of the pump\n",
    "ηturbine        = 0.95;    # Isentropic effeciency of the turbine\n",
    "\n",
    "# Place holder loading\n",
    "breeder_heat_load = 500e6;\n",
    "divertor_heat_load = 200e6;\n",
    "wall_heat_load = 100e6;\n",
    "\n",
    "#=================================================================\n",
    "    Initialization\n",
    "\n",
    "sys, connections, params, dict = TSMD.XXX_circuit(; load, Tmin, Tmax)\n",
    "    sys::Vector{ODESystem}          Components\n",
    "    connections::Vector{Equation}   The equations which connect the components (conservation laws)\n",
    "    params::Vector{Num}             Parameter names              \n",
    "    dict:Dictionary                 Dictionary where name::Symbol -> ODESystem\n",
    "\n",
    "Energy reservoirs are used to supply and recieve energy from the BOP plant. There are 3 default reservoirs, \n",
    "    Electric, \n",
    "    HotUtility (Heat Supply), and \n",
    "    ColdUtility (heat rejection)\n",
    "\n",
    "These can be initialized by calling TSMD.default_energy_sys(), which returns:\n",
    "    energy_sys::Vector{ODESystem}           Vector with 3 ODE systems representing HotUtility, ColdUtility, \n",
    "                                            and Electric Reservoirs\n",
    "    sts::Vector{Num}                        The states associated with these systems, η_cycle and η_bop are the thermal effeciencies \n",
    "    edict::Dict{Symbol => ODESystem}        A dictionary with system_name => ODESystem object \n",
    "=================================================================#\n",
    "\n",
    "#symbolic time variable\n",
    "MTK.@independent_variables t ;\n",
    "\n",
    "# Initialize Energy Reservoirs and plant variables\n",
    "energy_sys, sts, edict = TSMD.default_energy_sys();\n",
    "η_cycle, η_bop = sts;   # add them to current namespace \n",
    "\n",
    "# Wall circuit, Helium\n",
    "wall_sys, wall_connections, wparams, wdict          = TSMD.wall_circuit(; load = wall_heat_load, Tmin = Tmin_wall, Tmax = Tmax_wall);\n",
    "\n",
    "# Divertor circuit, Helium\n",
    "divertor_sys, divertor_connections, dparams, ddict  = TSMD.divertor_circuit(; load = divertor_heat_load, Tmin = Tmin_div, Tmax = Tmax_div);\n",
    "\n",
    "# Breeder Circuit (PbLi\n",
    "breeder_sys, breeder_connections, bparams, bdict    = TSMD.breeder_circuit(; load = breeder_heat_load, Tmin = Tmin_breeder, Tmax = Tmax_breeder);\n",
    "\n",
    "# Initialize The intermediate loop with parameters:\n",
    "inter_loop_sys, inter_loop_connections, iparams, idict = TSMD.intermediate_loop(; Nhx = Nhx, flowrate = flowrate, Tmin = Tmin_interloop);\n",
    "\n",
    "# Initialize Primary Cycle\n",
    "steam_systems, steam_connections, sparams, sdict       = TSMD.feedwater_rankine(; flowrate = cycle_flowrate, ηpump = ηpump, ηturbine = ηturbine);\n",
    "\n",
    "#=================================================================\n",
    "    Create heat exchangers to couple the indepentent loops\n",
    "# NOTES\n",
    "    Note: Any heat exchanger that does not have a multiphase fluid can\n",
    "    be represented with Gen_HeatExchanger() component. Any fluid that has \n",
    "    a multiphase fluid involved needs to have an S2G or S2L heat exchanger \n",
    "    in order to account for phase change.\n",
    "    (Gen_HeatExchanger can be used for: gas to gas, gas to liquid, liquid to liquid)\n",
    "=================================================================#\n",
    "\n",
    "MTK.@named hx1 = TSMD.Gen_HeatExchanger(\n",
    "    B = idict[:inter_loop_hx1],\n",
    "    A = wdict[:wall_hx],\n",
    "    returnmode = :eq,\n",
    ");\n",
    "\n",
    "MTK.@named hx2 = TSMD.Gen_HeatExchanger(\n",
    "    B = idict[:inter_loop_hx2],\n",
    "    A = ddict[:divertor_hx],\n",
    "    returnmode = :eq,\n",
    ");\n",
    "\n",
    "MTK.@named hx3 = TSMD.Gen_HeatExchanger(\n",
    "    B = idict[:inter_loop_hx3],\n",
    "    A = bdict[:breeder_hx],\n",
    "    returnmode = :eq,\n",
    ");\n",
    "\n",
    "MTK.@named boilhx = TSMD.S2G_HeatExchanger(\n",
    "    A = sdict[:steam_boiler],\n",
    "    B = idict[:inter_loop_hx4],\n",
    "    returnmode = :eq,\n",
    ");\n",
    "\n",
    "#=================================================================\n",
    "# Connect all energy RESERVOIRS to external interfacing components\n",
    "=================================================================#\n",
    "\n",
    "energy_connections = vcat(\n",
    "    TSMD.work_connect(\n",
    "        edict[:Electric],\n",
    "        wdict[:wall_circulator].w,\n",
    "        ddict[:divertor_circulator].w,\n",
    "        bdict[:breeder_circulator].w,\n",
    "        idict[:inter_loop_circulator].w,\n",
    "        sdict[:steam_hp_pump].w,\n",
    "        sdict[:steam_lp_pump].w,\n",
    "        sdict[:steam_turbine].hp.w,\n",
    "        sdict[:steam_turbine].lp.w,\n",
    "    ),\n",
    "    TSMD.heat_connect(\n",
    "        edict[:HotUtility],\n",
    "        wdict[:wall_heat].q,\n",
    "        ddict[:divertor_heat].q,\n",
    "        bdict[:breeder_heat].q,\n",
    "    ),\n",
    "    TSMD.heat_connect(\n",
    "        edict[:ColdUtility],\n",
    "        wdict[:wall_relief].q,\n",
    "        ddict[:divertor_relief].q,\n",
    "        bdict[:breeder_relief].q,\n",
    "        idict[:inter_loop_relief].q,\n",
    "        sdict[:steam_condensor].q,\n",
    "    ),\n",
    "    η_cycle ~ 1 - abs(sdict[:steam_condensor].q.Q̇ / sdict[:steam_boiler].q.Q̇),\n",
    "    η_bop ~ abs(edict[:Electric].Ẇ / edict[:HotUtility].Q̇),\n",
    ");\n",
    "\n",
    "# Create vector of all parameters\n",
    "plant_params = vcat(wparams, dparams, bparams, iparams, sparams);\n",
    "\n",
    "# Create total vector for all connecting equations for flow connected components and the energy_connections\n",
    "plant_connections = vcat(\n",
    "    steam_connections,\n",
    "    inter_loop_connections,\n",
    "    wall_connections,\n",
    "    divertor_connections,\n",
    "    breeder_connections,\n",
    "    energy_connections,\n",
    ");\n",
    "\n",
    "# Create total vector for all components\n",
    "plant_systems = vcat(steam_systems, inter_loop_sys, wall_sys, divertor_sys, breeder_sys, energy_sys);\n",
    "\n",
    "# add heat exchanger equations to plant_connections\n",
    "push!(plant_connections, hx1...);\n",
    "push!(plant_connections, hx2...);\n",
    "push!(plant_connections, hx3...);\n",
    "push!(plant_connections, boilhx...);\n",
    "\n",
    "# Create total ODESystem for the plant\n",
    "MTK.@named sys = MTK.ODESystem(plant_connections, t, sts, plant_params; systems = plant_systems);\n",
    "\n",
    "# Check DOF and problem size\n",
    "TSMD.system_details(sys);\n",
    "\n",
    "# Simplify using ModelingToolkit's model reduction methods\n",
    "simple_sys = MTK.structural_simplify(sys);\n",
    "\n",
    "# Create ODEProblem\n",
    "tspan    = (0.0, 100)\n",
    "ode_prob = MTK.ODEProblem(simple_sys, [], tspan);\n",
    "ode_sol  = diffeq.solve(ode_prob);\n",
    "# DifferentialEquations.solve()\n",
    "# Anonymous function for ODE solution functions\n",
    "solnx(v) = ode_sol[v][end]\n",
    "\n",
    "# Create graph\n",
    "utility_vector = [:HotUtility, :ColdUtility, :Electric];\n",
    "GG = TSMD.system2metagraph(sys, utility_vector; soln = solnx, verbose = false);"
   ]
  },
  {
   "cell_type": "markdown",
   "metadata": {},
   "source": [
    "### Plotting\n"
   ]
  },
  {
   "cell_type": "code",
   "execution_count": null,
   "metadata": {},
   "outputs": [],
   "source": [
    "gcopy = TSMD.create_plot_graph(GG;toignore = [:steam_condensor]);\n",
    "xLayReqs, vSortReqs, xs, ys, paths, lay2node = TSMD.layers_to_force!(gcopy);\n",
    "TSMD.initialize_plot_props!(gcopy, lay2node,xs,ys,paths);\n",
    "TSMD.add_plot_elments!(gcopy);\n",
    "TSMD.set_default_node_prop!(gcopy, :height, 1.0);\n",
    "xLayReqs, vSortReqs, xs, ys, paths, lay2node = TSMD.layers_to_force!(gcopy);\n",
    "x, y = TSMD.setVerticalSpacing!(gcopy; vspan = 40.0);\n",
    "TSMD.setLayerWidth!(gcopy; pad = 2.5, verbose = false);\n",
    "xLayReqs, vSortReqs, xs, ys, paths, lay2node = TSMD.layers_to_force!(gcopy);\n",
    "TSMD.edgeroute_nodes(gcopy; voff = 0.1);\n",
    "TSMD.set_plot_props!(gcopy);\n",
    "syslabs = TSMD.get_prop(gcopy, :system_labels)\n",
    "sysnamedict = Dict([\n",
    "    \"cycle_\" => \"Brayton Helium\",\n",
    "    \"steam_\" => \"Feedwater Rankine\",\n",
    "    \"divertor_\" => \"Divertor Helium\",\n",
    "    \"breeder_\" => \"Breeder PbLi\",\n",
    "    \"inter_loop_\" => \"Inter. loop Helium\",\n",
    "    \"wall_\" => \"first wall helium\",\n",
    "    \"ColdUtility\" => \"Sink\",\n",
    "    \"HotUtility\" => \"Fusion Core\",\n",
    "])\n",
    "\n",
    "\n",
    "p = TSMD.plotplant(\n",
    "    gcopy;\n",
    "    numbering = false,\n",
    "    mode = :path,\n",
    "    nsize = 2.0,\n",
    "    compnamesubs = (\n",
    "        \"enfw\" => \"en\\nfw\",\n",
    "        \"_\" => \"\\n\",\n",
    "        \"circulator\" => \"pump\",\n",
    "        \"hotutility\" => \"Fusion\\nCore\",\n",
    "        \"coldutility\" => \"Sink\",\n",
    "        \"relief\" => \"Trim\\ncooler\",\n",
    "        \"condensor\" => \"Cool\\nHX\",\n",
    "    ),\n",
    "    compnameattr = (:right,  4),\n",
    "    compnamerot = 90,\n",
    "    sysnamedict = sysnamedict,\n",
    "    legpad = 0.5,\n",
    "    legwid = 13,\n",
    "    legheight = 1.5,\n",
    "    legoffset = 2.0,\n",
    "    pathattr = (\n",
    "        linewidth = 1,\n",
    "        marker = false,\n",
    "        markersize = 0.0,\n",
    "        markercolor = :red,\n",
    "        alpha = 0.7,\n",
    "        legend = false,\n",
    "    ),\n",
    "    figattr = (\n",
    "        grid = false,\n",
    "        aspect_ratio = :equal,\n",
    "        showaxis = false,\n",
    "        xlim = [-15, 75],\n",
    "        ylim = [-21, 21],\n",
    "        xticks = [0, 1, 2, 3, 4, 5, 6, 7],\n",
    "        plot_title = \"Feedwater Rankine\",\n",
    "        plot_titlefonthalign = :hcenter,\n",
    "        plot_titlefontvalign = :bottom,\n",
    "        dpi = 200,\n",
    "        plot_titlevspan = .0001,\n",
    "    ), #aspect_ratio = :equal\n",
    ");"
   ]
  },
  {
   "cell_type": "markdown",
   "metadata": {},
   "source": [
    "## Individual Components\n",
    "**INCOMPLETE:** ***Section in work***"
   ]
  },
  {
   "cell_type": "markdown",
   "metadata": {},
   "source": [
    "### Compressor"
   ]
  },
  {
   "cell_type": "markdown",
   "metadata": {},
   "source": [
    "\n",
    "**For gas cooling circuits**\n",
    "\n",
    "$$\n",
    " ({T_1},{P_1}) \\to Compression \\to  (T_2, P_2)\\\\ \n",
    "$$\n",
    "\n",
    "$$\n",
    "(\\frac{T_2}{T_1}) = (\\frac{P_2}{P_1})^{(k-1)/k} = (\\frac{v_1}{v_2})^k \\\\\n",
    "h_2-h_1 = c_p \\cdot (T_2-T_1) \\\\\n",
    "Ẇ = ṁ \\Delta h =ṁ \\cdot c_p \\cdot (T_2 - T_1) \\\\\n",
    "ẇ =Ẇ / ṁ= c_p \\cdot (T_2 - T_1)\n",
    "$$\n",
    "\n"
   ]
  },
  {
   "cell_type": "markdown",
   "metadata": {},
   "source": [
    "#### Computed Analytically:"
   ]
  },
  {
   "cell_type": "code",
   "execution_count": null,
   "metadata": {},
   "outputs": [],
   "source": [
    "## Helium props\n",
    "cp  = 5.1926e3\n",
    "cv  = 3.1156e3\n",
    "ṁ   = 10\n",
    "k   = cp/cv\n",
    "\n",
    "# inlet conditions\n",
    "T1  = 30 + 273.15;                       # 30 C in Kelvin\n",
    "P1  = 1; # pressure in bar, use TSMD.convert_pressure(xx,:pa) to convert\n",
    "rp  = 3.0;                               # compression ratio\n",
    "η   = 0.9;                               # compressor isentropic efficiency\n",
    "\n",
    "P2      = rp*P1;\n",
    "T2s     = T1 * rp^((k-1)/k)\n",
    "ws      = cp * (T2s-T1);\n",
    "wa      = ws/η\n",
    "dTact   = wa/cp;\n",
    "T2a     = T1+dTact;\n",
    "fspec   =  \"%-15s = %-4.2f\" \n",
    "\n",
    "fprint(n,v) = TSMD.@printf  \"%-25s = %-4.2f \\n\" n v\n",
    "fprintl(n,v) = TSMD.@printf  \"%-30s = %-4.2f \\n\" n v\n",
    "println(\"Inputs\")\n",
    "fprint(\"Inlet Temperture (C)\", T1-273.15)\n",
    "fprint(\"Inlet Pressure (bar)\", P1)\n",
    "fprint( \"Mass Flow Rate (kg/s)\",ṁ)\n",
    "fprint( \"Compressor Efficiency (%)\",η*100)\n",
    "fprint( \"Compression Ratio\", rp)\n",
    "println(\"\")\n",
    "println(\"Intermediate Calculations\")\n",
    "fprintl(\"Isen. T2 (C)\", T2s-273.15)\n",
    "fprintl(\"Isen. specific work (kJ/kg)\", ws/1e3)\n",
    "\n",
    "println(\"\")\n",
    "println(\"Results\")\n",
    "fprintl(\"Actual specific work (J/kg)\", wa/1e3)\n",
    "fprintl(\"Actual compressor power (kW)\", wa*ṁ/1e3)\n",
    "fprintl(\"Actual T2 (C)\",T2a-273.15)\n",
    "fprintl(\"Outlet Pressure (bar)\",P2)"
   ]
  },
  {
   "cell_type": "markdown",
   "metadata": {},
   "source": [
    "#### Compressor model ThermalSystemModels.jl\n"
   ]
  },
  {
   "cell_type": "markdown",
   "metadata": {},
   "source": [
    "##### Formulation 1: Explanatory"
   ]
  },
  {
   "cell_type": "code",
   "execution_count": null,
   "metadata": {},
   "outputs": [],
   "source": [
    "## Using the PassiveThermoCompressor model\n",
    "MTK.@independent_variables t\n",
    "\n",
    "# Initialize Gas Component\n",
    "MTK.@named compressor = Gas.PassiveThermoCompressor(η = η);\n",
    "\n",
    "## define BC\n",
    "bc = [compressor.p.ṁ ~ ṁ;       # inlet mass flow\n",
    "        compressor.p.Φ ~ 0;     # Stream energy - excursion variable\n",
    "        compressor.p.P ~ P1;    # inlet pressure\n",
    "        compressor.n.P ~ P2;    # outlet pressure\n",
    "        compressor.p.T ~ T1];   # inlet temperature\n",
    "\n",
    "MTK.@named sys = MTK.ODESystem(bc, t, [], []; systems = [compressor]);\n",
    "simp_sys = MTK.structural_simplify(sys);\n",
    "tspan = (0.0, 1.0);\n",
    "prob = MTK.ODEProblem(simp_sys, [], tspan);\n",
    "TSMD.showsol([compressor],prob);            # returns a dict with symbol keys that map to the actual ODE system objects"
   ]
  },
  {
   "cell_type": "markdown",
   "metadata": {},
   "source": [
    "##### Using TSM Compressor models for automatic boundary conditions"
   ]
  },
  {
   "cell_type": "code",
   "execution_count": null,
   "metadata": {},
   "outputs": [],
   "source": [
    "MTK.@independent_variables t\n",
    "MTK.@named supply         = Gas.SinglePortReservoir(P = P1, T = T1);\n",
    "MTK.@named flowsource     = Gas.GasFlowSource(Ṁ = ṁ)\n",
    "MTK.@named compressor     = Gas.PassiveThermoCompressor(η = η);\n",
    "MTK.@named fixed_pressure = Gas.SetPressure(P = P2)\n",
    "\n",
    "connections =vcat(Gas.gas_connect(supply.n,flowsource.p),\n",
    "                Gas.gas_connect(flowsource.n,compressor.p),\n",
    "                Gas.gas_connect(compressor.n,fixed_pressure.p))\n",
    "\n",
    "systems = [supply,flowsource,compressor,fixed_pressure];\n",
    "\n",
    "MTK.@named sys = MTK.ODESystem(connections, t, [], []; systems = systems);\n",
    "TSMD.system_details(sys)\n",
    "simp_sys = MTK.structural_simplify(sys);\n",
    "tspan = (0.0, 1.0);\n",
    "prob = MTK.ODEProblem(simp_sys, [], tspan);\n",
    "TSMD.showsol(systems,prob);"
   ]
  }
 ],
 "metadata": {
  "kernelspec": {
   "display_name": "Julia 1.11.1",
   "language": "julia",
   "name": "julia-1.11"
  },
  "language_info": {
   "file_extension": ".jl",
   "mimetype": "application/julia",
   "name": "julia",
   "version": "1.11.1"
  }
 },
 "nbformat": 4,
 "nbformat_minor": 4
}
