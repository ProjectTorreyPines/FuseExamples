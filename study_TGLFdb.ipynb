{
 "cells": [
  {
   "cell_type": "code",
   "execution_count": null,
   "id": "d61dcfdb-a638-4a59-adf3-df98849c1bcd",
   "metadata": {
    "tags": []
   },
   "outputs": [],
   "source": [
    "using Revise\n",
    "using FUSE\n",
    "using Plots;\n",
    "FUSE.logging(Logging.Info; actors=Logging.Info);"
   ]
  },
  {
   "cell_type": "code",
   "execution_count": null,
   "id": "80329df2-2ece-4100-a31e-acde250e6988",
   "metadata": {
    "tags": []
   },
   "outputs": [],
   "source": [
    "# sty is the act equivalent for a study, it has common parameters like server and n_workers but also study dependent parameters like TGLF saturation rules\n",
    "sty, act = FUSE.study_parameters(:TGLFdb);\n",
    "sty"
   ]
  },
  {
   "cell_type": "code",
   "execution_count": null,
   "id": "e4db4d2c-ec3a-4e26-8d94-a3fc624e500c",
   "metadata": {},
   "outputs": [],
   "source": [
    "using FUSE, SimulationParameters\n",
    "sty, act = FUSE.study_parameters(Val(:TGLFdb))\n",
    ":database_folder in propertynames(sty)    # should be true"
   ]
  },
  {
   "cell_type": "code",
   "execution_count": null,
   "id": "d984ab89-239b-46c9-add5-8424aefc3753",
   "metadata": {
    "tags": []
   },
   "outputs": [],
   "source": [
    "# Interacting with sty\n",
    "sty.server = \"saga\"\n",
    "sty.n_workers = 1\n",
    "\n",
    "sty.database_folder = <Your database folder>\n",
    "\n",
    "sty.save_folder = <Your save folder>\n",
    "#study specific parameters\n",
    "sty.sat_rules = missing  # missing (for custom models below) or [:sat1, :sat2, :sat3]\n",
    "sty.custom_tglf_models = [\"sat3_em_d3d_azf-1_withnegD\"]\n",
    "sty.file_save_mode = :overwrite\n",
    "sty.release_workers_after_run = true # this is the default behavior and releases workers after running the study\n",
    "sty"
   ]
  },
  {
   "cell_type": "code",
   "execution_count": null,
   "id": "3b903794-8aca-4bd1-9e7c-738acad84ad7",
   "metadata": {
    "tags": []
   },
   "outputs": [],
   "source": [
    "# study is the actor equivalent of actors, here sty, act and outputs are kept of the workflow\n",
    "study = FUSE.StudyTGLFdb(sty, act) # it is possible to pass in keyword arguments to sty\n",
    "\n",
    "# instantiating the study will also setup the study i.e. FUSE.setup(study);"
   ]
  },
  {
   "cell_type": "code",
   "execution_count": null,
   "id": "bb93dc98-4766-4a44-9983-f23c8f54947f",
   "metadata": {},
   "outputs": [],
   "source": [
    "study = FUSE.setup(study)"
   ]
  },
  {
   "cell_type": "code",
   "execution_count": null,
   "id": "4d3741c5-6fc6-4d33-ad74-680a8de95aab",
   "metadata": {
    "tags": []
   },
   "outputs": [],
   "source": [
    "# for now you will have to import FUSE everywhere in your distributed computing\n",
    "using Distributed\n",
    "@everywhere import FUSE"
   ]
  },
  {
   "cell_type": "code",
   "execution_count": null,
   "id": "70c0d4f1-0af2-48ea-97b7-e394887ec394",
   "metadata": {
    "tags": []
   },
   "outputs": [],
   "source": [
    "study.act.ActorFluxMatcher.evolve_rotation = :flux_match\n",
    "study.act.ActorFluxMatcher.rho_transport = 0.1:0.05:0.75\n",
    "study.act.ActorFluxMatcher.max_iterations = 300\n",
    "study.act.ActorFluxMatcher.algorithm = :simple_dfsane\n",
    "study.act.ActorFluxMatcher.step_size = 1.0\n",
    "study.act.ActorFluxMatcher"
   ]
  },
  {
   "cell_type": "code",
   "execution_count": null,
   "id": "94ec7cfc-9324-47b8-b387-5b0b15800359",
   "metadata": {
    "scrolled": true,
    "tags": []
   },
   "outputs": [],
   "source": [
    "FUSE.run(study);   # runs the study, this also writes the dataframes\n",
    "\n",
    "# at the end of the run workers are released so you will have to setup again if you want to run more"
   ]
  },
  {
   "cell_type": "code",
   "execution_count": null,
   "id": "176195de-8c49-49ec-bdab-f30ff5e6bc2a",
   "metadata": {
    "tags": []
   },
   "outputs": [],
   "source": [
    "# data for this workflow is stored in a dictionary of dataframes study.dataframes_dict\n",
    "study.dataframes_dict[\"sat3_em_d3d_azf-1_withnegD\"]"
   ]
  },
  {
   "cell_type": "code",
   "execution_count": null,
   "id": "5640d434-e3e6-4d0e-979f-238c3846280a",
   "metadata": {
    "tags": []
   },
   "outputs": [],
   "source": [
    "# analyze the study results \n",
    "FUSE.analyze(study);"
   ]
  }
 ],
 "metadata": {
  "kernelspec": {
   "display_name": "Julia 1.11.6",
   "language": "julia",
   "name": "julia-1.11"
  },
  "language_info": {
   "file_extension": ".jl",
   "mimetype": "application/julia",
   "name": "julia",
   "version": "1.11.6"
  }
 },
 "nbformat": 4,
 "nbformat_minor": 5
}
